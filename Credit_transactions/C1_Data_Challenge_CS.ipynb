{
 "cells": [
  {
   "cell_type": "markdown",
   "metadata": {
    "id": "MN1_GHm3GbFm"
   },
   "source": [
    "# Capital One Data Science Challenge\n",
    "\n",
    "**Note**: \n",
    "- This notebook was distributed into four sections in order to answer the four required questions.\n",
    "- I worked in Google Colab with GPU-acceleration for this task. "
   ]
  },
  {
   "cell_type": "markdown",
   "metadata": {
    "id": "akgJPUZ2GbFw"
   },
   "source": [
    "## Table of Contents:\n",
    "\n",
    "* [Question 1: Load](#first-bullet)\n",
    "   - [Summary of Question 1](#sub1)\n",
    "\n",
    "* [Question 2: Plot](#second-bullet)\n",
    "  - [Summary of Question 2](#sub2)\n",
    "\n",
    "* [Question 3: Data Wrangling - Duplicate Transactions](#third-bullet)\n",
    "  - [I. Reversed transactions](#sub3)\n",
    "  - [II: Multi-swipe transactions](#sub4)\n",
    "  - [III: Additional analysis about either kind of transaction](#sub5)\n",
    "  - [Summary of Question 3](#sub6)\n",
    "  \n",
    "* [Question 4: Model](#fourth-bullet)\n",
    "  - [I: Feature Engineering](#sub7)\n",
    "  - [II: Build the classification model -- XGBoost](#sub8)\n",
    "  - [Summary of Question 3](#sub9)\n",
    "  \n",
    "* [Appendix of Question 4: Future work](#fifth-bullet)"
   ]
  },
  {
   "cell_type": "code",
   "execution_count": 1,
   "metadata": {
    "id": "S-X11f3fGkc_"
   },
   "outputs": [],
   "source": [
    "# ! pip install optuna"
   ]
  },
  {
   "cell_type": "code",
   "execution_count": 2,
   "metadata": {
    "id": "PcUFLL_SGbFx"
   },
   "outputs": [],
   "source": [
    "# load all pkgs\n",
    "\n",
    "# general libraries\n",
    "import sys, os, shutil\n",
    "import numpy as np\n",
    "import pandas as pd\n",
    "import itertools\n",
    "from collections import Counter\n",
    "from datetime import datetime, date\n",
    "import warnings\n",
    "warnings.simplefilter(action='ignore')\n",
    "\n",
    "# file management\n",
    "import zipfile\n",
    "import json\n",
    "\n",
    "# plotting libraries\n",
    "import matplotlib.pyplot as plt\n",
    "colors = plt.rcParams['axes.prop_cycle'].by_key()['color']\n",
    "import seaborn as sns\n",
    "palette = itertools.cycle(sns.color_palette())\n",
    "\n",
    "# machine learning libraries\n",
    "import sklearn\n",
    "from sklearn.model_selection import train_test_split\n",
    "from imblearn.over_sampling import SMOTE\n",
    "from imblearn.under_sampling import RandomUnderSampler\n",
    "from sklearn.preprocessing import StandardScaler\n",
    "from sklearn.metrics import roc_curve\n",
    "from sklearn.metrics import average_precision_score\n",
    "from sklearn.metrics import roc_auc_score, recall_score, accuracy_score, precision_score\n",
    "import xgboost as xgb\n",
    "from xgboost import plot_importance\n",
    "\n",
    "# optimization libraries\n",
    "import optuna"
   ]
  },
  {
   "cell_type": "code",
   "execution_count": 3,
   "metadata": {
    "colab": {
     "base_uri": "https://localhost:8080/"
    },
    "id": "9itQO6ppGbFx",
    "outputId": "a4d86751-02bb-49f5-8be9-9725237deecd"
   },
   "outputs": [
    {
     "name": "stdout",
     "output_type": "stream",
     "text": [
      "3.6.9 (default, Oct  8 2020, 12:12:24) \n",
      "[GCC 8.4.0]\n"
     ]
    }
   ],
   "source": [
    "print(sys.version)"
   ]
  },
  {
   "cell_type": "markdown",
   "metadata": {
    "id": "zc81ZoYYGbFz"
   },
   "source": [
    "## Question 1: Load <a class=\"anchor\" id=\"first-bullet\"></a>\n",
    "\n",
    "- Programmatically download and load into your favorite analytical tool the transactions data. This data is in line-delimited JSON format\n",
    "- Please describe the structure of the data. Number of records and fields in each record?\n",
    "- Please provide some additional basic summary statistics for each field. Be sure to include a count of null, minimum, maximum, and unique values where appropriate."
   ]
  },
  {
   "cell_type": "code",
   "execution_count": 4,
   "metadata": {
    "colab": {
     "base_uri": "https://localhost:8080/"
    },
    "id": "Uk0zCIavGbF0",
    "outputId": "7c775a94-ac6b-43c7-ac1f-1295cb6dca51"
   },
   "outputs": [
    {
     "name": "stdout",
     "output_type": "stream",
     "text": [
      "/content\n"
     ]
    }
   ],
   "source": [
    "! pwd"
   ]
  },
  {
   "cell_type": "code",
   "execution_count": 5,
   "metadata": {
    "colab": {
     "base_uri": "https://localhost:8080/"
    },
    "id": "1inaM_0rGbF0",
    "outputId": "39d8f54c-6d45-4597-842e-91ee1245f21b"
   },
   "outputs": [
    {
     "name": "stdout",
     "output_type": "stream",
     "text": [
      "fatal: destination path 'DS' already exists and is not an empty directory.\n"
     ]
    }
   ],
   "source": [
    "# download the dataset to current directory\n",
    "\n",
    "! git clone https://github.com/CapitalOneRecruiting/DS.git"
   ]
  },
  {
   "cell_type": "code",
   "execution_count": 6,
   "metadata": {
    "colab": {
     "base_uri": "https://localhost:8080/"
    },
    "id": "q0aoQVcqGbF0",
    "outputId": "1686279d-1bc2-49c7-c200-4a903cdeaa6a"
   },
   "outputs": [
    {
     "name": "stdout",
     "output_type": "stream",
     "text": [
      "File Name                                             Modified             Size\n",
      "transactions.txt                               2020-01-07 21:32:42    609937737\n",
      "File extracted.\n"
     ]
    }
   ],
   "source": [
    "# Extract zip file contents\n",
    "\n",
    "with zipfile.ZipFile('./DS/transactions.zip', 'r') as zip_tran:\n",
    "    # show files inside the zip folder\n",
    "    zip_tran.printdir()  \n",
    "    # extract the .txt file from the zip folder\n",
    "    zip_tran.extractall()\n",
    "    print('File extracted.')"
   ]
  },
  {
   "cell_type": "code",
   "execution_count": 7,
   "metadata": {
    "colab": {
     "base_uri": "https://localhost:8080/"
    },
    "id": "Jwg28ZcIGbF1",
    "outputId": "885726d6-a6a8-4b59-df61-1a0d2e2e712d"
   },
   "outputs": [
    {
     "name": "stdout",
     "output_type": "stream",
     "text": [
      "File loading finished.\n",
      "CPU times: user 14 s, sys: 1.58 s, total: 15.6 s\n",
      "Wall time: 15.5 s\n"
     ]
    }
   ],
   "source": [
    "%%time\n",
    "\n",
    "# A memory-effective way to load the json format data into DataFrame\n",
    "file_list = []  # initialize a list container\n",
    "with open('transactions.txt', 'r') as json_tran:\n",
    "    for line in json_tran:\n",
    "        tran_data = json.loads(line)  # load each line-delimited JSON format data\n",
    "        file_list.append(tran_data)\n",
    "    print(\"File loading finished.\")\n",
    "\n",
    "# transfer to dataframe\n",
    "df = pd.DataFrame(file_list)"
   ]
  },
  {
   "cell_type": "code",
   "execution_count": 8,
   "metadata": {
    "id": "I95YoaCBGbF1"
   },
   "outputs": [],
   "source": [
    "# df to csv for reuse\n",
    "# in principle, we should always keep an original version of dataset. However for this work, \n",
    "# I'll use the loaded df for any following analysis in order to save memory usage\n",
    "\n",
    "# df.to_csv('./c1_credit_transaction.csv', index=False)\n",
    "# df = pd.read_csv('./c1_credit_transaction.csv', keep_default_na=False)"
   ]
  },
  {
   "cell_type": "code",
   "execution_count": 9,
   "metadata": {
    "colab": {
     "base_uri": "https://localhost:8080/"
    },
    "id": "t-i3wXdUGbF2",
    "outputId": "5f08216a-c7d4-48a3-ef56-00f427244642"
   },
   "outputs": [
    {
     "name": "stdout",
     "output_type": "stream",
     "text": [
      "The total number of records = 786363; the total number of fields = 29.\n"
     ]
    }
   ],
   "source": [
    "# describe the structure of the data; number of records and fields in each record\n",
    "\n",
    "print(f\"The total number of records = {df.shape[0]}; the total number of fields = {df.shape[1]}.\")\n",
    "# print()\n",
    "# print(f\"Those fields are: {df.columns}.\")"
   ]
  },
  {
   "cell_type": "code",
   "execution_count": 10,
   "metadata": {
    "id": "R4Ylho-NGbF3"
   },
   "outputs": [],
   "source": [
    "# explore the type of each fields as printout above\n",
    "\n",
    "def fields_type_classifier(df):\n",
    "    \"\"\" Helper function to classify the type of fields for a given df into three categories:\n",
    "    numeric(e.g. float64), bool, or object(e.g. string information).\n",
    "    Params:\n",
    "        df: dataframe object\n",
    "    Return:\n",
    "        fields_o_list, fields_b_list, fields_n_list: lists of three field categories\n",
    "    \"\"\"\n",
    "    fields_o_list = []  # list object to store fields classified as 'object'\n",
    "    fields_b_list = []  # list object to store fields classified as boolen value\n",
    "    fields_n_list = []  # list object to store fields classified as float\n",
    "    \n",
    "    # begin classification\n",
    "    for field in df.columns:\n",
    "        if df[field].dtype == 'O':\n",
    "            fields_o_list.append(field)\n",
    "        elif df[field].dtype == 'bool':\n",
    "            fields_b_list.append(field)\n",
    "        elif df[field].dtype in ['int16', 'int32', 'int64', 'float16', 'float32', 'float64']:\n",
    "            fields_n_list.append(field)\n",
    "        else:\n",
    "            raise Exception(f\"The field {field} can't be classified as any type!\")\n",
    "            \n",
    "    # final check of results\n",
    "    if len(fields_o_list) + len(fields_b_list) + len(fields_n_list) == len(df.columns):\n",
    "        print(\"All fields were classified.\")\n",
    "        \n",
    "    return fields_o_list, fields_b_list, fields_n_list"
   ]
  },
  {
   "cell_type": "code",
   "execution_count": 11,
   "metadata": {
    "colab": {
     "base_uri": "https://localhost:8080/"
    },
    "id": "uwPTdnx3GbF3",
    "outputId": "1d127150-fc5a-41ac-be4e-b4dfed3bdf19"
   },
   "outputs": [
    {
     "name": "stdout",
     "output_type": "stream",
     "text": [
      "All fields were classified.\n",
      "\n",
      "1. Fields classified as 'object' type are: ['accountNumber', 'customerId', 'transactionDateTime', 'merchantName', 'acqCountry', 'merchantCountryCode', 'posEntryMode', 'posConditionCode', 'merchantCategoryCode', 'currentExpDate', 'accountOpenDate', 'dateOfLastAddressChange', 'cardCVV', 'enteredCVV', 'cardLast4Digits', 'transactionType', 'echoBuffer', 'merchantCity', 'merchantState', 'merchantZip', 'posOnPremises', 'recurringAuthInd'].\n",
      "---------------------------------------------------------------------------------------------------------\n",
      "2. Fields classified as 'numeric' type are: ['creditLimit', 'availableMoney', 'transactionAmount', 'currentBalance'].\n",
      "---------------------------------------------------------------------------------------------------------\n",
      "3. Fields classified as 'bool' type are: ['cardPresent', 'expirationDateKeyInMatch', 'isFraud'].\n"
     ]
    }
   ],
   "source": [
    "fields_o_list, fields_b_list, fields_n_list = fields_type_classifier(df)\n",
    "print()\n",
    "print(f\"1. Fields classified as 'object' type are: {fields_o_list}.\")\n",
    "print(\"---------------------------------------------------------------------------------------------------------\")\n",
    "print(f\"2. Fields classified as 'numeric' type are: {fields_n_list}.\")\n",
    "print(\"---------------------------------------------------------------------------------------------------------\")\n",
    "print(f\"3. Fields classified as 'bool' type are: {fields_b_list}.\")"
   ]
  },
  {
   "cell_type": "code",
   "execution_count": 12,
   "metadata": {
    "colab": {
     "base_uri": "https://localhost:8080/"
    },
    "id": "iUDPdVBKGbF5",
    "outputId": "1e11b04f-f773-4c3a-d7d4-07682ee6d021"
   },
   "outputs": [
    {
     "name": "stdout",
     "output_type": "stream",
     "text": [
      "The total number of unique id in the dataset = 5000 by accountNumber.\n",
      "The total number of unique id in the dataset = 5000 by customerId.\n"
     ]
    }
   ],
   "source": [
    "# check the unique values of the df\n",
    "# here base on domain knowledge, It is hypothesized that two fields accountNumber or customerId \n",
    "# should be the primary key\n",
    "\n",
    "print(f\"The total number of unique id in the dataset = {df.accountNumber.nunique()} by accountNumber.\")\n",
    "print(f\"The total number of unique id in the dataset = {df.customerId.nunique()} by customerId.\")"
   ]
  },
  {
   "cell_type": "code",
   "execution_count": 13,
   "metadata": {
    "colab": {
     "base_uri": "https://localhost:8080/",
     "height": 241
    },
    "id": "nSm4-Y0AGbF6",
    "outputId": "4d07a8f8-34a8-4d5d-9685-b90874358307"
   },
   "outputs": [
    {
     "data": {
      "text/html": [
       "<div>\n",
       "<style scoped>\n",
       "    .dataframe tbody tr th:only-of-type {\n",
       "        vertical-align: middle;\n",
       "    }\n",
       "\n",
       "    .dataframe tbody tr th {\n",
       "        vertical-align: top;\n",
       "    }\n",
       "\n",
       "    .dataframe thead th {\n",
       "        text-align: right;\n",
       "    }\n",
       "</style>\n",
       "<table border=\"1\" class=\"dataframe\">\n",
       "  <thead>\n",
       "    <tr style=\"text-align: right;\">\n",
       "      <th></th>\n",
       "      <th>accountNumber</th>\n",
       "      <th>customerId</th>\n",
       "      <th>creditLimit</th>\n",
       "      <th>availableMoney</th>\n",
       "      <th>transactionDateTime</th>\n",
       "      <th>transactionAmount</th>\n",
       "      <th>merchantName</th>\n",
       "      <th>acqCountry</th>\n",
       "      <th>merchantCountryCode</th>\n",
       "      <th>posEntryMode</th>\n",
       "      <th>posConditionCode</th>\n",
       "      <th>merchantCategoryCode</th>\n",
       "      <th>currentExpDate</th>\n",
       "      <th>accountOpenDate</th>\n",
       "      <th>dateOfLastAddressChange</th>\n",
       "      <th>cardCVV</th>\n",
       "      <th>enteredCVV</th>\n",
       "      <th>cardLast4Digits</th>\n",
       "      <th>transactionType</th>\n",
       "      <th>echoBuffer</th>\n",
       "      <th>currentBalance</th>\n",
       "      <th>merchantCity</th>\n",
       "      <th>merchantState</th>\n",
       "      <th>merchantZip</th>\n",
       "      <th>cardPresent</th>\n",
       "      <th>posOnPremises</th>\n",
       "      <th>recurringAuthInd</th>\n",
       "      <th>expirationDateKeyInMatch</th>\n",
       "      <th>isFraud</th>\n",
       "    </tr>\n",
       "  </thead>\n",
       "  <tbody>\n",
       "    <tr>\n",
       "      <th>0</th>\n",
       "      <td>737265056</td>\n",
       "      <td>737265056</td>\n",
       "      <td>5000.0</td>\n",
       "      <td>5000.0</td>\n",
       "      <td>2016-08-13T14:27:32</td>\n",
       "      <td>98.55</td>\n",
       "      <td>Uber</td>\n",
       "      <td>US</td>\n",
       "      <td>US</td>\n",
       "      <td>02</td>\n",
       "      <td>01</td>\n",
       "      <td>rideshare</td>\n",
       "      <td>06/2023</td>\n",
       "      <td>2015-03-14</td>\n",
       "      <td>2015-03-14</td>\n",
       "      <td>414</td>\n",
       "      <td>414</td>\n",
       "      <td>1803</td>\n",
       "      <td>PURCHASE</td>\n",
       "      <td></td>\n",
       "      <td>0.0</td>\n",
       "      <td></td>\n",
       "      <td></td>\n",
       "      <td></td>\n",
       "      <td>False</td>\n",
       "      <td></td>\n",
       "      <td></td>\n",
       "      <td>False</td>\n",
       "      <td>False</td>\n",
       "    </tr>\n",
       "    <tr>\n",
       "      <th>1</th>\n",
       "      <td>737265056</td>\n",
       "      <td>737265056</td>\n",
       "      <td>5000.0</td>\n",
       "      <td>5000.0</td>\n",
       "      <td>2016-10-11T05:05:54</td>\n",
       "      <td>74.51</td>\n",
       "      <td>AMC #191138</td>\n",
       "      <td>US</td>\n",
       "      <td>US</td>\n",
       "      <td>09</td>\n",
       "      <td>01</td>\n",
       "      <td>entertainment</td>\n",
       "      <td>02/2024</td>\n",
       "      <td>2015-03-14</td>\n",
       "      <td>2015-03-14</td>\n",
       "      <td>486</td>\n",
       "      <td>486</td>\n",
       "      <td>767</td>\n",
       "      <td>PURCHASE</td>\n",
       "      <td></td>\n",
       "      <td>0.0</td>\n",
       "      <td></td>\n",
       "      <td></td>\n",
       "      <td></td>\n",
       "      <td>True</td>\n",
       "      <td></td>\n",
       "      <td></td>\n",
       "      <td>False</td>\n",
       "      <td>False</td>\n",
       "    </tr>\n",
       "    <tr>\n",
       "      <th>2</th>\n",
       "      <td>737265056</td>\n",
       "      <td>737265056</td>\n",
       "      <td>5000.0</td>\n",
       "      <td>5000.0</td>\n",
       "      <td>2016-11-08T09:18:39</td>\n",
       "      <td>7.47</td>\n",
       "      <td>Play Store</td>\n",
       "      <td>US</td>\n",
       "      <td>US</td>\n",
       "      <td>09</td>\n",
       "      <td>01</td>\n",
       "      <td>mobileapps</td>\n",
       "      <td>08/2025</td>\n",
       "      <td>2015-03-14</td>\n",
       "      <td>2015-03-14</td>\n",
       "      <td>486</td>\n",
       "      <td>486</td>\n",
       "      <td>767</td>\n",
       "      <td>PURCHASE</td>\n",
       "      <td></td>\n",
       "      <td>0.0</td>\n",
       "      <td></td>\n",
       "      <td></td>\n",
       "      <td></td>\n",
       "      <td>False</td>\n",
       "      <td></td>\n",
       "      <td></td>\n",
       "      <td>False</td>\n",
       "      <td>False</td>\n",
       "    </tr>\n",
       "    <tr>\n",
       "      <th>3</th>\n",
       "      <td>737265056</td>\n",
       "      <td>737265056</td>\n",
       "      <td>5000.0</td>\n",
       "      <td>5000.0</td>\n",
       "      <td>2016-12-10T02:14:50</td>\n",
       "      <td>7.47</td>\n",
       "      <td>Play Store</td>\n",
       "      <td>US</td>\n",
       "      <td>US</td>\n",
       "      <td>09</td>\n",
       "      <td>01</td>\n",
       "      <td>mobileapps</td>\n",
       "      <td>08/2025</td>\n",
       "      <td>2015-03-14</td>\n",
       "      <td>2015-03-14</td>\n",
       "      <td>486</td>\n",
       "      <td>486</td>\n",
       "      <td>767</td>\n",
       "      <td>PURCHASE</td>\n",
       "      <td></td>\n",
       "      <td>0.0</td>\n",
       "      <td></td>\n",
       "      <td></td>\n",
       "      <td></td>\n",
       "      <td>False</td>\n",
       "      <td></td>\n",
       "      <td></td>\n",
       "      <td>False</td>\n",
       "      <td>False</td>\n",
       "    </tr>\n",
       "    <tr>\n",
       "      <th>4</th>\n",
       "      <td>830329091</td>\n",
       "      <td>830329091</td>\n",
       "      <td>5000.0</td>\n",
       "      <td>5000.0</td>\n",
       "      <td>2016-03-24T21:04:46</td>\n",
       "      <td>71.18</td>\n",
       "      <td>Tim Hortons #947751</td>\n",
       "      <td>US</td>\n",
       "      <td>US</td>\n",
       "      <td>02</td>\n",
       "      <td>01</td>\n",
       "      <td>fastfood</td>\n",
       "      <td>10/2029</td>\n",
       "      <td>2015-08-06</td>\n",
       "      <td>2015-08-06</td>\n",
       "      <td>885</td>\n",
       "      <td>885</td>\n",
       "      <td>3143</td>\n",
       "      <td>PURCHASE</td>\n",
       "      <td></td>\n",
       "      <td>0.0</td>\n",
       "      <td></td>\n",
       "      <td></td>\n",
       "      <td></td>\n",
       "      <td>True</td>\n",
       "      <td></td>\n",
       "      <td></td>\n",
       "      <td>False</td>\n",
       "      <td>False</td>\n",
       "    </tr>\n",
       "  </tbody>\n",
       "</table>\n",
       "</div>"
      ],
      "text/plain": [
       "  accountNumber customerId  ...  expirationDateKeyInMatch  isFraud\n",
       "0     737265056  737265056  ...                     False    False\n",
       "1     737265056  737265056  ...                     False    False\n",
       "2     737265056  737265056  ...                     False    False\n",
       "3     737265056  737265056  ...                     False    False\n",
       "4     830329091  830329091  ...                     False    False\n",
       "\n",
       "[5 rows x 29 columns]"
      ]
     },
     "execution_count": 13,
     "metadata": {
      "tags": []
     },
     "output_type": "execute_result"
    }
   ],
   "source": [
    "# show the top 5 records of the df\n",
    "df.head()"
   ]
  },
  {
   "cell_type": "code",
   "execution_count": 14,
   "metadata": {
    "colab": {
     "base_uri": "https://localhost:8080/"
    },
    "id": "Hikqj-ZrGbF6",
    "outputId": "e66287d4-f9dd-4099-e9b6-9b6360a7036e"
   },
   "outputs": [
    {
     "name": "stdout",
     "output_type": "stream",
     "text": [
      "Field accountNumber has missing value number = 0.\n",
      "Field customerId has missing value number = 0.\n",
      "Field creditLimit has missing value number = 0.\n",
      "Field availableMoney has missing value number = 0.\n",
      "Field transactionDateTime has missing value number = 0.\n",
      "Field transactionAmount has missing value number = 0.\n",
      "Field merchantName has missing value number = 0.\n",
      "Field acqCountry has missing value number = 0.\n",
      "Field merchantCountryCode has missing value number = 0.\n",
      "Field posEntryMode has missing value number = 0.\n",
      "Field posConditionCode has missing value number = 0.\n",
      "Field merchantCategoryCode has missing value number = 0.\n",
      "Field currentExpDate has missing value number = 0.\n",
      "Field accountOpenDate has missing value number = 0.\n",
      "Field dateOfLastAddressChange has missing value number = 0.\n",
      "Field cardCVV has missing value number = 0.\n",
      "Field enteredCVV has missing value number = 0.\n",
      "Field cardLast4Digits has missing value number = 0.\n",
      "Field transactionType has missing value number = 0.\n",
      "Field echoBuffer has missing value number = 0.\n",
      "Field currentBalance has missing value number = 0.\n",
      "Field merchantCity has missing value number = 0.\n",
      "Field merchantState has missing value number = 0.\n",
      "Field merchantZip has missing value number = 0.\n",
      "Field cardPresent has missing value number = 0.\n",
      "Field posOnPremises has missing value number = 0.\n",
      "Field recurringAuthInd has missing value number = 0.\n",
      "Field expirationDateKeyInMatch has missing value number = 0.\n",
      "Field isFraud has missing value number = 0.\n"
     ]
    }
   ],
   "source": [
    "# check the missing value condition in each field\n",
    "for field in df.columns:\n",
    "    print(f\"Field {field} has missing value number = {df[field].isnull().sum()}.\")"
   ]
  },
  {
   "cell_type": "markdown",
   "metadata": {
    "id": "3__9kkSZGbF6"
   },
   "source": [
    "**My comment**: The missing value checking results above is clearly against my initial observation of the dataframe. Some fields (e.g. merchantCity, merchantState, merchantZip) contain \"null value\" according to the top five records of the dataframe. It is hypothesized that those \"null value\" are stored as \"\"(a.k.a. empty string ) format in the dataframe. Thus for next step, I'll replace those empty strings by NaN value."
   ]
  },
  {
   "cell_type": "code",
   "execution_count": 15,
   "metadata": {
    "colab": {
     "base_uri": "https://localhost:8080/"
    },
    "id": "N2To9Ru6GbF6",
    "outputId": "a954c483-20e8-4405-a29d-99306aae20f8"
   },
   "outputs": [
    {
     "name": "stdout",
     "output_type": "stream",
     "text": [
      "NaNs replacement done.\n"
     ]
    }
   ],
   "source": [
    "# Apply replacement of the empty strings by NaNs\n",
    "for field in df.columns:\n",
    "    df[field] = df[field].map(lambda x: np.nan if x =='' else x)\n",
    "print(\"NaNs replacement done.\")"
   ]
  },
  {
   "cell_type": "code",
   "execution_count": 16,
   "metadata": {
    "colab": {
     "base_uri": "https://localhost:8080/"
    },
    "id": "f1BFIZ4uGbF7",
    "outputId": "5367a149-0b93-4238-e719-d2469b8e4d2f"
   },
   "outputs": [
    {
     "name": "stdout",
     "output_type": "stream",
     "text": [
      "Field accountNumber has missing value number = 0.\n",
      "Field customerId has missing value number = 0.\n",
      "Field creditLimit has missing value number = 0.\n",
      "Field availableMoney has missing value number = 0.\n",
      "Field transactionDateTime has missing value number = 0.\n",
      "Field transactionAmount has missing value number = 0.\n",
      "Field merchantName has missing value number = 0.\n",
      "Field acqCountry has missing value number = 4562.\n",
      "Field merchantCountryCode has missing value number = 724.\n",
      "Field posEntryMode has missing value number = 4054.\n",
      "Field posConditionCode has missing value number = 409.\n",
      "Field merchantCategoryCode has missing value number = 0.\n",
      "Field currentExpDate has missing value number = 0.\n",
      "Field accountOpenDate has missing value number = 0.\n",
      "Field dateOfLastAddressChange has missing value number = 0.\n",
      "Field cardCVV has missing value number = 0.\n",
      "Field enteredCVV has missing value number = 0.\n",
      "Field cardLast4Digits has missing value number = 0.\n",
      "Field transactionType has missing value number = 698.\n",
      "Field echoBuffer has missing value number = 786363.\n",
      "Field currentBalance has missing value number = 0.\n",
      "Field merchantCity has missing value number = 786363.\n",
      "Field merchantState has missing value number = 786363.\n",
      "Field merchantZip has missing value number = 786363.\n",
      "Field cardPresent has missing value number = 0.\n",
      "Field posOnPremises has missing value number = 786363.\n",
      "Field recurringAuthInd has missing value number = 786363.\n",
      "Field expirationDateKeyInMatch has missing value number = 0.\n",
      "Field isFraud has missing value number = 0.\n"
     ]
    }
   ],
   "source": [
    "# let do a second round of missing value checking\n",
    "\n",
    "fields_wo_mv_list = []  # fields without missing value\n",
    "fields_w_mv_list = []  # fields with some missing value\n",
    "fields_all_mv_list = []  # fields totally empty\n",
    "\n",
    "for field in df.columns:\n",
    "    if df[field].isnull().sum() == 0:\n",
    "        fields_wo_mv_list.append(field)\n",
    "    elif df[field].isnull().sum() > 0 and df[field].isnull().sum() < df.shape[0]:\n",
    "        fields_w_mv_list.append(field)\n",
    "    else:\n",
    "        fields_all_mv_list.append(field)\n",
    "    print(f\"Field {field} has missing value number = {df[field].isnull().sum()}.\")"
   ]
  },
  {
   "cell_type": "code",
   "execution_count": 17,
   "metadata": {
    "colab": {
     "base_uri": "https://localhost:8080/",
     "height": 241
    },
    "id": "foPquw1dGbF8",
    "outputId": "ce58bc36-fdf4-4265-df51-559357c60ea5"
   },
   "outputs": [
    {
     "data": {
      "text/html": [
       "<div>\n",
       "<style scoped>\n",
       "    .dataframe tbody tr th:only-of-type {\n",
       "        vertical-align: middle;\n",
       "    }\n",
       "\n",
       "    .dataframe tbody tr th {\n",
       "        vertical-align: top;\n",
       "    }\n",
       "\n",
       "    .dataframe thead th {\n",
       "        text-align: right;\n",
       "    }\n",
       "</style>\n",
       "<table border=\"1\" class=\"dataframe\">\n",
       "  <thead>\n",
       "    <tr style=\"text-align: right;\">\n",
       "      <th></th>\n",
       "      <th>accountNumber</th>\n",
       "      <th>customerId</th>\n",
       "      <th>creditLimit</th>\n",
       "      <th>availableMoney</th>\n",
       "      <th>transactionDateTime</th>\n",
       "      <th>transactionAmount</th>\n",
       "      <th>merchantName</th>\n",
       "      <th>acqCountry</th>\n",
       "      <th>merchantCountryCode</th>\n",
       "      <th>posEntryMode</th>\n",
       "      <th>posConditionCode</th>\n",
       "      <th>merchantCategoryCode</th>\n",
       "      <th>currentExpDate</th>\n",
       "      <th>accountOpenDate</th>\n",
       "      <th>dateOfLastAddressChange</th>\n",
       "      <th>cardCVV</th>\n",
       "      <th>enteredCVV</th>\n",
       "      <th>cardLast4Digits</th>\n",
       "      <th>transactionType</th>\n",
       "      <th>echoBuffer</th>\n",
       "      <th>currentBalance</th>\n",
       "      <th>merchantCity</th>\n",
       "      <th>merchantState</th>\n",
       "      <th>merchantZip</th>\n",
       "      <th>cardPresent</th>\n",
       "      <th>posOnPremises</th>\n",
       "      <th>recurringAuthInd</th>\n",
       "      <th>expirationDateKeyInMatch</th>\n",
       "      <th>isFraud</th>\n",
       "    </tr>\n",
       "  </thead>\n",
       "  <tbody>\n",
       "    <tr>\n",
       "      <th>0</th>\n",
       "      <td>737265056</td>\n",
       "      <td>737265056</td>\n",
       "      <td>5000.0</td>\n",
       "      <td>5000.0</td>\n",
       "      <td>2016-08-13T14:27:32</td>\n",
       "      <td>98.55</td>\n",
       "      <td>Uber</td>\n",
       "      <td>US</td>\n",
       "      <td>US</td>\n",
       "      <td>02</td>\n",
       "      <td>01</td>\n",
       "      <td>rideshare</td>\n",
       "      <td>06/2023</td>\n",
       "      <td>2015-03-14</td>\n",
       "      <td>2015-03-14</td>\n",
       "      <td>414</td>\n",
       "      <td>414</td>\n",
       "      <td>1803</td>\n",
       "      <td>PURCHASE</td>\n",
       "      <td>NaN</td>\n",
       "      <td>0.0</td>\n",
       "      <td>NaN</td>\n",
       "      <td>NaN</td>\n",
       "      <td>NaN</td>\n",
       "      <td>False</td>\n",
       "      <td>NaN</td>\n",
       "      <td>NaN</td>\n",
       "      <td>False</td>\n",
       "      <td>False</td>\n",
       "    </tr>\n",
       "    <tr>\n",
       "      <th>1</th>\n",
       "      <td>737265056</td>\n",
       "      <td>737265056</td>\n",
       "      <td>5000.0</td>\n",
       "      <td>5000.0</td>\n",
       "      <td>2016-10-11T05:05:54</td>\n",
       "      <td>74.51</td>\n",
       "      <td>AMC #191138</td>\n",
       "      <td>US</td>\n",
       "      <td>US</td>\n",
       "      <td>09</td>\n",
       "      <td>01</td>\n",
       "      <td>entertainment</td>\n",
       "      <td>02/2024</td>\n",
       "      <td>2015-03-14</td>\n",
       "      <td>2015-03-14</td>\n",
       "      <td>486</td>\n",
       "      <td>486</td>\n",
       "      <td>767</td>\n",
       "      <td>PURCHASE</td>\n",
       "      <td>NaN</td>\n",
       "      <td>0.0</td>\n",
       "      <td>NaN</td>\n",
       "      <td>NaN</td>\n",
       "      <td>NaN</td>\n",
       "      <td>True</td>\n",
       "      <td>NaN</td>\n",
       "      <td>NaN</td>\n",
       "      <td>False</td>\n",
       "      <td>False</td>\n",
       "    </tr>\n",
       "    <tr>\n",
       "      <th>2</th>\n",
       "      <td>737265056</td>\n",
       "      <td>737265056</td>\n",
       "      <td>5000.0</td>\n",
       "      <td>5000.0</td>\n",
       "      <td>2016-11-08T09:18:39</td>\n",
       "      <td>7.47</td>\n",
       "      <td>Play Store</td>\n",
       "      <td>US</td>\n",
       "      <td>US</td>\n",
       "      <td>09</td>\n",
       "      <td>01</td>\n",
       "      <td>mobileapps</td>\n",
       "      <td>08/2025</td>\n",
       "      <td>2015-03-14</td>\n",
       "      <td>2015-03-14</td>\n",
       "      <td>486</td>\n",
       "      <td>486</td>\n",
       "      <td>767</td>\n",
       "      <td>PURCHASE</td>\n",
       "      <td>NaN</td>\n",
       "      <td>0.0</td>\n",
       "      <td>NaN</td>\n",
       "      <td>NaN</td>\n",
       "      <td>NaN</td>\n",
       "      <td>False</td>\n",
       "      <td>NaN</td>\n",
       "      <td>NaN</td>\n",
       "      <td>False</td>\n",
       "      <td>False</td>\n",
       "    </tr>\n",
       "    <tr>\n",
       "      <th>3</th>\n",
       "      <td>737265056</td>\n",
       "      <td>737265056</td>\n",
       "      <td>5000.0</td>\n",
       "      <td>5000.0</td>\n",
       "      <td>2016-12-10T02:14:50</td>\n",
       "      <td>7.47</td>\n",
       "      <td>Play Store</td>\n",
       "      <td>US</td>\n",
       "      <td>US</td>\n",
       "      <td>09</td>\n",
       "      <td>01</td>\n",
       "      <td>mobileapps</td>\n",
       "      <td>08/2025</td>\n",
       "      <td>2015-03-14</td>\n",
       "      <td>2015-03-14</td>\n",
       "      <td>486</td>\n",
       "      <td>486</td>\n",
       "      <td>767</td>\n",
       "      <td>PURCHASE</td>\n",
       "      <td>NaN</td>\n",
       "      <td>0.0</td>\n",
       "      <td>NaN</td>\n",
       "      <td>NaN</td>\n",
       "      <td>NaN</td>\n",
       "      <td>False</td>\n",
       "      <td>NaN</td>\n",
       "      <td>NaN</td>\n",
       "      <td>False</td>\n",
       "      <td>False</td>\n",
       "    </tr>\n",
       "    <tr>\n",
       "      <th>4</th>\n",
       "      <td>830329091</td>\n",
       "      <td>830329091</td>\n",
       "      <td>5000.0</td>\n",
       "      <td>5000.0</td>\n",
       "      <td>2016-03-24T21:04:46</td>\n",
       "      <td>71.18</td>\n",
       "      <td>Tim Hortons #947751</td>\n",
       "      <td>US</td>\n",
       "      <td>US</td>\n",
       "      <td>02</td>\n",
       "      <td>01</td>\n",
       "      <td>fastfood</td>\n",
       "      <td>10/2029</td>\n",
       "      <td>2015-08-06</td>\n",
       "      <td>2015-08-06</td>\n",
       "      <td>885</td>\n",
       "      <td>885</td>\n",
       "      <td>3143</td>\n",
       "      <td>PURCHASE</td>\n",
       "      <td>NaN</td>\n",
       "      <td>0.0</td>\n",
       "      <td>NaN</td>\n",
       "      <td>NaN</td>\n",
       "      <td>NaN</td>\n",
       "      <td>True</td>\n",
       "      <td>NaN</td>\n",
       "      <td>NaN</td>\n",
       "      <td>False</td>\n",
       "      <td>False</td>\n",
       "    </tr>\n",
       "  </tbody>\n",
       "</table>\n",
       "</div>"
      ],
      "text/plain": [
       "  accountNumber customerId  ...  expirationDateKeyInMatch  isFraud\n",
       "0     737265056  737265056  ...                     False    False\n",
       "1     737265056  737265056  ...                     False    False\n",
       "2     737265056  737265056  ...                     False    False\n",
       "3     737265056  737265056  ...                     False    False\n",
       "4     830329091  830329091  ...                     False    False\n",
       "\n",
       "[5 rows x 29 columns]"
      ]
     },
     "execution_count": 17,
     "metadata": {
      "tags": []
     },
     "output_type": "execute_result"
    }
   ],
   "source": [
    "df.head()"
   ]
  },
  {
   "cell_type": "code",
   "execution_count": 18,
   "metadata": {
    "colab": {
     "base_uri": "https://localhost:8080/",
     "height": 297
    },
    "id": "9Ehc7TsAGbF8",
    "outputId": "64b74c41-0129-49c6-db3f-220d10f1190c",
    "scrolled": true
   },
   "outputs": [
    {
     "data": {
      "text/html": [
       "<div>\n",
       "<style scoped>\n",
       "    .dataframe tbody tr th:only-of-type {\n",
       "        vertical-align: middle;\n",
       "    }\n",
       "\n",
       "    .dataframe tbody tr th {\n",
       "        vertical-align: top;\n",
       "    }\n",
       "\n",
       "    .dataframe thead th {\n",
       "        text-align: right;\n",
       "    }\n",
       "</style>\n",
       "<table border=\"1\" class=\"dataframe\">\n",
       "  <thead>\n",
       "    <tr style=\"text-align: right;\">\n",
       "      <th></th>\n",
       "      <th>creditLimit</th>\n",
       "      <th>availableMoney</th>\n",
       "      <th>transactionAmount</th>\n",
       "      <th>echoBuffer</th>\n",
       "      <th>currentBalance</th>\n",
       "      <th>merchantCity</th>\n",
       "      <th>merchantState</th>\n",
       "      <th>merchantZip</th>\n",
       "      <th>posOnPremises</th>\n",
       "      <th>recurringAuthInd</th>\n",
       "    </tr>\n",
       "  </thead>\n",
       "  <tbody>\n",
       "    <tr>\n",
       "      <th>count</th>\n",
       "      <td>786363.000000</td>\n",
       "      <td>786363.000000</td>\n",
       "      <td>786363.000000</td>\n",
       "      <td>0.0</td>\n",
       "      <td>786363.000000</td>\n",
       "      <td>0.0</td>\n",
       "      <td>0.0</td>\n",
       "      <td>0.0</td>\n",
       "      <td>0.0</td>\n",
       "      <td>0.0</td>\n",
       "    </tr>\n",
       "    <tr>\n",
       "      <th>mean</th>\n",
       "      <td>10759.464459</td>\n",
       "      <td>6250.725369</td>\n",
       "      <td>136.985791</td>\n",
       "      <td>NaN</td>\n",
       "      <td>4508.739089</td>\n",
       "      <td>NaN</td>\n",
       "      <td>NaN</td>\n",
       "      <td>NaN</td>\n",
       "      <td>NaN</td>\n",
       "      <td>NaN</td>\n",
       "    </tr>\n",
       "    <tr>\n",
       "      <th>std</th>\n",
       "      <td>11636.174890</td>\n",
       "      <td>8880.783989</td>\n",
       "      <td>147.725569</td>\n",
       "      <td>NaN</td>\n",
       "      <td>6457.442068</td>\n",
       "      <td>NaN</td>\n",
       "      <td>NaN</td>\n",
       "      <td>NaN</td>\n",
       "      <td>NaN</td>\n",
       "      <td>NaN</td>\n",
       "    </tr>\n",
       "    <tr>\n",
       "      <th>min</th>\n",
       "      <td>250.000000</td>\n",
       "      <td>-1005.630000</td>\n",
       "      <td>0.000000</td>\n",
       "      <td>NaN</td>\n",
       "      <td>0.000000</td>\n",
       "      <td>NaN</td>\n",
       "      <td>NaN</td>\n",
       "      <td>NaN</td>\n",
       "      <td>NaN</td>\n",
       "      <td>NaN</td>\n",
       "    </tr>\n",
       "    <tr>\n",
       "      <th>25%</th>\n",
       "      <td>5000.000000</td>\n",
       "      <td>1077.420000</td>\n",
       "      <td>33.650000</td>\n",
       "      <td>NaN</td>\n",
       "      <td>689.910000</td>\n",
       "      <td>NaN</td>\n",
       "      <td>NaN</td>\n",
       "      <td>NaN</td>\n",
       "      <td>NaN</td>\n",
       "      <td>NaN</td>\n",
       "    </tr>\n",
       "    <tr>\n",
       "      <th>50%</th>\n",
       "      <td>7500.000000</td>\n",
       "      <td>3184.860000</td>\n",
       "      <td>87.900000</td>\n",
       "      <td>NaN</td>\n",
       "      <td>2451.760000</td>\n",
       "      <td>NaN</td>\n",
       "      <td>NaN</td>\n",
       "      <td>NaN</td>\n",
       "      <td>NaN</td>\n",
       "      <td>NaN</td>\n",
       "    </tr>\n",
       "    <tr>\n",
       "      <th>75%</th>\n",
       "      <td>15000.000000</td>\n",
       "      <td>7500.000000</td>\n",
       "      <td>191.480000</td>\n",
       "      <td>NaN</td>\n",
       "      <td>5291.095000</td>\n",
       "      <td>NaN</td>\n",
       "      <td>NaN</td>\n",
       "      <td>NaN</td>\n",
       "      <td>NaN</td>\n",
       "      <td>NaN</td>\n",
       "    </tr>\n",
       "    <tr>\n",
       "      <th>max</th>\n",
       "      <td>50000.000000</td>\n",
       "      <td>50000.000000</td>\n",
       "      <td>2011.540000</td>\n",
       "      <td>NaN</td>\n",
       "      <td>47498.810000</td>\n",
       "      <td>NaN</td>\n",
       "      <td>NaN</td>\n",
       "      <td>NaN</td>\n",
       "      <td>NaN</td>\n",
       "      <td>NaN</td>\n",
       "    </tr>\n",
       "  </tbody>\n",
       "</table>\n",
       "</div>"
      ],
      "text/plain": [
       "         creditLimit  availableMoney  ...  posOnPremises  recurringAuthInd\n",
       "count  786363.000000   786363.000000  ...            0.0               0.0\n",
       "mean    10759.464459     6250.725369  ...            NaN               NaN\n",
       "std     11636.174890     8880.783989  ...            NaN               NaN\n",
       "min       250.000000    -1005.630000  ...            NaN               NaN\n",
       "25%      5000.000000     1077.420000  ...            NaN               NaN\n",
       "50%      7500.000000     3184.860000  ...            NaN               NaN\n",
       "75%     15000.000000     7500.000000  ...            NaN               NaN\n",
       "max     50000.000000    50000.000000  ...            NaN               NaN\n",
       "\n",
       "[8 rows x 10 columns]"
      ]
     },
     "execution_count": 18,
     "metadata": {
      "tags": []
     },
     "output_type": "execute_result"
    }
   ],
   "source": [
    "# show the basic summary statistics for numeric fields\n",
    "df.describe(include=[np.number])"
   ]
  },
  {
   "cell_type": "code",
   "execution_count": 19,
   "metadata": {
    "colab": {
     "base_uri": "https://localhost:8080/"
    },
    "id": "sUO84lSQGbF8",
    "outputId": "aaaaaf65-2ab3-43d5-8753-ad07f49bf90c"
   },
   "outputs": [
    {
     "name": "stdout",
     "output_type": "stream",
     "text": [
      "The number of records labeled as NOT fraud = 773946.\n",
      "Percent of NOT fraud records = 0.9842.\n",
      "The number of records labeled as fraud = 12417.\n",
      "Percent of fraud records = 0.0158.\n"
     ]
    }
   ],
   "source": [
    "# finally, it's in curious to check if the dataset is imbalanced based on the target field isFraud\n",
    "\n",
    "print(f\"The number of records labeled as NOT fraud = {sum(df.isFraud == False)}.\")\n",
    "print(f\"Percent of NOT fraud records = {np.round(sum(df.isFraud == False)/786363, decimals=4)}.\")\n",
    "print(f\"The number of records labeled as fraud = {sum(df.isFraud == True)}.\")\n",
    "print(f\"Percent of fraud records = {np.round(sum(df.isFraud == True)/786363, decimals=4)}.\")"
   ]
  },
  {
   "cell_type": "markdown",
   "metadata": {
    "id": "xeURrXOEGbF9"
   },
   "source": [
    "### Summary of Question 1: <a class=\"anchor\" id=\"sub1\"></a>\n",
    "\n",
    "**I: Structure of the data**:\n",
    "- For the whole dataframe of **786363** records and **29** fields, 22 fields were classified as 'object' type feature; 4 fields were classified as 'numeric' type feature; 3 fields were classified as 'bool' type feature. The bool feature **isFraud** is our prediction target.\n",
    "\n",
    "**II: Basic summary statistics**:\n",
    "- The total number of unique id in the dataset = 5000.\n",
    "\n",
    "\n",
    "- Based on my missing value analysis:\n",
    "    - **18 fields**: 'accountNumber', 'customerId', 'creditLimit', 'availableMoney', 'transactionDateTime', 'transactionAmount', 'merchantName', 'merchantCategoryCode', 'currentExpDate', 'accountOpenDate', 'dateOfLastAddressChange', 'cardCVV', 'enteredCVV', 'cardLast4Digits', 'currentBalance', 'cardPresent', 'expirationDateKeyInMatch', 'isFraud' have no null value (clean fields)\n",
    "    - **5 fields**: 'acqCountry', 'merchantCountryCode', 'posEntryMode', 'posConditionCode', 'transactionType' contain partial null value (partially clean fields) -- *Need to perform fillna*.\n",
    "    - **6 fields**: 'echoBuffer', 'merchantCity', 'merchantState', 'merchantZip', 'posOnPremises', 'recurringAuthInd' are totally empty (with no record) -- *Need to be dropped*.\n",
    "    \n",
    "    \n",
    "- Among the 4 fields with summary statistics:\n",
    "    - **creditLimit**: the maximum credit limit is \\\\$50000; the minimum credit limit is \\\\$250; the average credit limit is \\\\$10759.464459. Since the 50\\% quantile located at \\\\$7500, the distribution of creditLimit field is highly right skew. \n",
    "    - **availableMoney**: the maximum available money is \\\\$50000; the minimum available money is \\\\$-1005.63; the average available money is \\\\$6250.725369. Since the 50\\% quantile located at \\\\$3184.86, the distribution of availableMoney field is highly right skew. \n",
    "    - **transactionAmount**: the maximum transaction amount is \\\\$2011.54; the minimum transaction amount is \\\\$0; the average transaction amount is \\\\$136.985791. Since the 50\\% quantile located at \\\\$87.9, the distribution of transactionAmount field is highly right skew. \n",
    "    - **currentBalance**: the maximum current balance is \\\\$47498.81; the minimum current balance is \\\\$0; the average current balance is \\\\$4508.739089. Since the 50\\% quantile located at \\\\$2451.76, the distribution of currentBalance field is highly right skew. \n",
    "    \n",
    "    \n",
    "- Based on the distribution of records with True or False labels of 'isFraud', **the whole dataset is highly imbalanced.**"
   ]
  },
  {
   "cell_type": "markdown",
   "metadata": {
    "id": "KAHcuGfZGbF_"
   },
   "source": [
    "## Question 2: Plot <a class=\"anchor\" id=\"second-bullet\"></a>\n",
    "\n",
    "- Plot a histogram of the processed amounts of each transaction, the transactionAmount column.\n",
    "- Report any structure you find and any hypotheses you have about that structure."
   ]
  },
  {
   "cell_type": "markdown",
   "metadata": {
    "id": "YEbvS3pyGbF_"
   },
   "source": [
    "**My hypotheses**: as mentioned in the above summary of Question 1, the field transactionAmount should be in form of **right skewed distribution**. "
   ]
  },
  {
   "cell_type": "code",
   "execution_count": 20,
   "metadata": {
    "colab": {
     "base_uri": "https://localhost:8080/",
     "height": 428
    },
    "id": "iIEVaEbzGbGA",
    "outputId": "e22a3f54-8acf-49fc-cebe-d59f767f9b99"
   },
   "outputs": [
    {
     "data": {
      "text/plain": [
       "Text(0.5, 1.0, 'Histogram of the transactionAmount Field')"
      ]
     },
     "execution_count": 20,
     "metadata": {
      "tags": []
     },
     "output_type": "execute_result"
    },
    {
     "data": {
      "image/png": "[encoded data removed]",
      "text/plain": [
       "<Figure size 864x432 with 1 Axes>"
      ]
     },
     "metadata": {
      "needs_background": "light",
      "tags": []
     },
     "output_type": "display_data"
    }
   ],
   "source": [
    "# Plot a OVERALL histogram of the transactionAmount column\n",
    "\n",
    "target_col = 'transactionAmount'\n",
    "plt.figure(figsize=(12, 6))\n",
    "sns.distplot(df[target_col], color=next(palette), hist=True, kde=True, \n",
    "             bins=40, hist_kws={'edgecolor':'black'})\n",
    "\n",
    "plt.xlabel(\"Processed amounts of each transaction ($)\", size=16)\n",
    "plt.ylabel('Frequency of transactions', size=16)\n",
    "plt.title('Histogram of the transactionAmount Field', size=16)"
   ]
  },
  {
   "cell_type": "code",
   "execution_count": 21,
   "metadata": {
    "colab": {
     "base_uri": "https://localhost:8080/",
     "height": 357
    },
    "id": "S49jWtFuGbGA",
    "outputId": "f7b84af7-eb4a-4346-9986-f6e76c155f59"
   },
   "outputs": [
    {
     "data": {
      "image/png": "[encoded data removed]",
      "text/plain": [
       "<Figure size 1080x360 with 2 Axes>"
      ]
     },
     "metadata": {
      "needs_background": "light",
      "tags": []
     },
     "output_type": "display_data"
    }
   ],
   "source": [
    "# Next, regarding to any structure that I find interesting, it's in curious to bridge the transactionAmount field \n",
    "# with our target field isFraud\n",
    "\n",
    "# slicing the targeting pd series\n",
    "series_tran_isFraud = df.loc[df.isFraud==True, target_col]\n",
    "series_tran_notFraud = df.loc[df.isFraud==False, target_col]\n",
    "\n",
    "# make a subplot based on binary isFraud\n",
    "plt.figure(figsize=(15, 5))\n",
    "for (i, series_tran), label in zip(enumerate([series_tran_isFraud, series_tran_notFraud]), \\\n",
    "                                   ['isFraud', 'notFraud']):\n",
    "    plt.subplot(1, 2, i+1)\n",
    "    sns.distplot(series_tran, color=next(palette), hist=True, kde=True, \n",
    "             bins=40, hist_kws={'edgecolor':'black'})\n",
    "    plt.xlabel(\"Processed amounts of each transaction ($)\", size=16)\n",
    "    plt.ylabel('Frequency of transactions', size=16)\n",
    "    plt.title(f'Histogram of the {label} transactionAmount', size=16)"
   ]
  },
  {
   "cell_type": "code",
   "execution_count": 22,
   "metadata": {
    "colab": {
     "base_uri": "https://localhost:8080/"
    },
    "id": "UnbHHHOhGbGA",
    "outputId": "63a12240-01a7-41ca-8508-ba3d06881d6b"
   },
   "outputs": [
    {
     "name": "stdout",
     "output_type": "stream",
     "text": [
      "Summary of isFraud transactionAmount data: count    12417.000000\n",
      "mean       225.215905\n",
      "std        189.551393\n",
      "min          0.000000\n",
      "25%         86.000000\n",
      "50%        176.980000\n",
      "75%        311.460000\n",
      "max       1608.350000\n",
      "Name: transactionAmount, dtype: float64\n",
      "------------------------------------------------------------------------------\n",
      "Summary of notFraud transactionAmount data: count    773946.000000\n",
      "mean        135.570249\n",
      "std         146.525305\n",
      "min           0.000000\n",
      "25%          33.190000\n",
      "50%          86.760000\n",
      "75%         189.390000\n",
      "max        2011.540000\n",
      "Name: transactionAmount, dtype: float64\n"
     ]
    }
   ],
   "source": [
    "# provide the summary statistics of notFraud and isFraud type of transactionAmount field\n",
    "\n",
    "print(f\"Summary of isFraud transactionAmount data: {series_tran_isFraud.describe()}\")\n",
    "print(\"------------------------------------------------------------------------------\")\n",
    "print(f\"Summary of notFraud transactionAmount data: {series_tran_notFraud.describe()}\")"
   ]
  },
  {
   "cell_type": "markdown",
   "metadata": {
    "id": "lxbBcj9NGbGA"
   },
   "source": [
    "### Summary of Question 2: <a class=\"anchor\" id=\"sub2\"></a>\n",
    "\n",
    "1. It's proved that my initial hypotheses were supported by the overall plot of the transactionAmount field: the overall distribution of transaction amount is heavily right-skewed, which indicates majority of records took the form of **small transactions**.\n",
    "\n",
    "\n",
    "2. According to the shape of distribution of `notFraud` and `isFraud` transactions, we can see the normal transaction distribution is more right-skewed than fraud transaction distribution, which means fraud transactions are more tend to take in form with relatively larger transaction amount. This conclusion is also supported by the summary statistics.\n",
    "\n",
    "\n",
    "3. From the summary statistics, fraud transaction amount has mean of \\\\$225.216, whereas the normal transaction amount has mean of \\\\$135.57. smaller than the former; On the other hand, fraud transaction amount has maximum amount of \\\\$1608.35, whereas the normal transaction amount has maximum amount of \\\\$2011.54, which is much larger than the former. It might indicates the fraud transactions could take the form of relatively higher amount followed with multiple-time transactions. "
   ]
  },
  {
   "cell_type": "markdown",
   "metadata": {
    "id": "paJHS04WGbGB"
   },
   "source": [
    "## Question 3: Data Wrangling - Duplicate Transactions <a class=\"anchor\" id=\"third-bullet\"></a>\n",
    "\n",
    "You will notice a number of what look like duplicated transactions in the data set. One type of duplicated transaction is a reversed transaction, where a purchase is followed by a reversal. Another example is a multi-swipe, where a vendor accidentally charges a customer's card multiple times within a short time span.\n",
    "\n",
    "- Can you programmatically identify reversed and multi-swipe transactions?\n",
    "- What total number of transactions and total dollar amount do you estimate for the reversed transactions? For the multi-swipe transactions? (please consider the first transaction to be \"normal\" and exclude it from the number of transaction and dollar amount counts)\n",
    "- Did you find anything interesting about either kind of transaction?"
   ]
  },
  {
   "cell_type": "markdown",
   "metadata": {
    "id": "cQW_MakEGbGB"
   },
   "source": [
    "### I. Reversed transactions <a class=\"anchor\" id=\"sub3\"></a>\n",
    "\n",
    "- I'll look into the transactionType field to identify if reversed or multi-swipe transactions were labeled\n",
    "- Before that, since transactionType field contains 698 rows of missing value, I'll fillna with \"NaN\" keywords"
   ]
  },
  {
   "cell_type": "code",
   "execution_count": 23,
   "metadata": {
    "colab": {
     "base_uri": "https://localhost:8080/"
    },
    "id": "yZAjDF1fGbGB",
    "outputId": "0228fdd5-1b98-443e-e986-db81a57e4415"
   },
   "outputs": [
    {
     "data": {
      "text/plain": [
       "PURCHASE                745193\n",
       "REVERSAL                 20303\n",
       "ADDRESS_VERIFICATION     20169\n",
       "NaN                        698\n",
       "Name: transactionType, dtype: int64"
      ]
     },
     "execution_count": 23,
     "metadata": {
      "tags": []
     },
     "output_type": "execute_result"
    }
   ],
   "source": [
    "# fillna with \"NaN\" and perform value counts for transactionType field\n",
    "\n",
    "df['transactionType'] = df['transactionType'].fillna('NaN')\n",
    "df['transactionType'].value_counts()"
   ]
  },
  {
   "cell_type": "code",
   "execution_count": 24,
   "metadata": {
    "colab": {
     "base_uri": "https://localhost:8080/",
     "height": 179
    },
    "id": "EIPYirHKGbGB",
    "outputId": "7c576d87-7e5a-42d5-fed1-bacb833b87a3"
   },
   "outputs": [
    {
     "name": "stdout",
     "output_type": "stream",
     "text": [
      "The total number of REVERSAL type transactions = 20303.\n"
     ]
    },
    {
     "data": {
      "text/html": [
       "<div>\n",
       "<style scoped>\n",
       "    .dataframe tbody tr th:only-of-type {\n",
       "        vertical-align: middle;\n",
       "    }\n",
       "\n",
       "    .dataframe tbody tr th {\n",
       "        vertical-align: top;\n",
       "    }\n",
       "\n",
       "    .dataframe thead th {\n",
       "        text-align: right;\n",
       "    }\n",
       "</style>\n",
       "<table border=\"1\" class=\"dataframe\">\n",
       "  <thead>\n",
       "    <tr style=\"text-align: right;\">\n",
       "      <th></th>\n",
       "      <th>accountNumber</th>\n",
       "      <th>customerId</th>\n",
       "      <th>creditLimit</th>\n",
       "      <th>availableMoney</th>\n",
       "      <th>transactionDateTime</th>\n",
       "      <th>transactionAmount</th>\n",
       "      <th>merchantName</th>\n",
       "      <th>acqCountry</th>\n",
       "      <th>merchantCountryCode</th>\n",
       "      <th>posEntryMode</th>\n",
       "      <th>posConditionCode</th>\n",
       "      <th>merchantCategoryCode</th>\n",
       "      <th>currentExpDate</th>\n",
       "      <th>accountOpenDate</th>\n",
       "      <th>dateOfLastAddressChange</th>\n",
       "      <th>cardCVV</th>\n",
       "      <th>enteredCVV</th>\n",
       "      <th>cardLast4Digits</th>\n",
       "      <th>transactionType</th>\n",
       "      <th>echoBuffer</th>\n",
       "      <th>currentBalance</th>\n",
       "      <th>merchantCity</th>\n",
       "      <th>merchantState</th>\n",
       "      <th>merchantZip</th>\n",
       "      <th>cardPresent</th>\n",
       "      <th>posOnPremises</th>\n",
       "      <th>recurringAuthInd</th>\n",
       "      <th>expirationDateKeyInMatch</th>\n",
       "      <th>isFraud</th>\n",
       "    </tr>\n",
       "  </thead>\n",
       "  <tbody>\n",
       "    <tr>\n",
       "      <th>39</th>\n",
       "      <td>574788567</td>\n",
       "      <td>574788567</td>\n",
       "      <td>2500.0</td>\n",
       "      <td>2200.98</td>\n",
       "      <td>2016-05-24T01:38:03</td>\n",
       "      <td>215.13</td>\n",
       "      <td>Convenient Tire</td>\n",
       "      <td>US</td>\n",
       "      <td>US</td>\n",
       "      <td>09</td>\n",
       "      <td>01</td>\n",
       "      <td>auto</td>\n",
       "      <td>10/2021</td>\n",
       "      <td>2015-10-13</td>\n",
       "      <td>2015-10-13</td>\n",
       "      <td>206</td>\n",
       "      <td>206</td>\n",
       "      <td>8522</td>\n",
       "      <td>REVERSAL</td>\n",
       "      <td>NaN</td>\n",
       "      <td>299.02</td>\n",
       "      <td>NaN</td>\n",
       "      <td>NaN</td>\n",
       "      <td>NaN</td>\n",
       "      <td>True</td>\n",
       "      <td>NaN</td>\n",
       "      <td>NaN</td>\n",
       "      <td>False</td>\n",
       "      <td>False</td>\n",
       "    </tr>\n",
       "    <tr>\n",
       "      <th>73</th>\n",
       "      <td>574788567</td>\n",
       "      <td>574788567</td>\n",
       "      <td>2500.0</td>\n",
       "      <td>2432.72</td>\n",
       "      <td>2016-10-07T10:23:57</td>\n",
       "      <td>3.87</td>\n",
       "      <td>Eazy Repair</td>\n",
       "      <td>US</td>\n",
       "      <td>US</td>\n",
       "      <td>05</td>\n",
       "      <td>01</td>\n",
       "      <td>auto</td>\n",
       "      <td>10/2022</td>\n",
       "      <td>2015-10-13</td>\n",
       "      <td>2015-10-13</td>\n",
       "      <td>579</td>\n",
       "      <td>579</td>\n",
       "      <td>4219</td>\n",
       "      <td>REVERSAL</td>\n",
       "      <td>NaN</td>\n",
       "      <td>67.28</td>\n",
       "      <td>NaN</td>\n",
       "      <td>NaN</td>\n",
       "      <td>NaN</td>\n",
       "      <td>True</td>\n",
       "      <td>NaN</td>\n",
       "      <td>NaN</td>\n",
       "      <td>False</td>\n",
       "      <td>False</td>\n",
       "    </tr>\n",
       "    <tr>\n",
       "      <th>101</th>\n",
       "      <td>924729945</td>\n",
       "      <td>924729945</td>\n",
       "      <td>50000.0</td>\n",
       "      <td>49831.43</td>\n",
       "      <td>2016-10-19T14:01:45</td>\n",
       "      <td>168.57</td>\n",
       "      <td>discount.com</td>\n",
       "      <td>US</td>\n",
       "      <td>US</td>\n",
       "      <td>05</td>\n",
       "      <td>01</td>\n",
       "      <td>online_retail</td>\n",
       "      <td>11/2024</td>\n",
       "      <td>2014-07-25</td>\n",
       "      <td>2014-07-25</td>\n",
       "      <td>205</td>\n",
       "      <td>265</td>\n",
       "      <td>9459</td>\n",
       "      <td>REVERSAL</td>\n",
       "      <td>NaN</td>\n",
       "      <td>168.57</td>\n",
       "      <td>NaN</td>\n",
       "      <td>NaN</td>\n",
       "      <td>NaN</td>\n",
       "      <td>False</td>\n",
       "      <td>NaN</td>\n",
       "      <td>NaN</td>\n",
       "      <td>False</td>\n",
       "      <td>False</td>\n",
       "    </tr>\n",
       "  </tbody>\n",
       "</table>\n",
       "</div>"
      ],
      "text/plain": [
       "    accountNumber customerId  ...  expirationDateKeyInMatch  isFraud\n",
       "39      574788567  574788567  ...                     False    False\n",
       "73      574788567  574788567  ...                     False    False\n",
       "101     924729945  924729945  ...                     False    False\n",
       "\n",
       "[3 rows x 29 columns]"
      ]
     },
     "execution_count": 24,
     "metadata": {
      "tags": []
     },
     "output_type": "execute_result"
    }
   ],
   "source": [
    "# only REVERSAL type transactions were labeled\n",
    "# extract the df of REVERSAL type transactions\n",
    "\n",
    "df_reversal = df.loc[df.transactionType=='REVERSAL']\n",
    "print(f\"The total number of REVERSAL type transactions = {df_reversal.shape[0]}.\")\n",
    "df_reversal.head(3)"
   ]
  },
  {
   "cell_type": "code",
   "execution_count": 25,
   "metadata": {
    "colab": {
     "base_uri": "https://localhost:8080/"
    },
    "id": "VIZZXSxfGbGB",
    "outputId": "3d58a33f-6369-4783-96f9-1e7624f33ec7"
   },
   "outputs": [
    {
     "name": "stdout",
     "output_type": "stream",
     "text": [
      "The total dollar amount of REVERSAL type transactions = 2821792.5.\n"
     ]
    }
   ],
   "source": [
    "# Report the total dollar amount of REVERSAL type transactions based on sum of transactionAmount\n",
    "\n",
    "tot_reversal_amount = df_reversal['transactionAmount'].sum(axis=0)\n",
    "print(f\"The total dollar amount of REVERSAL type transactions = {tot_reversal_amount}.\")"
   ]
  },
  {
   "cell_type": "markdown",
   "metadata": {
    "id": "XbIGAj7HGbGC"
   },
   "source": [
    "### II: Multi-swipe transactions <a class=\"anchor\" id=\"sub4\"></a>\n",
    "\n",
    "- Based on the nature of multi-swipe transactions, the five fields: **accountNumber, customerId, transactionAmount, merchantName, cardLast4Digits** should be exactly the same (other fields, e.g. merchantCountryCode could also be the same for multi-swipe transactions, but this level of information is too general to make inferences). Thus, we can group these fields to identify multi-swipe transactions. \n",
    "- Noted that short time span is also an important character to identify multi-swipe transactions. Thus, I'll use the **transactionDateTime** field to exclude those valid multi-swipe transactions.\n",
    "\n",
    "**Note**: \n",
    "- There are still missing value exist in the transactionType field, so I'll temporarily add those missing records into annlysis.\n",
    "- Since the transactionDateTime field is still in its raw format, I'll process the field with a valid datetime."
   ]
  },
  {
   "cell_type": "code",
   "execution_count": 26,
   "metadata": {
    "id": "1BNBjV3HGbGE"
   },
   "outputs": [],
   "source": [
    "# Processing the transactionDateTime field with standard datetime\n",
    "df['transactionDateTime'] = df['transactionDateTime'].apply(lambda x: datetime.strptime(x, '%Y-%m-%dT%H:%M:%S'))"
   ]
  },
  {
   "cell_type": "code",
   "execution_count": 27,
   "metadata": {
    "colab": {
     "base_uri": "https://localhost:8080/"
    },
    "id": "tHg-ftTYGbGE",
    "outputId": "728f5198-e01a-4efa-fad9-1f6524cf861a"
   },
   "outputs": [
    {
     "name": "stdout",
     "output_type": "stream",
     "text": [
      "The total number of purchase and missing type transactions = 745891.\n"
     ]
    }
   ],
   "source": [
    "# extract the df of PURCHASE type transactions as well as missing type transactions\n",
    "df_purchase = df.loc[(df.transactionType=='PURCHASE') | (df.transactionType=='NaN')]\n",
    "print(f\"The total number of purchase and missing type transactions = {df_purchase.shape[0]}.\")"
   ]
  },
  {
   "cell_type": "code",
   "execution_count": 28,
   "metadata": {
    "id": "-2Me2kePGbGE"
   },
   "outputs": [],
   "source": [
    "# count the amount of total distinct transactions based on \n",
    "fields_list = ['accountNumber', 'customerId','merchantName', 'transactionAmount', 'cardLast4Digits']\n",
    "df_purchase_group = df_purchase.groupby(fields_list).size().reset_index(name='repeat')\n",
    "\n",
    "# find transactions with multiple repetitive fields\n",
    "df_purchase_group_multi = df_purchase_group.loc[df_purchase_group.repeat>1]\n",
    "\n",
    "# find intersection of the total purchase df(df_purchase) and the suspect \n",
    "# multi-swipe df(df_purchase_group_multi)\n",
    "df_purchase_multi = pd.merge(df_purchase_group_multi, df_purchase, how='inner', on=fields_list)"
   ]
  },
  {
   "cell_type": "code",
   "execution_count": 29,
   "metadata": {
    "id": "TI0STmggGbGE"
   },
   "outputs": [],
   "source": [
    "# processing with transaction time difference in seconds\n",
    "\n",
    "# in case, sort based on transactionDateTime within records of same suspect multi-swipe transactions\n",
    "df_purchase_multi_sort = df_purchase_multi.sort_values(by=['accountNumber', 'customerId',\n",
    "                                                       'merchantName', 'transactionAmount', \n",
    "                                                       'cardLast4Digits', 'transactionDateTime'])\n",
    "\n",
    "# initialize tranDateTimeDiff field to assign running time diff, default first record to be 0\n",
    "df_purchase_multi_sort['tranDateTimeDiff'] = 0\n",
    "\n",
    "# loop through the transactionDateTime field to calculate time diff in seconds\n",
    "for i in range(df_purchase_multi_sort.shape[0]-1):\n",
    "    df_purchase_multi_sort['tranDateTimeDiff'][i+1] = (\n",
    "        df_purchase_multi_sort['transactionDateTime'][i+1] - \n",
    "        df_purchase_multi_sort['transactionDateTime'][i]).total_seconds()"
   ]
  },
  {
   "cell_type": "code",
   "execution_count": 30,
   "metadata": {
    "colab": {
     "base_uri": "https://localhost:8080/",
     "height": 292
    },
    "id": "2wVmUcwGGbGE",
    "outputId": "cc2f3cfa-6126-4754-f680-9e43c75e7e7d"
   },
   "outputs": [
    {
     "name": "stdout",
     "output_type": "stream",
     "text": [
      "The total number of Multi-swipe type transactions = 7457.\n"
     ]
    },
    {
     "data": {
      "text/html": [
       "<div>\n",
       "<style scoped>\n",
       "    .dataframe tbody tr th:only-of-type {\n",
       "        vertical-align: middle;\n",
       "    }\n",
       "\n",
       "    .dataframe tbody tr th {\n",
       "        vertical-align: top;\n",
       "    }\n",
       "\n",
       "    .dataframe thead th {\n",
       "        text-align: right;\n",
       "    }\n",
       "</style>\n",
       "<table border=\"1\" class=\"dataframe\">\n",
       "  <thead>\n",
       "    <tr style=\"text-align: right;\">\n",
       "      <th></th>\n",
       "      <th>accountNumber</th>\n",
       "      <th>customerId</th>\n",
       "      <th>merchantName</th>\n",
       "      <th>transactionAmount</th>\n",
       "      <th>cardLast4Digits</th>\n",
       "      <th>repeat</th>\n",
       "      <th>creditLimit</th>\n",
       "      <th>availableMoney</th>\n",
       "      <th>transactionDateTime</th>\n",
       "      <th>acqCountry</th>\n",
       "      <th>merchantCountryCode</th>\n",
       "      <th>posEntryMode</th>\n",
       "      <th>posConditionCode</th>\n",
       "      <th>merchantCategoryCode</th>\n",
       "      <th>currentExpDate</th>\n",
       "      <th>accountOpenDate</th>\n",
       "      <th>dateOfLastAddressChange</th>\n",
       "      <th>cardCVV</th>\n",
       "      <th>enteredCVV</th>\n",
       "      <th>transactionType</th>\n",
       "      <th>echoBuffer</th>\n",
       "      <th>currentBalance</th>\n",
       "      <th>merchantCity</th>\n",
       "      <th>merchantState</th>\n",
       "      <th>merchantZip</th>\n",
       "      <th>cardPresent</th>\n",
       "      <th>posOnPremises</th>\n",
       "      <th>recurringAuthInd</th>\n",
       "      <th>expirationDateKeyInMatch</th>\n",
       "      <th>isFraud</th>\n",
       "      <th>tranDateTimeDiff</th>\n",
       "    </tr>\n",
       "  </thead>\n",
       "  <tbody>\n",
       "    <tr>\n",
       "      <th>9</th>\n",
       "      <td>100088067</td>\n",
       "      <td>100088067</td>\n",
       "      <td>Fresh Flowers</td>\n",
       "      <td>411.35</td>\n",
       "      <td>2077</td>\n",
       "      <td>2</td>\n",
       "      <td>50000.0</td>\n",
       "      <td>49275.09</td>\n",
       "      <td>2016-10-16 18:01:02</td>\n",
       "      <td>US</td>\n",
       "      <td>US</td>\n",
       "      <td>02</td>\n",
       "      <td>08</td>\n",
       "      <td>online_gifts</td>\n",
       "      <td>12/2019</td>\n",
       "      <td>2014-01-09</td>\n",
       "      <td>2014-01-09</td>\n",
       "      <td>402</td>\n",
       "      <td>402</td>\n",
       "      <td>PURCHASE</td>\n",
       "      <td>NaN</td>\n",
       "      <td>724.91</td>\n",
       "      <td>NaN</td>\n",
       "      <td>NaN</td>\n",
       "      <td>NaN</td>\n",
       "      <td>False</td>\n",
       "      <td>NaN</td>\n",
       "      <td>NaN</td>\n",
       "      <td>False</td>\n",
       "      <td>False</td>\n",
       "      <td>2</td>\n",
       "    </tr>\n",
       "    <tr>\n",
       "      <th>43</th>\n",
       "      <td>100737756</td>\n",
       "      <td>100737756</td>\n",
       "      <td>34th BBQ #166379</td>\n",
       "      <td>43.25</td>\n",
       "      <td>4317</td>\n",
       "      <td>2</td>\n",
       "      <td>250.0</td>\n",
       "      <td>177.98</td>\n",
       "      <td>2016-07-10 14:32:06</td>\n",
       "      <td>US</td>\n",
       "      <td>US</td>\n",
       "      <td>02</td>\n",
       "      <td>01</td>\n",
       "      <td>food</td>\n",
       "      <td>03/2029</td>\n",
       "      <td>2015-06-21</td>\n",
       "      <td>2015-06-21</td>\n",
       "      <td>463</td>\n",
       "      <td>463</td>\n",
       "      <td>PURCHASE</td>\n",
       "      <td>NaN</td>\n",
       "      <td>72.02</td>\n",
       "      <td>NaN</td>\n",
       "      <td>NaN</td>\n",
       "      <td>NaN</td>\n",
       "      <td>True</td>\n",
       "      <td>NaN</td>\n",
       "      <td>NaN</td>\n",
       "      <td>False</td>\n",
       "      <td>False</td>\n",
       "      <td>59</td>\n",
       "    </tr>\n",
       "    <tr>\n",
       "      <th>45</th>\n",
       "      <td>100737756</td>\n",
       "      <td>100737756</td>\n",
       "      <td>Franks Deli</td>\n",
       "      <td>693.50</td>\n",
       "      <td>4317</td>\n",
       "      <td>3</td>\n",
       "      <td>250.0</td>\n",
       "      <td>-44.75</td>\n",
       "      <td>2016-01-18 01:55:28</td>\n",
       "      <td>US</td>\n",
       "      <td>US</td>\n",
       "      <td>05</td>\n",
       "      <td>01</td>\n",
       "      <td>food</td>\n",
       "      <td>03/2025</td>\n",
       "      <td>2015-06-21</td>\n",
       "      <td>2015-06-21</td>\n",
       "      <td>463</td>\n",
       "      <td>463</td>\n",
       "      <td>PURCHASE</td>\n",
       "      <td>NaN</td>\n",
       "      <td>294.75</td>\n",
       "      <td>NaN</td>\n",
       "      <td>NaN</td>\n",
       "      <td>NaN</td>\n",
       "      <td>True</td>\n",
       "      <td>NaN</td>\n",
       "      <td>NaN</td>\n",
       "      <td>False</td>\n",
       "      <td>False</td>\n",
       "      <td>4</td>\n",
       "    </tr>\n",
       "    <tr>\n",
       "      <th>46</th>\n",
       "      <td>100737756</td>\n",
       "      <td>100737756</td>\n",
       "      <td>Franks Deli</td>\n",
       "      <td>693.50</td>\n",
       "      <td>4317</td>\n",
       "      <td>3</td>\n",
       "      <td>250.0</td>\n",
       "      <td>-535.03</td>\n",
       "      <td>2016-01-18 01:58:26</td>\n",
       "      <td>US</td>\n",
       "      <td>US</td>\n",
       "      <td>05</td>\n",
       "      <td>01</td>\n",
       "      <td>food</td>\n",
       "      <td>03/2025</td>\n",
       "      <td>2015-06-21</td>\n",
       "      <td>2015-06-21</td>\n",
       "      <td>463</td>\n",
       "      <td>463</td>\n",
       "      <td>PURCHASE</td>\n",
       "      <td>NaN</td>\n",
       "      <td>785.03</td>\n",
       "      <td>NaN</td>\n",
       "      <td>NaN</td>\n",
       "      <td>NaN</td>\n",
       "      <td>True</td>\n",
       "      <td>NaN</td>\n",
       "      <td>NaN</td>\n",
       "      <td>False</td>\n",
       "      <td>False</td>\n",
       "      <td>178</td>\n",
       "    </tr>\n",
       "    <tr>\n",
       "      <th>48</th>\n",
       "      <td>100737756</td>\n",
       "      <td>100737756</td>\n",
       "      <td>South Steakhouse #73819</td>\n",
       "      <td>211.22</td>\n",
       "      <td>4317</td>\n",
       "      <td>2</td>\n",
       "      <td>250.0</td>\n",
       "      <td>250.00</td>\n",
       "      <td>2016-07-02 12:07:00</td>\n",
       "      <td>US</td>\n",
       "      <td>US</td>\n",
       "      <td>09</td>\n",
       "      <td>01</td>\n",
       "      <td>food</td>\n",
       "      <td>02/2033</td>\n",
       "      <td>2015-06-21</td>\n",
       "      <td>2015-06-21</td>\n",
       "      <td>463</td>\n",
       "      <td>463</td>\n",
       "      <td>PURCHASE</td>\n",
       "      <td>NaN</td>\n",
       "      <td>0.00</td>\n",
       "      <td>NaN</td>\n",
       "      <td>NaN</td>\n",
       "      <td>NaN</td>\n",
       "      <td>True</td>\n",
       "      <td>NaN</td>\n",
       "      <td>NaN</td>\n",
       "      <td>False</td>\n",
       "      <td>False</td>\n",
       "      <td>116</td>\n",
       "    </tr>\n",
       "  </tbody>\n",
       "</table>\n",
       "</div>"
      ],
      "text/plain": [
       "   accountNumber customerId  ... isFraud  tranDateTimeDiff\n",
       "9      100088067  100088067  ...   False                 2\n",
       "43     100737756  100737756  ...   False                59\n",
       "45     100737756  100737756  ...   False                 4\n",
       "46     100737756  100737756  ...   False               178\n",
       "48     100737756  100737756  ...   False               116\n",
       "\n",
       "[5 rows x 31 columns]"
      ]
     },
     "execution_count": 30,
     "metadata": {
      "tags": []
     },
     "output_type": "execute_result"
    }
   ],
   "source": [
    "# define the short time period as 3 minutes (180 seconds)\n",
    "time_diff_threshold = 180  # in seconds\n",
    "df_multi_swipe = df_purchase_multi_sort.loc[(df_purchase_multi_sort.tranDateTimeDiff<time_diff_threshold) &\n",
    "                                            (df_purchase_multi_sort.tranDateTimeDiff>0)]\n",
    "\n",
    "print(f\"The total number of Multi-swipe type transactions = {df_multi_swipe.shape[0]}.\")\n",
    "df_multi_swipe.head()"
   ]
  },
  {
   "cell_type": "code",
   "execution_count": 31,
   "metadata": {
    "colab": {
     "base_uri": "https://localhost:8080/"
    },
    "id": "lNHq3htyGbGF",
    "outputId": "e7e25b33-1743-4821-b912-7557bc6e5cab"
   },
   "outputs": [
    {
     "name": "stdout",
     "output_type": "stream",
     "text": [
      "The total dollar amount of Multi-swipe type transactions = 1104006.71.\n"
     ]
    }
   ],
   "source": [
    "# Report the total dollar amount of Multi-swipe type transactions based on sum of transactionAmount\n",
    "\n",
    "tot_multi_swipe_amount = df_multi_swipe['transactionAmount'].sum(axis=0)\n",
    "print(f\"The total dollar amount of Multi-swipe type transactions = {tot_multi_swipe_amount}.\")"
   ]
  },
  {
   "cell_type": "markdown",
   "metadata": {
    "id": "rZKOZbI9GbGF"
   },
   "source": [
    "### III: Additional analysis about either kind of transaction <a class=\"anchor\" id=\"sub5\"></a>\n",
    "\n",
    "- It's in curious to visualize the transactionAmount field distributions of both reveral and multi-swipe type transactions with our target field `isFraud`.\n",
    "- Explore the percentage of Fraud transactions happened in both reveral and multi-swipe type transactions based on merchant categories (`merchantCategoryCode` field)"
   ]
  },
  {
   "cell_type": "code",
   "execution_count": 32,
   "metadata": {
    "colab": {
     "base_uri": "https://localhost:8080/",
     "height": 411
    },
    "id": "MD9kXSS-GbGF",
    "outputId": "39cd388b-3849-406b-fe8f-c65e34b1e3cb"
   },
   "outputs": [
    {
     "data": {
      "image/png": "[encoded data removed]",
      "text/plain": [
       "<Figure size 1080x432 with 2 Axes>"
      ]
     },
     "metadata": {
      "needs_background": "light",
      "tags": []
     },
     "output_type": "display_data"
    }
   ],
   "source": [
    "# visualize transactionAmount distributions with kind of transaction vs. isFraud\n",
    "target_col = 'transactionAmount'\n",
    "series_reversal_isFraud = df_reversal.loc[df_reversal.isFraud==True, target_col]\n",
    "series_reversal_notFraud = df_reversal.loc[df_reversal.isFraud==False, target_col]\n",
    "series_reversal = [series_reversal_isFraud, series_reversal_notFraud]\n",
    "\n",
    "series_multi_swipe_isFraud = df_multi_swipe.loc[df_multi_swipe.isFraud==True, target_col]\n",
    "series_multi_swipe_notFraud = df_multi_swipe.loc[df_multi_swipe.isFraud==False, target_col]\n",
    "series_multi_swipe = [series_multi_swipe_isFraud, series_multi_swipe_notFraud]\n",
    "\n",
    "# make subplot based on type of transaction\n",
    "plt.figure(figsize=(15, 6))\n",
    "for (i, series_tran), label in zip(enumerate([series_reversal, series_multi_swipe]), \\\n",
    "                                   ['reversal', 'multi swipe']):\n",
    "    plt.subplot(1, 2, i+1)\n",
    "    sns.distplot(series_tran[0], color=next(palette), hist=True, kde=True, \n",
    "             bins=30, hist_kws={'edgecolor':'black'}, label='isFraud')\n",
    "    sns.distplot(series_tran[1], color=next(palette), hist=True, kde=True, \n",
    "             bins=30, hist_kws={'edgecolor':'black'}, label='notFraud')\n",
    "    \n",
    "    plt.xlabel(\"Processed amounts of each transaction ($)\", size=16)\n",
    "    plt.ylabel('Frequency of transactions', size=16)\n",
    "    plt.legend(fontsize=12)\n",
    "    plt.title(f'Histogram of the {label} transactionAmount', size=16)"
   ]
  },
  {
   "cell_type": "code",
   "execution_count": 33,
   "metadata": {
    "colab": {
     "base_uri": "https://localhost:8080/",
     "height": 564
    },
    "id": "FkvwuH_yGbGF",
    "outputId": "1d114e87-b901-4e3a-ece2-c5f01cb461a6"
   },
   "outputs": [
    {
     "name": "stderr",
     "output_type": "stream",
     "text": [
      "posx and posy should be finite values\n",
      "posx and posy should be finite values\n",
      "posx and posy should be finite values\n"
     ]
    },
    {
     "data": {
      "image/png": "[encoded data removed]",
      "text/plain": [
       "<Figure size 1296x504 with 2 Axes>"
      ]
     },
     "metadata": {
      "needs_background": "light",
      "tags": []
     },
     "output_type": "display_data"
    }
   ],
   "source": [
    "# visualize merchantCategoryCode barplots with kind of transaction vs. isFraud\n",
    "target_col = 'merchantCategoryCode'\n",
    "cats_reversal = list(set(df_reversal[target_col]))\n",
    "cats_multi_swipe = list(set(df_multi_swipe[target_col]))\n",
    "cats = [cats_reversal, cats_multi_swipe]\n",
    "dfs = [df_reversal, df_multi_swipe]\n",
    "\n",
    "# make barplots based on type of transaction\n",
    "plt.figure(figsize=(18, 7))\n",
    "for (i, df_i), cat, label in zip(enumerate(dfs), cats, ['reversal', 'multi swipe']):\n",
    "    plt.subplot(1, 2, i+1)\n",
    "    ax1 = sns.countplot(x=target_col, data=df_i, hue='isFraud', order=cat)\n",
    "    ax1.set_xticklabels(ax1.get_xticklabels(), rotation=45)\n",
    "    ax1.set_xlabel('merchantCategoryCode', fontsize=16)\n",
    "    ax1.set_ylabel('number of merchantCategoryCode', fontsize=16)\n",
    "    plt.legend(fontsize=12)\n",
    "    ax1.set_title(f'Barplot of merchantCategoryCode for {label} transactions' , fontsize=16)\n",
    "    \n",
    "    # add and show percents of each category\n",
    "    for p in ax1.patches:\n",
    "        height = p.get_height()\n",
    "        ax1.text(p.get_x() + p.get_width()/2.,\\\n",
    "                 height + 3, '{:1.2f}%'.format(height/len(df_i)*100),\\\n",
    "                 ha='center', fontsize=10)"
   ]
  },
  {
   "cell_type": "markdown",
   "metadata": {
    "id": "K4VBjEutGbGF"
   },
   "source": [
    "### Summary of Question 3: <a class=\"anchor\" id=\"sub6\"></a>\n",
    "\n",
    "1. For reversed transactions:\n",
    "    - There are a total of 20303 records identified as reversed transactions, with the total dollar amount = \\$2821792.5.\n",
    "    \n",
    "    \n",
    "2. For multi-swipe transactions:\n",
    "    - There are a total of 7457 records identified as multi-swipe transactions, with the total dollar amount = \\$1104006.71.\n",
    "    \n",
    "    \n",
    "3. From the plot of transactionAmount distributions with kind of transaction versus isFraud label:\n",
    "    - Fraud transactions showed wider distuibution than normal transactions, which means fraud transactions tend to take in the form of having relatively higher transaction amount.\n",
    "    - Due to the wider distribution of transaction amount for multi-swipe transaction category, multi-swipe transactions with amount between \\$150-500 have higher suspect to be identified as Fraud transactions.\n",
    "    \n",
    "    \n",
    "4. From plot of merchantCategoryCode barplots with kind of transaction versus isFraud label:\n",
    "    - The fraudulent rate of each merchant for both two type of transactions are pretty much similar. It's concluded that online retails has highest fraudulent rate among other merchant categories, with rate of 0.65\\% and 0.68\\% for reversed and multi-swipe transactions, respectively. "
   ]
  },
  {
   "cell_type": "markdown",
   "metadata": {
    "id": "fNBuT9MxGbGG"
   },
   "source": [
    "## Question 4: Model <a class=\"anchor\" id=\"fourth-bullet\"></a>\n",
    "\n",
    "Fraud is a problem for any bank. Fraud can take many forms, whether it is someone stealing a single credit card, to large batches of stolen credit card numbers being used on the web, or even a mass compromise of credit card numbers stolen from a merchant via tools like credit card skimming devices.\n",
    "\n",
    "- Each of the transactions in the dataset has a field called isFraud. Please build a predictive model to determine whether a given transaction will be fraudulent or not. Use as much of the data as you like (or all of it).\n",
    "- Provide an estimate of performance using an appropriate sample, and show your work.\n",
    "- Please explain your methodology (modeling algorithm/method used and why, what features/data you found useful, what questions you have, and what you would do next with more time)"
   ]
  },
  {
   "cell_type": "markdown",
   "metadata": {
    "id": "WpChrOunGbGG"
   },
   "source": [
    "### I: Feature Engineering <a class=\"anchor\" id=\"sub7\"></a>\n",
    "\n",
    "**Summary of all 29 fields condition and the their weights**:\n",
    "- The numerical features: `creditLimit`, `availableMoney`, `transactionAmount`, `currentBalance` -- 4/29.\n",
    "\n",
    "\n",
    "- The boolen type features: `cardPresent`, `expirationDateKeyInMatch`, `isFraud` -- 3/29. \n",
    "\n",
    "\n",
    "- To-be-dropped features: `echoBuffer`, `merchantCity`, `merchantState`, `merchantZip`, `posOnPremises`, `recurringAuthInd` -- 6/29.\n",
    "\n",
    "\n",
    "- Datetime type features: `dateOfLastAddressChange`, `currentExpDate`, `accountOpenDate`, `transactionDateTime` -- 4/29.\n",
    "\n",
    "\n",
    "- String-to-numerical type features: `cardCVV`, `cardLast4Digits`, `enteredCVV` -- 3/29.\n",
    "\n",
    "\n",
    "- Categorical features: `posConditionCode`, `merchantCountryCode`, `acqCountry`, `merchantCategoryCode`, `transactionType`, `posEntryMode` -- 6/29.\n",
    "\n",
    "\n",
    "- Special features with many categories: `merchantName`, `accountNumber`, `customerId` --- 3/29.\n",
    "\n",
    "\n",
    "**Based on all the EDA above, I suggest the following feature engineering strategies**:\n",
    "1. Drop the 6 empty fields: `echoBuffer`, `merchantCity`, `merchantState`, `merchantZip`, `posOnPremises`, `recurringAuthInd`.\n",
    "\n",
    "\n",
    "2. Fillna for the rest of 4 partially clean fields: `acqCountry`, `merchantCountryCode`, `posEntryMode`, `posConditionCode`.\n",
    "    - Note that `transactionType` has already been filled with 'NaN' keywords in Question 3.\n",
    "    \n",
    "    \n",
    "3. Transfer string format records to integer format records for: `cardCVV`, `cardLast4Digits`, `enteredCVV` and boolen type fields `cardPresent`, `expirationDateKeyInMatch`, `isFraud`.\n",
    "\n",
    "\n",
    "4. Transfer all the object features related with datetime: `dateOfLastAddressChange`, `currentExpDate`, `accountOpenDate`, `transactionDateTime` to new numerical features.\n",
    "    - Note that `transactionDateTime` has been transferred to standard datetime format in Question 3.\n",
    "    \n",
    "    \n",
    "5. Feature reconstruction on object features: `merchantName`, `accountNumber`, `customerId`.\n",
    "    - Since these field has too many categories, I'll reconstruct these features by counting the number of records labeled as Fraud for each category of these fields.\n",
    "\n",
    "\n",
    "6. Perform one-hot-encoding on all categorical features.\n",
    "\n",
    "\n",
    "7. Drop all the old (before feature engineering) or duplicated (cause of multicolinearity) fields."
   ]
  },
  {
   "cell_type": "code",
   "execution_count": 34,
   "metadata": {
    "id": "lSURJHDkGbGG"
   },
   "outputs": [],
   "source": [
    "# make a copy of original df for feature engineering\n",
    "df_clean = df.copy()"
   ]
  },
  {
   "cell_type": "code",
   "execution_count": 35,
   "metadata": {
    "colab": {
     "base_uri": "https://localhost:8080/"
    },
    "id": "PUo-FiQwGbGG",
    "outputId": "2382c93a-5a23-42f6-f375-340e11ddb627"
   },
   "outputs": [
    {
     "name": "stdout",
     "output_type": "stream",
     "text": [
      "Current number of fields = 23\n"
     ]
    }
   ],
   "source": [
    "# task 1: Drop the 6 empty fields (fields 29 -> 23)\n",
    "\n",
    "df_clean = df_clean.drop(fields_all_mv_list, axis=1)\n",
    "print(f\"Current number of fields = {df_clean.shape[1]}\")"
   ]
  },
  {
   "cell_type": "code",
   "execution_count": 36,
   "metadata": {
    "id": "32bB8lFfGbGH"
   },
   "outputs": [],
   "source": [
    "# task 2: Fillna for the rest of 4 partially clean fields\n",
    "\n",
    "for field in ['acqCountry', 'merchantCountryCode', 'posEntryMode', 'posConditionCode']:\n",
    "    df_clean[field] = df_clean[field].fillna('NaN')"
   ]
  },
  {
   "cell_type": "code",
   "execution_count": 37,
   "metadata": {
    "id": "pkjTbeJsGbGH"
   },
   "outputs": [],
   "source": [
    "# task 3: Transfer string and bool format records to integer format\n",
    "\n",
    "for field in ['cardCVV',  'cardLast4Digits', 'enteredCVV']:\n",
    "    df_clean[field] = df_clean[field].astype(int)\n",
    "    \n",
    "for field in ['cardPresent', 'expirationDateKeyInMatch', 'isFraud']:\n",
    "    df_clean[field] = df_clean[field].astype(int)"
   ]
  },
  {
   "cell_type": "code",
   "execution_count": 38,
   "metadata": {
    "id": "JN3tgN3cGbGH"
   },
   "outputs": [],
   "source": [
    "# task 4: Processing on DateTime fields (fields 23 -> 32)\n",
    "\n",
    "# processing the DateTime fields to standard year-month-day datetime format\n",
    "df_clean['dateOfLastAddressChange'] = df_clean['dateOfLastAddressChange'].apply( \\\n",
    "    lambda x: datetime.strptime(x, '%Y-%m-%d'))\n",
    "df_clean['currentExpDate'] = df_clean['currentExpDate'].apply( \\\n",
    "    lambda x: datetime.strptime(x, '%m/%Y'))\n",
    "df_clean['accountOpenDate'] = df_clean['accountOpenDate'].apply( \\\n",
    "    lambda x: datetime.strptime(x, '%Y-%m-%d'))\n",
    "\n",
    "# with the same format:\n",
    "# convert transactionDateTime into six numerical feature 'transactionMonth', 'transactionDay', 'transactionWDay',\n",
    "# 'transactionHour', 'transactionMin', 'transactionSec'\n",
    "df_clean['transactionMonth'] = df_clean['transactionDateTime'].dt.month\n",
    "df_clean['transactionDay'] = df_clean['transactionDateTime'].dt.day\n",
    "df_clean['transactionWDay'] = df_clean['transactionDateTime'].dt.weekday\n",
    "df_clean['transactionHour'] = df_clean['transactionDateTime'].dt.hour\n",
    "df_clean['transactionMin'] = df_clean['transactionDateTime'].dt.minute\n",
    "df_clean['transactionSec'] = df_clean['transactionDateTime'].dt.second\n",
    "\n",
    "# next, use the day of transactionDateTime as a basetime to transfer other date fields\n",
    "# convert dateOfLastAddressChange into new feature 'diffLastAddressChange'\n",
    "df_clean['diffLastAddressChange'] = (df_clean['transactionDateTime'] - df_clean['dateOfLastAddressChange' \\\n",
    "                                                                               ]).dt.days\n",
    "\n",
    "# convert currentExpDate into new feature 'diffExpDate'\n",
    "df_clean['diffExpDate'] = (df_clean['currentExpDate'] - df_clean['transactionDateTime']).dt.days\n",
    "\n",
    "# convert accountOpenDate into new feature 'diffOpenDate'\n",
    "df_clean['diffOpenDate'] = (df_clean['transactionDateTime'] - df_clean['accountOpenDate']).dt.days"
   ]
  },
  {
   "cell_type": "code",
   "execution_count": 39,
   "metadata": {
    "id": "mxjGh1RcGbGH"
   },
   "outputs": [],
   "source": [
    "# task 5-1: reconstruct the merchantName, accountNumber, customerId fields (fields 32 -> 33)\n",
    "\n",
    "# for merchantName field\n",
    "fields = ['merchantName','isFraud']\n",
    "# group by counting isFraud numbers\n",
    "merchant_group = df_clean.groupby(fields).size().reset_index(name='merchantFraudCount')\n",
    "# select merchant_group with isFraud label\n",
    "merchant_group_fraud = merchant_group.loc[(merchant_group.isFraud==True) &\n",
    "                                         (merchant_group.merchantFraudCount>0)]\n",
    "# drop the isFraud column \n",
    "merchant_group_fraud = merchant_group_fraud.drop(['isFraud'], axis=1)\n",
    "# merge with the merchant_group_fraud df with df_clean\n",
    "df_clean = pd.merge(merchant_group_fraud, df_clean, how='outer', on=['merchantName'])\n",
    "\n",
    "# fillna for the records with NaN merchantFraudCount\n",
    "df_clean.merchantFraudCount = df_clean.merchantFraudCount.fillna(0)"
   ]
  },
  {
   "cell_type": "code",
   "execution_count": 40,
   "metadata": {
    "colab": {
     "base_uri": "https://localhost:8080/"
    },
    "id": "Hvd7rmylGbGH",
    "outputId": "5b56fe49-7f35-4ca4-b059-1fdf3e1a4402"
   },
   "outputs": [
    {
     "name": "stdout",
     "output_type": "stream",
     "text": [
      "1.0\n"
     ]
    }
   ],
   "source": [
    "# task 5-2: reconstruct the merchantName, accountNumber, customerId fields (fields 33 -> 34)\n",
    "# for accountNumber and customerId fields\n",
    "\n",
    "# check this these two fields are actuallly identical\n",
    "print(sum(df_clean['accountNumber'] == df_clean['customerId'])/len(df_clean))"
   ]
  },
  {
   "cell_type": "markdown",
   "metadata": {
    "id": "m_A7bZ7oGbGH"
   },
   "source": [
    "**My comment**: I'll ignore the `accountNumber` field since it is exactly the same as `customerId field`, will drop this field later."
   ]
  },
  {
   "cell_type": "code",
   "execution_count": 41,
   "metadata": {
    "id": "h7BX5uBlGbGI"
   },
   "outputs": [],
   "source": [
    "# perform the same reconstruction as for merchantName\n",
    "fields = ['customerId','isFraud']\n",
    "# group by counting isFraud numbers\n",
    "customerId_group = df_clean.groupby(fields).size().reset_index(name='customerIdFraudCount')\n",
    "# select customerId_group with isFraud label\n",
    "customerId_group_fraud = customerId_group.loc[(customerId_group.isFraud==True) & \n",
    "                                              (customerId_group.customerIdFraudCount>0)]\n",
    "# drop the isFraud column \n",
    "customerId_group_fraud = customerId_group_fraud.drop(['isFraud'], axis=1)\n",
    "# merge with the customerId_group_fraud df with df_clean\n",
    "df_clean = pd.merge(customerId_group_fraud, df_clean, how='outer', on=['customerId'])\n",
    "\n",
    "# fillna for the records with NaN merchantFraudCount\n",
    "df_clean.customerIdFraudCount = df_clean.customerIdFraudCount.fillna(0)"
   ]
  },
  {
   "cell_type": "code",
   "execution_count": 42,
   "metadata": {
    "colab": {
     "base_uri": "https://localhost:8080/"
    },
    "id": "sN8Gg5ezGbGI",
    "outputId": "cc262d06-acd8-406d-d2e5-6da17d5ff766"
   },
   "outputs": [
    {
     "name": "stdout",
     "output_type": "stream",
     "text": [
      "Number of dummy features = 43.\n"
     ]
    }
   ],
   "source": [
    "# task 6: Perform one-hot-encoding on all categorical features (fields 34 -> 77)\n",
    "\n",
    "cat_fields = ['posConditionCode', 'merchantCountryCode', 'acqCountry', 'merchantCategoryCode', \n",
    "              'transactionType', 'posEntryMode']  # six fields\n",
    "# get dummy features\n",
    "df_dummy = pd.get_dummies(df_clean[cat_fields])\n",
    "print(f\"Number of dummy features = {df_dummy.shape[1]}.\")\n",
    "\n",
    "# concatenate the dummy df with df_clean\n",
    "df_clean = pd.concat([df_dummy, df_clean], axis=1)"
   ]
  },
  {
   "cell_type": "code",
   "execution_count": 43,
   "metadata": {
    "id": "A_fN0nU4GbGI"
   },
   "outputs": [],
   "source": [
    "# task 7: Drop all the old or duplicated (cause of multicolinearity) fields (fields 77 -> 64)\n",
    "\n",
    "# fields to be dropped\n",
    "fields_drop = ['transactionDateTime', 'dateOfLastAddressChange', 'currentExpDate', 'accountOpenDate',\n",
    "              'merchantName', 'accountNumber', 'customerId'] + cat_fields\n",
    "# drop the fields\n",
    "df_clean = df_clean.drop(fields_drop, axis=1)"
   ]
  },
  {
   "cell_type": "code",
   "execution_count": 44,
   "metadata": {
    "colab": {
     "base_uri": "https://localhost:8080/",
     "height": 241
    },
    "id": "k3aR7lWvGbGI",
    "outputId": "5d7fb189-a113-40a1-b37b-c0b773c20334"
   },
   "outputs": [
    {
     "data": {
      "text/html": [
       "<div>\n",
       "<style scoped>\n",
       "    .dataframe tbody tr th:only-of-type {\n",
       "        vertical-align: middle;\n",
       "    }\n",
       "\n",
       "    .dataframe tbody tr th {\n",
       "        vertical-align: top;\n",
       "    }\n",
       "\n",
       "    .dataframe thead th {\n",
       "        text-align: right;\n",
       "    }\n",
       "</style>\n",
       "<table border=\"1\" class=\"dataframe\">\n",
       "  <thead>\n",
       "    <tr style=\"text-align: right;\">\n",
       "      <th></th>\n",
       "      <th>posConditionCode_01</th>\n",
       "      <th>posConditionCode_08</th>\n",
       "      <th>posConditionCode_99</th>\n",
       "      <th>posConditionCode_NaN</th>\n",
       "      <th>merchantCountryCode_CAN</th>\n",
       "      <th>merchantCountryCode_MEX</th>\n",
       "      <th>merchantCountryCode_NaN</th>\n",
       "      <th>merchantCountryCode_PR</th>\n",
       "      <th>merchantCountryCode_US</th>\n",
       "      <th>acqCountry_CAN</th>\n",
       "      <th>acqCountry_MEX</th>\n",
       "      <th>acqCountry_NaN</th>\n",
       "      <th>acqCountry_PR</th>\n",
       "      <th>acqCountry_US</th>\n",
       "      <th>merchantCategoryCode_airline</th>\n",
       "      <th>merchantCategoryCode_auto</th>\n",
       "      <th>merchantCategoryCode_cable/phone</th>\n",
       "      <th>merchantCategoryCode_entertainment</th>\n",
       "      <th>merchantCategoryCode_fastfood</th>\n",
       "      <th>merchantCategoryCode_food</th>\n",
       "      <th>merchantCategoryCode_food_delivery</th>\n",
       "      <th>merchantCategoryCode_fuel</th>\n",
       "      <th>merchantCategoryCode_furniture</th>\n",
       "      <th>merchantCategoryCode_gym</th>\n",
       "      <th>merchantCategoryCode_health</th>\n",
       "      <th>merchantCategoryCode_hotels</th>\n",
       "      <th>merchantCategoryCode_mobileapps</th>\n",
       "      <th>merchantCategoryCode_online_gifts</th>\n",
       "      <th>merchantCategoryCode_online_retail</th>\n",
       "      <th>merchantCategoryCode_online_subscriptions</th>\n",
       "      <th>merchantCategoryCode_personal care</th>\n",
       "      <th>merchantCategoryCode_rideshare</th>\n",
       "      <th>merchantCategoryCode_subscriptions</th>\n",
       "      <th>transactionType_ADDRESS_VERIFICATION</th>\n",
       "      <th>transactionType_NaN</th>\n",
       "      <th>transactionType_PURCHASE</th>\n",
       "      <th>transactionType_REVERSAL</th>\n",
       "      <th>posEntryMode_02</th>\n",
       "      <th>posEntryMode_05</th>\n",
       "      <th>posEntryMode_09</th>\n",
       "      <th>posEntryMode_80</th>\n",
       "      <th>posEntryMode_90</th>\n",
       "      <th>posEntryMode_NaN</th>\n",
       "      <th>customerIdFraudCount</th>\n",
       "      <th>merchantFraudCount</th>\n",
       "      <th>creditLimit</th>\n",
       "      <th>availableMoney</th>\n",
       "      <th>transactionAmount</th>\n",
       "      <th>cardCVV</th>\n",
       "      <th>enteredCVV</th>\n",
       "      <th>cardLast4Digits</th>\n",
       "      <th>currentBalance</th>\n",
       "      <th>cardPresent</th>\n",
       "      <th>expirationDateKeyInMatch</th>\n",
       "      <th>isFraud</th>\n",
       "      <th>transactionMonth</th>\n",
       "      <th>transactionDay</th>\n",
       "      <th>transactionWDay</th>\n",
       "      <th>transactionHour</th>\n",
       "      <th>transactionMin</th>\n",
       "      <th>transactionSec</th>\n",
       "      <th>diffLastAddressChange</th>\n",
       "      <th>diffExpDate</th>\n",
       "      <th>diffOpenDate</th>\n",
       "    </tr>\n",
       "  </thead>\n",
       "  <tbody>\n",
       "    <tr>\n",
       "      <th>0</th>\n",
       "      <td>1</td>\n",
       "      <td>0</td>\n",
       "      <td>0</td>\n",
       "      <td>0</td>\n",
       "      <td>0</td>\n",
       "      <td>0</td>\n",
       "      <td>0</td>\n",
       "      <td>0</td>\n",
       "      <td>1</td>\n",
       "      <td>0</td>\n",
       "      <td>0</td>\n",
       "      <td>0</td>\n",
       "      <td>0</td>\n",
       "      <td>1</td>\n",
       "      <td>0</td>\n",
       "      <td>0</td>\n",
       "      <td>0</td>\n",
       "      <td>0</td>\n",
       "      <td>0</td>\n",
       "      <td>1</td>\n",
       "      <td>0</td>\n",
       "      <td>0</td>\n",
       "      <td>0</td>\n",
       "      <td>0</td>\n",
       "      <td>0</td>\n",
       "      <td>0</td>\n",
       "      <td>0</td>\n",
       "      <td>0</td>\n",
       "      <td>0</td>\n",
       "      <td>0</td>\n",
       "      <td>0</td>\n",
       "      <td>0</td>\n",
       "      <td>0</td>\n",
       "      <td>0</td>\n",
       "      <td>0</td>\n",
       "      <td>1</td>\n",
       "      <td>0</td>\n",
       "      <td>0</td>\n",
       "      <td>0</td>\n",
       "      <td>1</td>\n",
       "      <td>0</td>\n",
       "      <td>0</td>\n",
       "      <td>0</td>\n",
       "      <td>1.0</td>\n",
       "      <td>13.0</td>\n",
       "      <td>50000.0</td>\n",
       "      <td>49953.81</td>\n",
       "      <td>200.12</td>\n",
       "      <td>546</td>\n",
       "      <td>546</td>\n",
       "      <td>4615</td>\n",
       "      <td>46.19</td>\n",
       "      <td>1</td>\n",
       "      <td>0</td>\n",
       "      <td>0</td>\n",
       "      <td>4</td>\n",
       "      <td>8</td>\n",
       "      <td>4</td>\n",
       "      <td>19</td>\n",
       "      <td>56</td>\n",
       "      <td>36</td>\n",
       "      <td>820</td>\n",
       "      <td>4831</td>\n",
       "      <td>820</td>\n",
       "    </tr>\n",
       "    <tr>\n",
       "      <th>1</th>\n",
       "      <td>1</td>\n",
       "      <td>0</td>\n",
       "      <td>0</td>\n",
       "      <td>0</td>\n",
       "      <td>0</td>\n",
       "      <td>0</td>\n",
       "      <td>0</td>\n",
       "      <td>0</td>\n",
       "      <td>1</td>\n",
       "      <td>0</td>\n",
       "      <td>0</td>\n",
       "      <td>0</td>\n",
       "      <td>0</td>\n",
       "      <td>1</td>\n",
       "      <td>0</td>\n",
       "      <td>0</td>\n",
       "      <td>0</td>\n",
       "      <td>0</td>\n",
       "      <td>0</td>\n",
       "      <td>1</td>\n",
       "      <td>0</td>\n",
       "      <td>0</td>\n",
       "      <td>0</td>\n",
       "      <td>0</td>\n",
       "      <td>0</td>\n",
       "      <td>0</td>\n",
       "      <td>0</td>\n",
       "      <td>0</td>\n",
       "      <td>0</td>\n",
       "      <td>0</td>\n",
       "      <td>0</td>\n",
       "      <td>0</td>\n",
       "      <td>0</td>\n",
       "      <td>0</td>\n",
       "      <td>0</td>\n",
       "      <td>1</td>\n",
       "      <td>0</td>\n",
       "      <td>1</td>\n",
       "      <td>0</td>\n",
       "      <td>0</td>\n",
       "      <td>0</td>\n",
       "      <td>0</td>\n",
       "      <td>0</td>\n",
       "      <td>1.0</td>\n",
       "      <td>22.0</td>\n",
       "      <td>50000.0</td>\n",
       "      <td>49929.31</td>\n",
       "      <td>95.11</td>\n",
       "      <td>402</td>\n",
       "      <td>402</td>\n",
       "      <td>2077</td>\n",
       "      <td>70.69</td>\n",
       "      <td>1</td>\n",
       "      <td>0</td>\n",
       "      <td>0</td>\n",
       "      <td>11</td>\n",
       "      <td>9</td>\n",
       "      <td>2</td>\n",
       "      <td>7</td>\n",
       "      <td>26</td>\n",
       "      <td>6</td>\n",
       "      <td>1035</td>\n",
       "      <td>1603</td>\n",
       "      <td>1035</td>\n",
       "    </tr>\n",
       "    <tr>\n",
       "      <th>2</th>\n",
       "      <td>1</td>\n",
       "      <td>0</td>\n",
       "      <td>0</td>\n",
       "      <td>0</td>\n",
       "      <td>0</td>\n",
       "      <td>0</td>\n",
       "      <td>0</td>\n",
       "      <td>0</td>\n",
       "      <td>1</td>\n",
       "      <td>0</td>\n",
       "      <td>0</td>\n",
       "      <td>0</td>\n",
       "      <td>0</td>\n",
       "      <td>1</td>\n",
       "      <td>0</td>\n",
       "      <td>0</td>\n",
       "      <td>0</td>\n",
       "      <td>0</td>\n",
       "      <td>0</td>\n",
       "      <td>1</td>\n",
       "      <td>0</td>\n",
       "      <td>0</td>\n",
       "      <td>0</td>\n",
       "      <td>0</td>\n",
       "      <td>0</td>\n",
       "      <td>0</td>\n",
       "      <td>0</td>\n",
       "      <td>0</td>\n",
       "      <td>0</td>\n",
       "      <td>0</td>\n",
       "      <td>0</td>\n",
       "      <td>0</td>\n",
       "      <td>0</td>\n",
       "      <td>0</td>\n",
       "      <td>0</td>\n",
       "      <td>1</td>\n",
       "      <td>0</td>\n",
       "      <td>1</td>\n",
       "      <td>0</td>\n",
       "      <td>0</td>\n",
       "      <td>0</td>\n",
       "      <td>0</td>\n",
       "      <td>0</td>\n",
       "      <td>1.0</td>\n",
       "      <td>7.0</td>\n",
       "      <td>50000.0</td>\n",
       "      <td>49996.04</td>\n",
       "      <td>5.26</td>\n",
       "      <td>546</td>\n",
       "      <td>546</td>\n",
       "      <td>4615</td>\n",
       "      <td>3.96</td>\n",
       "      <td>1</td>\n",
       "      <td>0</td>\n",
       "      <td>0</td>\n",
       "      <td>5</td>\n",
       "      <td>6</td>\n",
       "      <td>4</td>\n",
       "      <td>2</td>\n",
       "      <td>54</td>\n",
       "      <td>1</td>\n",
       "      <td>848</td>\n",
       "      <td>6264</td>\n",
       "      <td>848</td>\n",
       "    </tr>\n",
       "    <tr>\n",
       "      <th>3</th>\n",
       "      <td>0</td>\n",
       "      <td>1</td>\n",
       "      <td>0</td>\n",
       "      <td>0</td>\n",
       "      <td>0</td>\n",
       "      <td>0</td>\n",
       "      <td>0</td>\n",
       "      <td>0</td>\n",
       "      <td>1</td>\n",
       "      <td>0</td>\n",
       "      <td>0</td>\n",
       "      <td>0</td>\n",
       "      <td>0</td>\n",
       "      <td>1</td>\n",
       "      <td>0</td>\n",
       "      <td>0</td>\n",
       "      <td>0</td>\n",
       "      <td>0</td>\n",
       "      <td>0</td>\n",
       "      <td>1</td>\n",
       "      <td>0</td>\n",
       "      <td>0</td>\n",
       "      <td>0</td>\n",
       "      <td>0</td>\n",
       "      <td>0</td>\n",
       "      <td>0</td>\n",
       "      <td>0</td>\n",
       "      <td>0</td>\n",
       "      <td>0</td>\n",
       "      <td>0</td>\n",
       "      <td>0</td>\n",
       "      <td>0</td>\n",
       "      <td>0</td>\n",
       "      <td>0</td>\n",
       "      <td>0</td>\n",
       "      <td>1</td>\n",
       "      <td>0</td>\n",
       "      <td>0</td>\n",
       "      <td>0</td>\n",
       "      <td>1</td>\n",
       "      <td>0</td>\n",
       "      <td>0</td>\n",
       "      <td>0</td>\n",
       "      <td>1.0</td>\n",
       "      <td>8.0</td>\n",
       "      <td>50000.0</td>\n",
       "      <td>49933.93</td>\n",
       "      <td>141.60</td>\n",
       "      <td>546</td>\n",
       "      <td>546</td>\n",
       "      <td>4615</td>\n",
       "      <td>66.07</td>\n",
       "      <td>1</td>\n",
       "      <td>0</td>\n",
       "      <td>0</td>\n",
       "      <td>2</td>\n",
       "      <td>3</td>\n",
       "      <td>2</td>\n",
       "      <td>4</td>\n",
       "      <td>48</td>\n",
       "      <td>54</td>\n",
       "      <td>755</td>\n",
       "      <td>5384</td>\n",
       "      <td>755</td>\n",
       "    </tr>\n",
       "    <tr>\n",
       "      <th>4</th>\n",
       "      <td>1</td>\n",
       "      <td>0</td>\n",
       "      <td>0</td>\n",
       "      <td>0</td>\n",
       "      <td>0</td>\n",
       "      <td>0</td>\n",
       "      <td>0</td>\n",
       "      <td>0</td>\n",
       "      <td>1</td>\n",
       "      <td>0</td>\n",
       "      <td>0</td>\n",
       "      <td>0</td>\n",
       "      <td>0</td>\n",
       "      <td>1</td>\n",
       "      <td>0</td>\n",
       "      <td>0</td>\n",
       "      <td>0</td>\n",
       "      <td>1</td>\n",
       "      <td>0</td>\n",
       "      <td>0</td>\n",
       "      <td>0</td>\n",
       "      <td>0</td>\n",
       "      <td>0</td>\n",
       "      <td>0</td>\n",
       "      <td>0</td>\n",
       "      <td>0</td>\n",
       "      <td>0</td>\n",
       "      <td>0</td>\n",
       "      <td>0</td>\n",
       "      <td>0</td>\n",
       "      <td>0</td>\n",
       "      <td>0</td>\n",
       "      <td>0</td>\n",
       "      <td>0</td>\n",
       "      <td>0</td>\n",
       "      <td>1</td>\n",
       "      <td>0</td>\n",
       "      <td>1</td>\n",
       "      <td>0</td>\n",
       "      <td>0</td>\n",
       "      <td>0</td>\n",
       "      <td>0</td>\n",
       "      <td>0</td>\n",
       "      <td>1.0</td>\n",
       "      <td>20.0</td>\n",
       "      <td>50000.0</td>\n",
       "      <td>50000.00</td>\n",
       "      <td>304.15</td>\n",
       "      <td>546</td>\n",
       "      <td>546</td>\n",
       "      <td>4615</td>\n",
       "      <td>0.00</td>\n",
       "      <td>1</td>\n",
       "      <td>0</td>\n",
       "      <td>0</td>\n",
       "      <td>6</td>\n",
       "      <td>3</td>\n",
       "      <td>4</td>\n",
       "      <td>18</td>\n",
       "      <td>50</td>\n",
       "      <td>55</td>\n",
       "      <td>876</td>\n",
       "      <td>5994</td>\n",
       "      <td>876</td>\n",
       "    </tr>\n",
       "  </tbody>\n",
       "</table>\n",
       "</div>"
      ],
      "text/plain": [
       "   posConditionCode_01  posConditionCode_08  ...  diffExpDate  diffOpenDate\n",
       "0                    1                    0  ...         4831           820\n",
       "1                    1                    0  ...         1603          1035\n",
       "2                    1                    0  ...         6264           848\n",
       "3                    0                    1  ...         5384           755\n",
       "4                    1                    0  ...         5994           876\n",
       "\n",
       "[5 rows x 64 columns]"
      ]
     },
     "execution_count": 44,
     "metadata": {
      "tags": []
     },
     "output_type": "execute_result"
    }
   ],
   "source": [
    "# show the df after feature engineering\n",
    "df_clean.head()"
   ]
  },
  {
   "cell_type": "markdown",
   "metadata": {
    "id": "omPQqtT3GbGJ"
   },
   "source": [
    "**My comment**: Update this stage, all feature engineering is done, and the dataset is ready to be used to build a machine learning (classification) model to predict fraud transactions."
   ]
  },
  {
   "cell_type": "markdown",
   "metadata": {
    "id": "rMpoOP0fGbGJ"
   },
   "source": [
    "### II: Build the classification model -- XGBoost <a class=\"anchor\" id=\"sub8\"></a>\n",
    "\n",
    "**Summary of the predictive model building strategies**:\n",
    "1. Train-test split:\n",
    "    - Make 80% of data as training set and 20% data as test set.\n",
    "    - In training set, leave 20% of data as validation set.\n",
    "    \n",
    "    \n",
    "2. About resampling on highly imbalanced dataset, as I have mentioned in $\\textbf{Question 1}$, the samples in this dataset is extremely imbalanced:\n",
    "    \n",
    "|   isFraud$=False$  | isFraud$=True$ |\n",
    "|--------------------------|-----------------------|\n",
    "|    98.42%               | 1.58%                |\n",
    "\n",
    "Therefore, I considered mainly $2$ resampling methods to deal with this problem: \n",
    "    - Over-Sampling (a.k.a. SMOTE)\n",
    "    - Under-Sampling\n",
    "\n",
    "Theoretically, I'll perform both Under-Sampling and SMOTE for resampling, and select the resampling method that achieve the best performance on the test sets. However, since for Over-Sampling(SMOTE), I need to fit more data which could cost much more time than Under-Sampling, therefore, I choose to use Under-Sampling in this project.\n",
    "\n",
    "\n",
    "3. Regarding to the choice of classification model in this data challenge, comparing with widely used models like logistic regression (usually as a baseline model), Random Forest, and DNNs, tree model still has some advantages due to its simple structure and explainable decision process. Especially for tabular data, gradient boosted decision trees (GBDT) models usually have better accuracy than deep networks, which is verified by many Kaggle competitions and real applications. Since the `XGBoost` framework is designed to be highly efficient, flexible and portableThus, I choose to use `XGBoost` for the classification task. \n",
    "\n",
    "\n",
    "4. For the optimization of the model hyperparameters, there are many algorithms and choices, e.g. grid search. However, I use the `Optuna` optimization framework for this classification model. `Optuna` uses Bayesian methods to search the model hyperparameters that yield the best score on the validation set metric, and works perfect with GPU environment with `XGBoost`. \n",
    "\n",
    "\n",
    "5. About the model evaluation metrices\n",
    "    - Accuracy: accuracy classification score\n",
    "    - Recall: evaluate the ability of the classifier to find all the positive samples\n",
    "    - Rrecision: evaluate the ability of the classifier not to label as positive a sample that is negative\n",
    "    - Roc-Auc score: compute Area Under the Receiver Operating Characteristic Curve (ROC-AUC) from prediction scores\n",
    "    - ROC curve (receiver operating characteristic curve) and AUC (Area under the ROC Curve)\n",
    "\n",
    "\n",
    "6. The whole workflow as follows:\n",
    "\n",
    "<font color=\"blue\">\n",
    "\\begin{equation}\n",
    "\\begin{matrix}\n",
    "\\text{Split the sets into \"Train\" and \"Test\"}&\n",
    "\\mathop{\\longrightarrow}\\limits^{\\text{Store }\\textbf{Test}\\text{ for later use}}\n",
    "    & \\textbf{Train} & \\longrightarrow &\\text{Create 5 trials in optuna} \\\\\n",
    "& & & &\\downarrow\\\\\n",
    "& & & &\\text{5 times iteration:}\\\\\n",
    "\\textbf{Train}&& \\textbf{validation}_k & \\longleftarrow & \\text{each time fit on validation set}\\\\\n",
    "\\text{Using Under-Sampling}&&&&\\downarrow\\\\\n",
    "\\text{fit}\\downarrow&&\\downarrow&&\\textbf{train}_k \\\\\n",
    "\\textbf{Model} \\text{ with tuned parameters}&\\mathop{\\longleftarrow}\\limits_{\\text{Select Hyperparameters}}^{\\text{Finish Iteration}}&\\text{get } \\textbf{Model}_k\\text{ and search best hyperparameters}\n",
    "&\\mathop{\\longleftarrow}\\limits^{\\text{Model Fitting}}&\\text{Using Under-Sampling}\\\\\n",
    "    \\downarrow\\\\\n",
    "    \\text{use }\\textbf{Test}\\text{ set to evaluate the model}\\\\\n",
    "\\end{matrix}\n",
    "\\end{equation}\n",
    "</font>\n",
    "\n",
    "Due to the limited time:\n",
    "- I'll only use `XGBoost` as the predictive model for the task. \n",
    "- I'll ignore the K-fold training-validation cross-validation."
   ]
  },
  {
   "cell_type": "code",
   "execution_count": 45,
   "metadata": {
    "colab": {
     "base_uri": "https://localhost:8080/"
    },
    "id": "lr2-B5Q6GbGJ",
    "outputId": "3d57b780-9d47-4ada-f165-a67d7c6fc6fa"
   },
   "outputs": [
    {
     "name": "stdout",
     "output_type": "stream",
     "text": [
      "Training set size = 503272.\n",
      "Validation set size = 125818.\n",
      "Test set size = 157273.\n"
     ]
    }
   ],
   "source": [
    "# part 1: train-test split for building model\n",
    "\n",
    "# split the clean df into feature matrix X and target y\n",
    "feature_list = list(set(df_clean.columns) - {'isFraud'})\n",
    "X = df_clean[feature_list]\n",
    "y = df_clean['isFraud']\n",
    "\n",
    "# standardize the features on training set\n",
    "stand = StandardScaler()\n",
    "stand.fit(X)\n",
    "X = stand.transform(X)\n",
    "\n",
    "# perform train-test split\n",
    "X_train_whole, X_test, y_train_whole, y_test = train_test_split(X, y, stratify=y, test_size=0.2)\n",
    "X_train, X_valid, y_train, y_valid = train_test_split(X_train_whole, y_train_whole, \n",
    "                                                      stratify=y_train_whole, test_size=0.2)\n",
    "print(f\"Training set size = {X_train.shape[0]}.\")\n",
    "print(f\"Validation set size = {X_valid.shape[0]}.\")\n",
    "print(f\"Test set size = {X_test.shape[0]}.\")"
   ]
  },
  {
   "cell_type": "code",
   "execution_count": 46,
   "metadata": {
    "id": "1uY70Z2RGbGK"
   },
   "outputs": [],
   "source": [
    "# Created the Xgboost specific DMatrix data format from the numpy array to optimise memory consumption\n",
    "\n",
    "dtrain = xgb.DMatrix(X_train, label=y_train, feature_names=feature_list, missing=np.NAN)\n",
    "dvalid = xgb.DMatrix(X_valid, label=y_valid, feature_names=feature_list, missing=np.NAN)"
   ]
  },
  {
   "cell_type": "code",
   "execution_count": 47,
   "metadata": {
    "id": "11bfEL2KGbGK"
   },
   "outputs": [],
   "source": [
    "def objective(trial):\n",
    "    \"\"\"Define the objective function to be optimized; Perform hyperparameters search \n",
    "    using valid set by XGBoost framewrok\n",
    "    Params:\n",
    "        trial: suggest hyperparameter values using trial object\n",
    "    return:\n",
    "        accuracy: accuracy classification score\n",
    "    \"\"\"\n",
    "    # specify the search space that XGBoost hyperparameters to be tuned\n",
    "    tree_method = ['exact','approx','hist','gpu_hist']\n",
    "    boosting_list = ['gbtree', 'gblinear']\n",
    "    objective_list_reg = ['reg:squarederror', 'reg:gamma', 'reg:tweedie', 'binary:logistic']\n",
    "    metric_list = ['rmse']\n",
    "    # create parameter dict\n",
    "    params = {\n",
    "        'boosting':trial.suggest_categorical('boosting', boosting_list),\n",
    "        'tree_method':trial.suggest_categorical('tree_method', tree_method),\n",
    "        'eval_metric':trial.suggest_categorical('eval_metric', metric_list),\n",
    "        'objective':trial.suggest_categorical('objective', objective_list_reg),\n",
    "        'reg_alpha':trial.suggest_int('reg_alpha', 0, 5),\n",
    "        'reg_lambda':trial.suggest_int('reg_lambda', 0, 5),\n",
    "        'min_child_weight':trial.suggest_int('min_child_weight', 0, 5),\n",
    "        'n_estimators': trial.suggest_int('n_estimators', 10, 50),\n",
    "        'max_depth': trial.suggest_int('max_depth', 5, 20),\n",
    "        'learning_rate': trial.suggest_uniform('learning_rate', 0.01, .1),\n",
    "        'subsample': trial.suggest_uniform('subsample', 0.5, 1),\n",
    "        'colsample_bytree': trial.suggest_uniform('colsample_bytree', 0.50, 1),\n",
    "        'colsample_bynode':trial.suggest_discrete_uniform('colsample_bynode', 0.1, 1, 0.01),\n",
    "        'colsample_bylevel':trial.suggest_discrete_uniform('colsample_bylevel', 0.1, 1, 0.01),\n",
    "        'gamma': trial.suggest_int('gamma', 0, 10),\n",
    "    }\n",
    "    # train xgboost classifier using training set and predict on valid set\n",
    "    bst = xgb.train(params, dtrain)\n",
    "    preds = bst.predict(dvalid)\n",
    "    pred_labels = np.rint(preds)\n",
    "    \n",
    "    # evaluate trials based on their accuracy on the valid set\n",
    "    accuracy = accuracy_score(y_valid, pred_labels)\n",
    "    return accuracy"
   ]
  },
  {
   "cell_type": "code",
   "execution_count": 48,
   "metadata": {
    "colab": {
     "base_uri": "https://localhost:8080/"
    },
    "id": "NZ0VYB2pGbGK",
    "outputId": "66aa9c13-6013-41d0-b205-127153f05749"
   },
   "outputs": [
    {
     "name": "stderr",
     "output_type": "stream",
     "text": [
      "\u001b[32m[I 2021-02-02 00:43:46,653]\u001b[0m A new study created in memory with name: no-name-8805a617-96b8-4409-bc7f-2ab216e307f1\u001b[0m\n",
      "\u001b[32m[I 2021-02-02 00:44:04,824]\u001b[0m Trial 0 finished with value: 0.9842232430971721 and parameters: {'boosting': 'gblinear', 'tree_method': 'exact', 'eval_metric': 'rmse', 'objective': 'reg:tweedie', 'reg_alpha': 1, 'reg_lambda': 3, 'min_child_weight': 1, 'n_estimators': 12, 'max_depth': 12, 'learning_rate': 0.02425281877292949, 'subsample': 0.5494985367442801, 'colsample_bytree': 0.7930884658366204, 'colsample_bynode': 0.62, 'colsample_bylevel': 0.98, 'gamma': 6}. Best is trial 0 with value: 0.9842232430971721.\u001b[0m\n",
      "\u001b[32m[I 2021-02-02 00:44:28,607]\u001b[0m Trial 1 finished with value: 0.9842073471204438 and parameters: {'boosting': 'gbtree', 'tree_method': 'approx', 'eval_metric': 'rmse', 'objective': 'reg:squarederror', 'reg_alpha': 2, 'reg_lambda': 1, 'min_child_weight': 4, 'n_estimators': 39, 'max_depth': 7, 'learning_rate': 0.0882586700747469, 'subsample': 0.6355842860194663, 'colsample_bytree': 0.7354879305454848, 'colsample_bynode': 0.87, 'colsample_bylevel': 0.83, 'gamma': 7}. Best is trial 1 with value: 0.9842073471204438.\u001b[0m\n",
      "\u001b[32m[I 2021-02-02 00:44:32,455]\u001b[0m Trial 2 finished with value: 0.9842550350506287 and parameters: {'boosting': 'gbtree', 'tree_method': 'hist', 'eval_metric': 'rmse', 'objective': 'reg:squarederror', 'reg_alpha': 1, 'reg_lambda': 1, 'min_child_weight': 2, 'n_estimators': 16, 'max_depth': 14, 'learning_rate': 0.07294599019763862, 'subsample': 0.8514566278758027, 'colsample_bytree': 0.6634825070016213, 'colsample_bynode': 0.91, 'colsample_bylevel': 0.49, 'gamma': 10}. Best is trial 1 with value: 0.9842073471204438.\u001b[0m\n",
      "\u001b[32m[I 2021-02-02 00:44:52,411]\u001b[0m Trial 3 finished with value: 0.9842073471204438 and parameters: {'boosting': 'gbtree', 'tree_method': 'approx', 'eval_metric': 'rmse', 'objective': 'binary:logistic', 'reg_alpha': 5, 'reg_lambda': 2, 'min_child_weight': 2, 'n_estimators': 29, 'max_depth': 13, 'learning_rate': 0.063477178099458, 'subsample': 0.7259060971214135, 'colsample_bytree': 0.6406407282020541, 'colsample_bynode': 0.79, 'colsample_bylevel': 0.7, 'gamma': 4}. Best is trial 1 with value: 0.9842073471204438.\u001b[0m\n",
      "\u001b[32m[I 2021-02-02 00:45:03,731]\u001b[0m Trial 4 finished with value: 0.9842073471204438 and parameters: {'boosting': 'gblinear', 'tree_method': 'approx', 'eval_metric': 'rmse', 'objective': 'binary:logistic', 'reg_alpha': 5, 'reg_lambda': 4, 'min_child_weight': 3, 'n_estimators': 14, 'max_depth': 15, 'learning_rate': 0.02119247212563138, 'subsample': 0.7824685119479291, 'colsample_bytree': 0.5259769325780757, 'colsample_bynode': 0.58, 'colsample_bylevel': 0.65, 'gamma': 4}. Best is trial 1 with value: 0.9842073471204438.\u001b[0m\n"
     ]
    },
    {
     "name": "stdout",
     "output_type": "stream",
     "text": [
      "Best trial: score 0.9842073471204438, params {'boosting': 'gbtree', 'tree_method': 'approx', 'eval_metric': 'rmse', 'objective': 'reg:squarederror', 'reg_alpha': 2, 'reg_lambda': 1, 'min_child_weight': 4, 'n_estimators': 39, 'max_depth': 7, 'learning_rate': 0.0882586700747469, 'subsample': 0.6355842860194663, 'colsample_bytree': 0.7354879305454848, 'colsample_bynode': 0.87, 'colsample_bylevel': 0.83, 'gamma': 7}\n"
     ]
    }
   ],
   "source": [
    "# create a study object and invoke the optimize method over 5 trials\n",
    "study = optuna.create_study()\n",
    "study.optimize(objective, n_trials=5)\n",
    "\n",
    "print('Best trial: score {}, params {}'.format(study.best_trial.value, study.best_trial.params))"
   ]
  },
  {
   "cell_type": "code",
   "execution_count": 49,
   "metadata": {
    "id": "P6fubU44GbGL"
   },
   "outputs": [],
   "source": [
    "# get the optimized hyperparameters grid\n",
    "best_params = study.best_trial.params\n",
    "# fit the XGBoost classifier with optimal hyperparameters\n",
    "clf = xgb.XGBClassifier(**best_params)"
   ]
  },
  {
   "cell_type": "code",
   "execution_count": 50,
   "metadata": {
    "colab": {
     "base_uri": "https://localhost:8080/"
    },
    "id": "H_LScsrZfpcc",
    "outputId": "1aabeff8-5739-4cbf-d8a9-31911297fafe"
   },
   "outputs": [
    {
     "name": "stdout",
     "output_type": "stream",
     "text": [
      "After the resampling, the resampled condition in train label set = Counter({0: 7947, 1: 7947}).\n"
     ]
    }
   ],
   "source": [
    "# perform Under-Sampling on the whole traning set\n",
    "\n",
    "rus = RandomUnderSampler()\n",
    "X_train_resample, y_train_resample = rus.fit_sample(X_train, y_train)\n",
    "counter = Counter(y_train_resample)\n",
    "print(f\"After the resampling, the resampled condition in train label set = {counter}.\")"
   ]
  },
  {
   "cell_type": "code",
   "execution_count": 51,
   "metadata": {
    "colab": {
     "base_uri": "https://localhost:8080/"
    },
    "id": "ZMDsraCmGbGL",
    "outputId": "0fa138f8-cde9-425c-98ce-dbf8c5f53b2c"
   },
   "outputs": [
    {
     "name": "stdout",
     "output_type": "stream",
     "text": [
      "CPU times: user 3.85 s, sys: 5.03 ms, total: 3.85 s\n",
      "Wall time: 3.85 s\n"
     ]
    },
    {
     "data": {
      "text/plain": [
       "XGBClassifier(base_score=0.5, booster='gbtree', boosting='gbtree',\n",
       "              colsample_bylevel=0.83, colsample_bynode=0.87,\n",
       "              colsample_bytree=0.7354879305454848, eval_metric='rmse', gamma=7,\n",
       "              learning_rate=0.0882586700747469, max_delta_step=0, max_depth=7,\n",
       "              min_child_weight=4, missing=None, n_estimators=39, n_jobs=1,\n",
       "              nthread=None, objective='reg:squarederror', random_state=0,\n",
       "              reg_alpha=2, reg_lambda=1, scale_pos_weight=1, seed=None,\n",
       "              silent=None, subsample=0.6355842860194663, tree_method='approx',\n",
       "              verbosity=1)"
      ]
     },
     "execution_count": 51,
     "metadata": {
      "tags": []
     },
     "output_type": "execute_result"
    }
   ],
   "source": [
    "%time clf.fit(X_train_resample, y_train_resample)  # use the training data"
   ]
  },
  {
   "cell_type": "code",
   "execution_count": 52,
   "metadata": {
    "id": "uCB9e6a4GbGL"
   },
   "outputs": [],
   "source": [
    "# define helper function for model evaluation\n",
    "\n",
    "def evaluate_clf_model(model, X_test, y_test, label, verbose=True):\n",
    "    \"\"\"Help function to define evaluation metrices: scores and plots\n",
    "    Params:\n",
    "        model: the trained classification model\n",
    "        X_test: test feature set\n",
    "        y_test: test label set\n",
    "        label: name of the classification model\n",
    "    Return:\n",
    "        accu_score: accuracy classification score\n",
    "        recall: evaluate the ability of the classifier to find all the positive samples\n",
    "        precision: evaluate the ability of the classifier not to label as positive a sample that is negative\n",
    "        roc_auc: compute Area Under the Receiver Operating Characteristic Curve (ROC-AUC) from prediction scores\n",
    "    \"\"\"\n",
    "    # compute clf model scores\n",
    "    score = model.predict_proba(X_test)[:, 1]\n",
    "    fpr, tpr, threshs = roc_curve(y_test, score)\n",
    "    y_pred = model.predict(X_test)\n",
    "    accu_score = accuracy_score(y_test, y_pred)\n",
    "    recall = recall_score(y_test, y_pred)\n",
    "    precision = precision_score(y_test, y_pred)\n",
    "    roc_auc = roc_auc_score(y_test, score)\n",
    "    \n",
    "    # draw the ROC-AUC curve\n",
    "    plt.figure(figsize=(12, 6))\n",
    "    sns.set_style(\"whitegrid\")\n",
    "    plt.plot(fpr, tpr, label=label, alpha=0.6)\n",
    "    plt.plot([0, 1], [0, 1], 'k--', label='reference')\n",
    "    plt.legend(fontsize=12)\n",
    "    plt.title(f'ROC curve of {label} classifier on test set', size=16)\n",
    "    plt.xlabel('FPR', size=16)\n",
    "    plt.ylabel('TPR', size=16)\n",
    "    plt.show()\n",
    "\n",
    "    if verbose:\n",
    "        print('--------- Results for XGBClassifier ---------')\n",
    "        print(f\"Accuracy score on test set = {accu_score}.\")\n",
    "        print(f\"Recall score on test set = {recall}.\")\n",
    "        print(f\"Precision score on test set = {precision}.\")\n",
    "        print(f\"ROC-AUC score on test set = {roc_auc}.\")\n",
    "\n",
    "    return accu_score, recall, precision, roc_auc"
   ]
  },
  {
   "cell_type": "code",
   "execution_count": 53,
   "metadata": {
    "colab": {
     "base_uri": "https://localhost:8080/",
     "height": 496
    },
    "id": "vm570P8AIYId",
    "outputId": "d6ada85c-bfd5-4806-c8d9-ced7e601471d"
   },
   "outputs": [
    {
     "data": {
      "image/png": "[encoded data removed]",
      "text/plain": [
       "<Figure size 864x432 with 1 Axes>"
      ]
     },
     "metadata": {
      "needs_background": "light",
      "tags": []
     },
     "output_type": "display_data"
    },
    {
     "name": "stdout",
     "output_type": "stream",
     "text": [
      "--------- Results for XGBClassifier ---------\n",
      "Accuracy score on test set = 0.6988039905133112.\n",
      "Recall score on test set = 0.8252114377768828.\n",
      "Precision score on test set = 0.041829131366744925.\n",
      "ROC-AUC score on test set = 0.8402131665686511.\n"
     ]
    }
   ],
   "source": [
    "# report clf model evaluation metrices\n",
    "\n",
    "accu_score_xgb, recall_xgb, precision_xgb, roc_auc_score_xgb = evaluate_clf_model(clf, X_test, y_test, 'XGBoost')"
   ]
  },
  {
   "cell_type": "code",
   "execution_count": 54,
   "metadata": {
    "colab": {
     "base_uri": "https://localhost:8080/",
     "height": 638
    },
    "id": "_jFgAllpObpF",
    "outputId": "162b4478-43b4-4e93-f3ac-64d420678c25"
   },
   "outputs": [
    {
     "data": {
      "text/plain": [
       "<matplotlib.axes._subplots.AxesSubplot at 0x7f0f8056c630>"
      ]
     },
     "execution_count": 54,
     "metadata": {
      "tags": []
     },
     "output_type": "execute_result"
    },
    {
     "data": {
      "image/png": "[encoded data removed]",
      "text/plain": [
       "<Figure size 720x720 with 1 Axes>"
      ]
     },
     "metadata": {
      "tags": []
     },
     "output_type": "display_data"
    }
   ],
   "source": [
    "# plot the top 20 feature importances\n",
    "\n",
    "fig, ax = plt.subplots(1,1,figsize=(10, 10))\n",
    "clf.get_booster().feature_names = feature_list\n",
    "xgb.plot_importance(clf.get_booster(), max_num_features=20, ax=ax)"
   ]
  },
  {
   "cell_type": "code",
   "execution_count": 55,
   "metadata": {
    "id": "vW4oaiBZGbGL"
   },
   "outputs": [],
   "source": [
    "# save model\n",
    "# clf.save(f'transaction_fraud_clf_model.h5')"
   ]
  },
  {
   "cell_type": "markdown",
   "metadata": {
    "id": "1Y33BGpWDTsW"
   },
   "source": [
    "### Summary of Question 4: <a class=\"anchor\" id=\"sub9\"></a>\n",
    "\n",
    "1. In this section, I build a XGBoost classifier to predict the fraud transactions with deliberate design of feature engineering. All the related model adjustments were provided as `part II: Build the classification model -- XGBoost`. \n",
    "\n",
    "\n",
    "2. With the optimized classification model, the evaluation summary is:\n",
    "    - Accuracy score on test set = 0.6988\n",
    "    - Recall score on test set = 0.8252\n",
    "    - Precision score on test set = 0.0418\n",
    "    - ROC-AUC score on test set = 0.8402\n",
    "\n",
    "Based on the metrices above, it might implies that my trained classifier achieves the good performance on the positive class with high AUC, but at the cost of a high false negatives rate (or a low number of true negative).\n",
    "\n",
    "\n",
    "3. Based on the feature importance plot, it's clearly showed that the two reconstructed features (`customerIdFraudCount`, `merchantFraudCount`) together contribute the most to the classification of fraud transactions. In addition, it also implies that transaction amount, address change since transaction day, some pos-entry modes, and cards last 4 digits could be highly associated features regarding to  fraud transactions."
   ]
  },
  {
   "cell_type": "markdown",
   "metadata": {
    "id": "ALw6Vo7UGbGL"
   },
   "source": [
    "## Appendix of Question 4: Future work <a class=\"anchor\" id=\"fifth-bullet\"></a>"
   ]
  },
  {
   "cell_type": "markdown",
   "metadata": {
    "id": "-kTqVOT5GbGM"
   },
   "source": [
    "There are a few additional data analysis and modeling details that I think will improvement the whole workflow:\n",
    "\n",
    "1. Due to the time limit, I didn't implement K-fold cross validation of the XGBoost framework into the model pipeline. To deal with the extremely imbalance data, I'll suggest using the function ``StratifiedKFold`` in ``model_selection`` to ensure that the Train and Test data sets inherit the proportion 1.58% \"$\\text{isFraud}=True$\" from the dataset.\n",
    "\n",
    "\n",
    "2. It's usually necessary to build a baseline classification model (e.g. logistic regression) before design more complicated models (e.g. XGBoost or DNNs). By tuning on baseline model, we can gain more understanding about the model parameters (e.g. threshold between recall and precision in this case) to provide guidance for next modeling.\n",
    "\n",
    "\n",
    "2. An rigorous approach to test existance of multicolinearity in the datset should be added. For example, the field `creditLimit` is highly correlated with `currentBalance` and `availableMoney`, this relation need be the cause of multicolinearity. \n",
    "\n",
    "\n",
    "3. Information of `cardCVV` and `enteredCVV` can provide additional insights for classification of fraud transaction. Since for records with dismatched cardCVV and enteredCVV, it's of suspect that those transactions could be fraudulent. \n",
    "\n",
    "\n",
    "4. Since we have four datetime-related features, it'll insightful to analyze the relations between fraud transactions are during specific time/day periods. With more data about credit transaction, It's recommanded to perform time-series analysis to detect time slots with high-risk of fraud transactionsare."
   ]
  },
  {
   "cell_type": "code",
   "execution_count": 55,
   "metadata": {
    "id": "j2JeYrRHGbGM"
   },
   "outputs": [],
   "source": []
  }
 ],
 "metadata": {
  "accelerator": "GPU",
  "colab": {
   "collapsed_sections": [
    "xeURrXOEGbF9",
    "lxbBcj9NGbGA",
    "K4VBjEutGbGF"
   ],
   "name": "Data_Challenge_CS_C1817072.ipynb",
   "provenance": []
  },
  "kernelspec": {
   "display_name": "Python 3",
   "language": "python",
   "name": "python3"
  },
  "language_info": {
   "codemirror_mode": {
    "name": "ipython",
    "version": 3
   },
   "file_extension": ".py",
   "mimetype": "text/x-python",
   "name": "python",
   "nbconvert_exporter": "python",
   "pygments_lexer": "ipython3",
   "version": "3.7.2"
  }
 },
 "nbformat": 4,
 "nbformat_minor": 1
}
