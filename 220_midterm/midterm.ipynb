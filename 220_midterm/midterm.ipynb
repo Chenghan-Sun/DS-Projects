{
 "cells": [
  {
   "cell_type": "markdown",
   "metadata": {},
   "source": [
    "# STA 220: Midterm\n",
    "\n",
    "### Worth 200 Points\n",
    "\n",
    "Winter 2020"
   ]
  },
  {
   "cell_type": "markdown",
   "metadata": {},
   "source": [
    "## Information\n",
    "\n",
    "After the colons (in the same line) please write just your first name, last name, and the 9 digit student ID number below.\n",
    "\n",
    "First Name: **Chenghan**\n",
    "\n",
    "Last Name: **Sun**\n",
    "\n",
    "Student ID: **915030521**"
   ]
  },
  {
   "cell_type": "markdown",
   "metadata": {},
   "source": [
    "## Instructions\n",
    "\n",
    "Please print your answer notebook to pdf (make sure that it is not unnecessarily long due to long output) and submit as the homework solution with your zip file.\n",
    "\n",
    "For readability you,\n",
    "\n",
    "- MUST add cells in between the exercise statements and add answers within them and\n",
    "- MUST NOT modify the existing cells, particularly not the problem statement\n",
    "- you may add multiple cells between exercise cells\n",
    "\n",
    "To make markdown, please switch the cell type to markdown (from code) - you can hit 'm' when you are in command mode - and use the markdown language.  For a brief tutorial see: https://daringfireball.net/projects/markdown/syntax"
   ]
  },
  {
   "cell_type": "markdown",
   "metadata": {},
   "source": [
    "## Trans-Atlantic Slave Trade\n",
    "\n",
    "In this homework, we will uncover some of the numbers behind the Trans-atlantic slave trade (TAST), also known as the middle passage, that brought African slaves to the Americas.  The middle passage is reported to have forcibly migrated over 10 million Africans to the Americas over a roughly 3 century time span.  Many aspects of the TAST is little known by most people, such as the countries that constituted this network of slave ships, the regions from which the slaves were taken, and the number of slaves captured from Africa.\n",
    "\n",
    "This last number is especially important since the number of slaves taken from Africa can impact other estimates that result from this.  For example, when estimating the population of Africa in a given decade, demographers will use population growth models and more recent census data.  For example, there are roughly X number of people in Africa and such populations tend to grow at rate M.  Then if we want to calculate the population one century ahead then we just apply a simple formula that assumes that the population grows at this rate.  But if the population is being drained by the slave trade, then this number will tend to be underestimated because the growth rate is overestimated.  To account for this models need to take into account this drain on the population.\n",
    "\n",
    "Throughout this homework you will need to follow the principles of graphical excellence and the grammar of graphics.  **Use only Plotnine for your graphics**, do not use Pyplot, Seaborn, or Plotly since they do not follow closely the grammar of graphics.  Be sure to include titles and necessary contextual captions.\n",
    "\n",
    "**Warning:** The Trans-Atlantic Slave Trade remains one of the most horrific abuses of human rights in history.  This homework deals with the numbers behind this forced migration, please be aware that this is a sensitive topic for possibly yourself and others.   A suitable amount of respect and seriousness is required when dealing with this data."
   ]
  },
  {
   "cell_type": "code",
   "execution_count": 1,
   "metadata": {},
   "outputs": [],
   "source": [
    "import pandas as pd\n",
    "import numpy as np\n",
    "import sys\n",
    "from plotnine import *"
   ]
  },
  {
   "cell_type": "markdown",
   "metadata": {},
   "source": [
    "**Exercise 1.** The data.\n",
    "\n",
    "1. Read in the Trans-Atlantic Slave Trade database with Pandas.  Hint: if you use the unix tool `file` you can find that this CSV is encoded with iso-8859-1 character set.  Make sure that all missing values are encoded as NaN.\n",
    "2. Open up the pdf file: TAST_codebook.pdf which is the data dictionary for this and other related datasets.  Many of the variables in the codebook are not in this dataset because it is describing an updated dataset. Create a list where you describe the meaning of the columns of your imported dataframe.  You can group similar columns together when describing their rough meaning, such as ownera,...,ownerp are owners of the slave ships.\n",
    "\n",
    "Throughout we will disregard all time variables other than year since they are unreliable."
   ]
  },
  {
   "cell_type": "code",
   "execution_count": 2,
   "metadata": {},
   "outputs": [
    {
     "data": {
      "text/html": [
       "<div>\n",
       "<style scoped>\n",
       "    .dataframe tbody tr th:only-of-type {\n",
       "        vertical-align: middle;\n",
       "    }\n",
       "\n",
       "    .dataframe tbody tr th {\n",
       "        vertical-align: top;\n",
       "    }\n",
       "\n",
       "    .dataframe thead th {\n",
       "        text-align: right;\n",
       "    }\n",
       "</style>\n",
       "<table border=\"1\" class=\"dataframe\">\n",
       "  <thead>\n",
       "    <tr style=\"text-align: right;\">\n",
       "      <th></th>\n",
       "      <th>voyageid</th>\n",
       "      <th>evgreen</th>\n",
       "      <th>shipname</th>\n",
       "      <th>national</th>\n",
       "      <th>natinimp</th>\n",
       "      <th>placcons</th>\n",
       "      <th>yrcons</th>\n",
       "      <th>placreg</th>\n",
       "      <th>yrreg</th>\n",
       "      <th>rig</th>\n",
       "      <th>...</th>\n",
       "      <th>sourcei</th>\n",
       "      <th>sourcej</th>\n",
       "      <th>sourcek</th>\n",
       "      <th>sourcel</th>\n",
       "      <th>sourcem</th>\n",
       "      <th>sourcen</th>\n",
       "      <th>sourceo</th>\n",
       "      <th>sourcep</th>\n",
       "      <th>sourceq</th>\n",
       "      <th>sourcer</th>\n",
       "    </tr>\n",
       "  </thead>\n",
       "  <tbody>\n",
       "    <tr>\n",
       "      <th>0</th>\n",
       "      <td>1</td>\n",
       "      <td>1.0</td>\n",
       "      <td>Pastora de Lima</td>\n",
       "      <td>4.0</td>\n",
       "      <td>6.0</td>\n",
       "      <td>NaN</td>\n",
       "      <td>NaN</td>\n",
       "      <td>NaN</td>\n",
       "      <td>NaN</td>\n",
       "      <td>40.0</td>\n",
       "      <td>...</td>\n",
       "      <td>NaN</td>\n",
       "      <td>NaN</td>\n",
       "      <td>NaN</td>\n",
       "      <td>NaN</td>\n",
       "      <td>NaN</td>\n",
       "      <td>NaN</td>\n",
       "      <td>NaN</td>\n",
       "      <td>NaN</td>\n",
       "      <td>NaN</td>\n",
       "      <td>NaN</td>\n",
       "    </tr>\n",
       "    <tr>\n",
       "      <th>1</th>\n",
       "      <td>2</td>\n",
       "      <td>1.0</td>\n",
       "      <td>Tibério</td>\n",
       "      <td>NaN</td>\n",
       "      <td>6.0</td>\n",
       "      <td>NaN</td>\n",
       "      <td>NaN</td>\n",
       "      <td>NaN</td>\n",
       "      <td>NaN</td>\n",
       "      <td>40.0</td>\n",
       "      <td>...</td>\n",
       "      <td>NaN</td>\n",
       "      <td>NaN</td>\n",
       "      <td>NaN</td>\n",
       "      <td>NaN</td>\n",
       "      <td>NaN</td>\n",
       "      <td>NaN</td>\n",
       "      <td>NaN</td>\n",
       "      <td>NaN</td>\n",
       "      <td>NaN</td>\n",
       "      <td>NaN</td>\n",
       "    </tr>\n",
       "    <tr>\n",
       "      <th>2</th>\n",
       "      <td>3</td>\n",
       "      <td>1.0</td>\n",
       "      <td>Paquete Real</td>\n",
       "      <td>NaN</td>\n",
       "      <td>6.0</td>\n",
       "      <td>NaN</td>\n",
       "      <td>NaN</td>\n",
       "      <td>NaN</td>\n",
       "      <td>NaN</td>\n",
       "      <td>40.0</td>\n",
       "      <td>...</td>\n",
       "      <td>NaN</td>\n",
       "      <td>NaN</td>\n",
       "      <td>NaN</td>\n",
       "      <td>NaN</td>\n",
       "      <td>NaN</td>\n",
       "      <td>NaN</td>\n",
       "      <td>NaN</td>\n",
       "      <td>NaN</td>\n",
       "      <td>NaN</td>\n",
       "      <td>NaN</td>\n",
       "    </tr>\n",
       "    <tr>\n",
       "      <th>3</th>\n",
       "      <td>4</td>\n",
       "      <td>1.0</td>\n",
       "      <td>Bom Caminho</td>\n",
       "      <td>NaN</td>\n",
       "      <td>6.0</td>\n",
       "      <td>NaN</td>\n",
       "      <td>NaN</td>\n",
       "      <td>NaN</td>\n",
       "      <td>NaN</td>\n",
       "      <td>40.0</td>\n",
       "      <td>...</td>\n",
       "      <td>NaN</td>\n",
       "      <td>NaN</td>\n",
       "      <td>NaN</td>\n",
       "      <td>NaN</td>\n",
       "      <td>NaN</td>\n",
       "      <td>NaN</td>\n",
       "      <td>NaN</td>\n",
       "      <td>NaN</td>\n",
       "      <td>NaN</td>\n",
       "      <td>NaN</td>\n",
       "    </tr>\n",
       "    <tr>\n",
       "      <th>4</th>\n",
       "      <td>5</td>\n",
       "      <td>1.0</td>\n",
       "      <td>Benigretta</td>\n",
       "      <td>NaN</td>\n",
       "      <td>6.0</td>\n",
       "      <td>NaN</td>\n",
       "      <td>NaN</td>\n",
       "      <td>NaN</td>\n",
       "      <td>NaN</td>\n",
       "      <td>25.0</td>\n",
       "      <td>...</td>\n",
       "      <td>NaN</td>\n",
       "      <td>NaN</td>\n",
       "      <td>NaN</td>\n",
       "      <td>NaN</td>\n",
       "      <td>NaN</td>\n",
       "      <td>NaN</td>\n",
       "      <td>NaN</td>\n",
       "      <td>NaN</td>\n",
       "      <td>NaN</td>\n",
       "      <td>NaN</td>\n",
       "    </tr>\n",
       "  </tbody>\n",
       "</table>\n",
       "<p>5 rows × 98 columns</p>\n",
       "</div>"
      ],
      "text/plain": [
       "   voyageid  evgreen         shipname  national  natinimp  placcons  yrcons  \\\n",
       "0         1      1.0  Pastora de Lima       4.0       6.0       NaN     NaN   \n",
       "1         2      1.0          Tibério       NaN       6.0       NaN     NaN   \n",
       "2         3      1.0     Paquete Real       NaN       6.0       NaN     NaN   \n",
       "3         4      1.0      Bom Caminho       NaN       6.0       NaN     NaN   \n",
       "4         5      1.0       Benigretta       NaN       6.0       NaN     NaN   \n",
       "\n",
       "   placreg  yrreg   rig  ...  sourcei  sourcej  sourcek sourcel sourcem  \\\n",
       "0      NaN    NaN  40.0  ...      NaN      NaN      NaN     NaN     NaN   \n",
       "1      NaN    NaN  40.0  ...      NaN      NaN      NaN     NaN     NaN   \n",
       "2      NaN    NaN  40.0  ...      NaN      NaN      NaN     NaN     NaN   \n",
       "3      NaN    NaN  40.0  ...      NaN      NaN      NaN     NaN     NaN   \n",
       "4      NaN    NaN  25.0  ...      NaN      NaN      NaN     NaN     NaN   \n",
       "\n",
       "  sourcen sourceo sourcep sourceq sourcer  \n",
       "0     NaN     NaN     NaN     NaN     NaN  \n",
       "1     NaN     NaN     NaN     NaN     NaN  \n",
       "2     NaN     NaN     NaN     NaN     NaN  \n",
       "3     NaN     NaN     NaN     NaN     NaN  \n",
       "4     NaN     NaN     NaN     NaN     NaN  \n",
       "\n",
       "[5 rows x 98 columns]"
      ]
     },
     "execution_count": 2,
     "metadata": {},
     "output_type": "execute_result"
    }
   ],
   "source": [
    "#1 Read in the Trans-Atlantic Slave Trade database with Pandas\n",
    "data_path = './tastdb-2010.csv'\n",
    "df_tast = pd.read_csv(data_path, encoding='iso-8859-1', na_values=' ', low_memory=False)\n",
    "df_tast.head(5)"
   ]
  },
  {
   "cell_type": "code",
   "execution_count": 3,
   "metadata": {},
   "outputs": [
    {
     "name": "stdout",
     "output_type": "stream",
     "text": [
      "TAST text file: rows of the dataset = 34941; number of variables = 98\n"
     ]
    },
    {
     "data": {
      "text/plain": [
       "Index(['voyageid', 'evgreen', 'shipname', 'national', 'natinimp', 'placcons',\n",
       "       'yrcons', 'placreg', 'yrreg', 'rig', 'tonnage', 'tonmod', 'guns',\n",
       "       'ownera', 'ownerb', 'ownerc', 'ownerd', 'ownere', 'ownerf', 'ownerg',\n",
       "       'ownerh', 'owneri', 'ownerj', 'ownerk', 'ownerl', 'ownerm', 'ownern',\n",
       "       'ownero', 'ownerp', 'fate', 'fate2', 'fate3', 'fate4', 'resistance',\n",
       "       'ptdepimp', 'plac1tra', 'plac2tra', 'plac3tra', 'mjbyptimp', 'npafttra',\n",
       "       'sla1port', 'adpsale1', 'adpsale2', 'mjslptimp', 'portret', 'yearam',\n",
       "       'Date_dep', 'Date_buy', 'Date_leftAfr', 'Date_land1', 'Date_depam',\n",
       "       'Date_end', 'voy1imp', 'voy2imp', 'captaina', 'captainb', 'captainc',\n",
       "       'crew1', 'crew3', 'crewdied', 'slintend', 'ncar13', 'ncar15', 'ncar17',\n",
       "       'tslavesd', 'slaximp', 'slaarriv', 'slas32', 'slas36', 'slas39',\n",
       "       'slamimp', 'menrat7', 'womrat7', 'boyrat7', 'girlrat7', 'malrat7',\n",
       "       'chilrat7', 'jamcaspr', 'vymrtimp', 'vymrtrat', 'sourcea', 'sourceb',\n",
       "       'sourcec', 'sourced', 'sourcee', 'sourcef', 'sourceg', 'sourceh',\n",
       "       'sourcei', 'sourcej', 'sourcek', 'sourcel', 'sourcem', 'sourcen',\n",
       "       'sourceo', 'sourcep', 'sourceq', 'sourcer'],\n",
       "      dtype='object')"
      ]
     },
     "execution_count": 3,
     "metadata": {},
     "output_type": "execute_result"
    }
   ],
   "source": [
    "# check data dimensions\n",
    "print(f'TAST text file: rows of the dataset = {df_tast.shape[0]}; number of variables = {df_tast.shape[1]}')\n",
    "df_tast.columns # check all the variables"
   ]
  },
  {
   "cell_type": "markdown",
   "metadata": {},
   "source": [
    "Noticed the existance of some imputed variables, I decided to drop them as they would have no benefits for later data analysis.\n",
    "\n",
    "    For these imputed variables, some of them were titled with 'imp' as last three characters:  \n",
    "        natinimp  \n",
    "        ptdepimp  \n",
    "        mjbyptimp  \n",
    "        mjslptimp  \n",
    "        voy1imp  \n",
    "        voy2imp  \n",
    "        slaximp  \n",
    "        slamimp  \n",
    "        vymrtimp\n",
    "        \n",
    "    Other imputed variables used special names:  \n",
    "        tonmod  \n",
    "        fate2  \n",
    "        fate3  \n",
    "        fate4  \n",
    "        yearam  \n",
    "        menrat7  \n",
    "        womrat7  \n",
    "        boyrat7  \n",
    "        girlrat7  \n",
    "        malrat7  \n",
    "        chilrat7  \n",
    "        jamcaspr  \n",
    "        vymrtrat"
   ]
  },
  {
   "cell_type": "code",
   "execution_count": 4,
   "metadata": {},
   "outputs": [
    {
     "data": {
      "text/plain": [
       "Index(['voyageid', 'evgreen', 'shipname', 'national', 'placcons', 'yrcons',\n",
       "       'placreg', 'yrreg', 'rig', 'tonnage', 'guns', 'ownera', 'ownerb',\n",
       "       'ownerc', 'ownerd', 'ownere', 'ownerf', 'ownerg', 'ownerh', 'owneri',\n",
       "       'ownerj', 'ownerk', 'ownerl', 'ownerm', 'ownern', 'ownero', 'ownerp',\n",
       "       'fate', 'resistance', 'plac1tra', 'plac2tra', 'plac3tra', 'npafttra',\n",
       "       'sla1port', 'adpsale1', 'adpsale2', 'portret', 'Date_dep', 'Date_buy',\n",
       "       'Date_leftAfr', 'Date_land1', 'Date_depam', 'Date_end', 'captaina',\n",
       "       'captainb', 'captainc', 'crew1', 'crew3', 'crewdied', 'slintend',\n",
       "       'ncar13', 'ncar15', 'ncar17', 'tslavesd', 'slaarriv', 'slas32',\n",
       "       'slas36', 'slas39', 'sourcea', 'sourceb', 'sourcec', 'sourced',\n",
       "       'sourcee', 'sourcef', 'sourceg', 'sourceh', 'sourcei', 'sourcej',\n",
       "       'sourcek', 'sourcel', 'sourcem', 'sourcen', 'sourceo', 'sourcep',\n",
       "       'sourceq', 'sourcer'],\n",
       "      dtype='object')"
      ]
     },
     "execution_count": 4,
     "metadata": {},
     "output_type": "execute_result"
    }
   ],
   "source": [
    "imp_var_index = [i for i, var in enumerate(df_tast.columns) if 'imp' == var[-3:]]\n",
    "rat7_var_index = [i for i, var in enumerate(df_tast.columns) if 'rat7' == var[-4:]]\n",
    "other_var_index = [i for i, var in enumerate(df_tast.columns) if 'tonmod' == var[-6:] or 'ate2' == var[-4:] \n",
    "                   or 'ate3' == var[-4:] or 'ate4' == var[-4:] or 'yearam' == var[-6:] \n",
    "                   or 'yearam' == var[-6:] or 'yearam' == var[-6:] or 'jamcaspr' == var[-8:] \n",
    "                   or 'vymrtrat' == var[-8:]]\n",
    "joint_imp_var_index = imp_var_index + rat7_var_index + other_var_index\n",
    "# print(joint_imp_var_index)\n",
    "# print(len(joint_imp_var_index))\n",
    "df_tast_noimp = df_tast.drop(df_tast.columns[joint_imp_var_index], axis=1) # drop imputed variables\n",
    "# print(len(df_tast_noimp.columns))\n",
    "df_tast_noimp.columns"
   ]
  },
  {
   "cell_type": "markdown",
   "metadata": {},
   "source": [
    "**Part 2: List of variables**:\n",
    "1. Technical variables:    \n",
    "    voyageid: Voyage identification number  \n",
    "    evgreen: Voyage in 1999 CD-ROM\n",
    "\n",
    "\n",
    "2. Data variables  \n",
    "    shipname: Name of vessel  \n",
    "    national: Country i n which ship registered  \n",
    "    placcons: Place where vessel constructed  \n",
    "    yrcons: Year of vessel’s construction  \n",
    "    placreg: Place where vessel registered  \n",
    "    yrreg: Year of vessel’s registration  \n",
    "    rig: Rig of vessel  \n",
    "    tonnage: Tonnage of vessel  \n",
    "    guns: Guns mounted  \n",
    "    ownera, ownerb, ownerc, ownerd, ownere, ownerf, ownerg, ownerh,owneri, ownerj, ownerk, ownerl, ownerm, ownern, ownero, ownerp: first to sixteenth owner of venture  \n",
    "    fate: Particular outcome of voyage  \n",
    "    resistance: African resistance  \n",
    "    plac1tra, plac2tra, plac3tra: First to third place of slave purchase  \n",
    "    npafttra: Port of call before Atlantic crossing  \n",
    "    sla1port, adpsale1, adpsale2: First to third place of slave landing  \n",
    "    portret: Place at which voyage ended  \n",
    "    Date_dep: Date that voyage began  \n",
    "    Date_buy: Date that slave purchase began  \n",
    "    Date_leftAfr: Date that vessel left last slaving port  \n",
    "    Date_land1: Date that slaves landed at first place  \n",
    "    Date_depam: Date ship left on return voyage  \n",
    "    Date_end: Date when voyage completed  \n",
    "    captaina, captainb, captainc: First to third captain’s name  \n",
    "    crew1: Crew at voyage outset  \n",
    "    crew3: Crew at first landing of slaves  \n",
    "    crewdied: Crew died during complete voyage  \n",
    "    slintend: Slaves intended from first port of purchase  \n",
    "    ncar13, ncar15, ncar17: Slaves carried from first to third port of purchase  \n",
    "    tslavesd: Total slaves on board at departure from last slaving port  \n",
    "    slaarriv: Total slaves arrived at first port of disembarkation  \n",
    "    slas32, slas36, slas39: Slaves disembarked at first to third place  \n",
    "    sourcea, sourceb, sourcec, sourced, sourcee, sourcef, sourceg, sourceh, sourcei, sourcej, sourcek, sourcel, sourcem, sourcen, sourceo, sourcep, sourceq, sourcer: First to eighteenth source of information  \n",
    "    "
   ]
  },
  {
   "cell_type": "markdown",
   "metadata": {},
   "source": [
    "**Exercise 2.** Estimating the total number of captives.\n",
    "\n",
    "1. We will try to estimate the number of people captured into slavery and forced through the middle passage.  What variable would you use to estimate the total number of captives taken from Africa?  Let me call this variable Var A in this problem statement.   How much of the data for Var A is missing?\n",
    "2. Create an initial estimate of the total number of captives taken from Africa by assuming that Var A is Missing Completely at Random.  You can simply divide the total count for the non-missing entries by the proportion of non-missing entries.  \n",
    "3. What other variables do you expect to be associated with Var A and why, select 2 top possibilities?  Visualize these associations using an appropriate plot.  Do you trust the answer to 2.2?  Why or why not?"
   ]
  },
  {
   "cell_type": "markdown",
   "metadata": {},
   "source": [
    "**Part 1:** I choose to use variable `tslavesd` as estimation for the total number of captives taken from Africa, as it describes the \"total slaves on board at departure from last slaving port\"."
   ]
  },
  {
   "cell_type": "code",
   "execution_count": 5,
   "metadata": {},
   "outputs": [
    {
     "data": {
      "text/plain": [
       "26734"
      ]
     },
     "execution_count": 5,
     "metadata": {},
     "output_type": "execute_result"
    }
   ],
   "source": [
    "var_A = 'tslavesd'\n",
    "df_tast[var_A].isnull().sum()"
   ]
  },
  {
   "cell_type": "code",
   "execution_count": 6,
   "metadata": {},
   "outputs": [
    {
     "data": {
      "text/plain": [
       "11569160.328337599"
      ]
     },
     "execution_count": 6,
     "metadata": {},
     "output_type": "execute_result"
    }
   ],
   "source": [
    "# Part 2\n",
    "num_tslavesd = df_tast[var_A].sum()\n",
    "portion = (df_tast.shape[0] - df_tast[var_A].isnull().sum()) / df_tast.shape[0]\n",
    "num_tslavesd / portion"
   ]
  },
  {
   "cell_type": "markdown",
   "metadata": {},
   "source": [
    "From the estimation above, the initial estimate of the total number of captives taken from Africa = 11569160."
   ]
  },
  {
   "cell_type": "code",
   "execution_count": 13,
   "metadata": {},
   "outputs": [
    {
     "name": "stdout",
     "output_type": "stream",
     "text": [
      "voyageid     -0.125522\n",
      "evgreen            NaN\n",
      "national     -0.186564\n",
      "placcons     -0.016980\n",
      "yrcons        0.196200\n",
      "placreg      -0.325114\n",
      "yrreg         0.146558\n",
      "rig           0.113026\n",
      "tonnage       0.540108\n",
      "guns          0.526388\n",
      "fate         -0.156838\n",
      "resistance   -0.077623\n",
      "plac1tra      0.170587\n",
      "plac2tra      0.326746\n",
      "plac3tra      0.297660\n",
      "npafttra     -0.023067\n",
      "sla1port      0.246330\n",
      "adpsale1      0.140201\n",
      "adpsale2      0.331953\n",
      "portret      -0.184949\n",
      "crew1         0.522192\n",
      "crew3         0.347957\n",
      "crewdied      0.199745\n",
      "slintend      0.831760\n",
      "ncar13        0.810653\n",
      "ncar15        0.572813\n",
      "ncar17        0.702715\n",
      "tslavesd      1.000000\n",
      "slaarriv      0.937504\n",
      "slas32        0.783066\n",
      "slas36        0.623793\n",
      "slas39        0.629987\n",
      "Name: tslavesd, dtype: float64\n"
     ]
    },
    {
     "data": {
      "text/html": [
       "<div>\n",
       "<style scoped>\n",
       "    .dataframe tbody tr th:only-of-type {\n",
       "        vertical-align: middle;\n",
       "    }\n",
       "\n",
       "    .dataframe tbody tr th {\n",
       "        vertical-align: top;\n",
       "    }\n",
       "\n",
       "    .dataframe thead th {\n",
       "        text-align: right;\n",
       "    }\n",
       "</style>\n",
       "<table border=\"1\" class=\"dataframe\">\n",
       "  <thead>\n",
       "    <tr style=\"text-align: right;\">\n",
       "      <th></th>\n",
       "      <th>corr_var_A</th>\n",
       "    </tr>\n",
       "  </thead>\n",
       "  <tbody>\n",
       "    <tr>\n",
       "      <th>voyageid</th>\n",
       "      <td>-0.125522</td>\n",
       "    </tr>\n",
       "    <tr>\n",
       "      <th>evgreen</th>\n",
       "      <td>NaN</td>\n",
       "    </tr>\n",
       "    <tr>\n",
       "      <th>national</th>\n",
       "      <td>-0.186564</td>\n",
       "    </tr>\n",
       "    <tr>\n",
       "      <th>placcons</th>\n",
       "      <td>-0.016980</td>\n",
       "    </tr>\n",
       "    <tr>\n",
       "      <th>yrcons</th>\n",
       "      <td>0.196200</td>\n",
       "    </tr>\n",
       "    <tr>\n",
       "      <th>placreg</th>\n",
       "      <td>-0.325114</td>\n",
       "    </tr>\n",
       "    <tr>\n",
       "      <th>yrreg</th>\n",
       "      <td>0.146558</td>\n",
       "    </tr>\n",
       "    <tr>\n",
       "      <th>rig</th>\n",
       "      <td>0.113026</td>\n",
       "    </tr>\n",
       "    <tr>\n",
       "      <th>tonnage</th>\n",
       "      <td>0.540108</td>\n",
       "    </tr>\n",
       "    <tr>\n",
       "      <th>guns</th>\n",
       "      <td>0.526388</td>\n",
       "    </tr>\n",
       "    <tr>\n",
       "      <th>fate</th>\n",
       "      <td>-0.156838</td>\n",
       "    </tr>\n",
       "    <tr>\n",
       "      <th>resistance</th>\n",
       "      <td>-0.077623</td>\n",
       "    </tr>\n",
       "    <tr>\n",
       "      <th>plac1tra</th>\n",
       "      <td>0.170587</td>\n",
       "    </tr>\n",
       "    <tr>\n",
       "      <th>plac2tra</th>\n",
       "      <td>0.326746</td>\n",
       "    </tr>\n",
       "    <tr>\n",
       "      <th>plac3tra</th>\n",
       "      <td>0.297660</td>\n",
       "    </tr>\n",
       "    <tr>\n",
       "      <th>npafttra</th>\n",
       "      <td>-0.023067</td>\n",
       "    </tr>\n",
       "    <tr>\n",
       "      <th>sla1port</th>\n",
       "      <td>0.246330</td>\n",
       "    </tr>\n",
       "    <tr>\n",
       "      <th>adpsale1</th>\n",
       "      <td>0.140201</td>\n",
       "    </tr>\n",
       "    <tr>\n",
       "      <th>adpsale2</th>\n",
       "      <td>0.331953</td>\n",
       "    </tr>\n",
       "    <tr>\n",
       "      <th>portret</th>\n",
       "      <td>-0.184949</td>\n",
       "    </tr>\n",
       "    <tr>\n",
       "      <th>crew1</th>\n",
       "      <td>0.522192</td>\n",
       "    </tr>\n",
       "    <tr>\n",
       "      <th>crew3</th>\n",
       "      <td>0.347957</td>\n",
       "    </tr>\n",
       "    <tr>\n",
       "      <th>crewdied</th>\n",
       "      <td>0.199745</td>\n",
       "    </tr>\n",
       "    <tr>\n",
       "      <th>slintend</th>\n",
       "      <td>0.831760</td>\n",
       "    </tr>\n",
       "    <tr>\n",
       "      <th>ncar13</th>\n",
       "      <td>0.810653</td>\n",
       "    </tr>\n",
       "    <tr>\n",
       "      <th>ncar15</th>\n",
       "      <td>0.572813</td>\n",
       "    </tr>\n",
       "    <tr>\n",
       "      <th>ncar17</th>\n",
       "      <td>0.702715</td>\n",
       "    </tr>\n",
       "    <tr>\n",
       "      <th>tslavesd</th>\n",
       "      <td>1.000000</td>\n",
       "    </tr>\n",
       "    <tr>\n",
       "      <th>slaarriv</th>\n",
       "      <td>0.937504</td>\n",
       "    </tr>\n",
       "    <tr>\n",
       "      <th>slas32</th>\n",
       "      <td>0.783066</td>\n",
       "    </tr>\n",
       "    <tr>\n",
       "      <th>slas36</th>\n",
       "      <td>0.623793</td>\n",
       "    </tr>\n",
       "    <tr>\n",
       "      <th>slas39</th>\n",
       "      <td>0.629987</td>\n",
       "    </tr>\n",
       "  </tbody>\n",
       "</table>\n",
       "</div>"
      ],
      "text/plain": [
       "            corr_var_A\n",
       "voyageid     -0.125522\n",
       "evgreen            NaN\n",
       "national     -0.186564\n",
       "placcons     -0.016980\n",
       "yrcons        0.196200\n",
       "placreg      -0.325114\n",
       "yrreg         0.146558\n",
       "rig           0.113026\n",
       "tonnage       0.540108\n",
       "guns          0.526388\n",
       "fate         -0.156838\n",
       "resistance   -0.077623\n",
       "plac1tra      0.170587\n",
       "plac2tra      0.326746\n",
       "plac3tra      0.297660\n",
       "npafttra     -0.023067\n",
       "sla1port      0.246330\n",
       "adpsale1      0.140201\n",
       "adpsale2      0.331953\n",
       "portret      -0.184949\n",
       "crew1         0.522192\n",
       "crew3         0.347957\n",
       "crewdied      0.199745\n",
       "slintend      0.831760\n",
       "ncar13        0.810653\n",
       "ncar15        0.572813\n",
       "ncar17        0.702715\n",
       "tslavesd      1.000000\n",
       "slaarriv      0.937504\n",
       "slas32        0.783066\n",
       "slas36        0.623793\n",
       "slas39        0.629987"
      ]
     },
     "execution_count": 13,
     "metadata": {},
     "output_type": "execute_result"
    }
   ],
   "source": [
    "# Part 3\n",
    "# find the correlation between Var_A and all variables \n",
    "corr_var_a = df_tast_noimp[df_tast_noimp.columns[:]].corr()[var_A][:]\n",
    "print(corr_var_a[0:])\n",
    "df_corr_vara = pd.DataFrame(corr_var_a).rename(columns={var_A: 'corr_var_A'})\n",
    "df_corr_vara"
   ]
  },
  {
   "cell_type": "code",
   "execution_count": 8,
   "metadata": {},
   "outputs": [
    {
     "name": "stderr",
     "output_type": "stream",
     "text": [
      "/usr/local/lib/python3.7/site-packages/plotnine/layer.py:517: MatplotlibDeprecationWarning: isinstance(..., numbers.Number)\n",
      "  return not cbook.iterable(value) and (cbook.is_numlike(value) or\n",
      "/usr/local/lib/python3.7/site-packages/plotnine/layer.py:517: MatplotlibDeprecationWarning: isinstance(..., numbers.Number)\n",
      "  return not cbook.iterable(value) and (cbook.is_numlike(value) or\n"
     ]
    },
    {
     "ename": "PlotnineError",
     "evalue": "\"Could not evaluate the 'x' mapping: 'variables' (original error: name 'variables' is not defined)\"",
     "output_type": "error",
     "traceback": [
      "\u001b[0;31m---------------------------------------------------------------------------\u001b[0m",
      "\u001b[0;31mNameError\u001b[0m                                 Traceback (most recent call last)",
      "\u001b[0;32m/usr/local/lib/python3.7/site-packages/plotnine/layer.py\u001b[0m in \u001b[0;36mcompute_aesthetics\u001b[0;34m(self, plot)\u001b[0m\n\u001b[1;32m    308\u001b[0m                     \u001b[0;32mtry\u001b[0m\u001b[0;34m:\u001b[0m\u001b[0;34m\u001b[0m\u001b[0;34m\u001b[0m\u001b[0m\n\u001b[0;32m--> 309\u001b[0;31m                         \u001b[0mnew_val\u001b[0m \u001b[0;34m=\u001b[0m \u001b[0menv\u001b[0m\u001b[0;34m.\u001b[0m\u001b[0meval\u001b[0m\u001b[0;34m(\u001b[0m\u001b[0mcol\u001b[0m\u001b[0;34m,\u001b[0m \u001b[0minner_namespace\u001b[0m\u001b[0;34m=\u001b[0m\u001b[0mdata\u001b[0m\u001b[0;34m)\u001b[0m\u001b[0;34m\u001b[0m\u001b[0;34m\u001b[0m\u001b[0m\n\u001b[0m\u001b[1;32m    310\u001b[0m                     \u001b[0;32mexcept\u001b[0m \u001b[0mException\u001b[0m \u001b[0;32mas\u001b[0m \u001b[0me\u001b[0m\u001b[0;34m:\u001b[0m\u001b[0;34m\u001b[0m\u001b[0;34m\u001b[0m\u001b[0m\n",
      "\u001b[0;32m/usr/local/lib/python3.7/site-packages/patsy/eval.py\u001b[0m in \u001b[0;36meval\u001b[0;34m(self, expr, source_name, inner_namespace)\u001b[0m\n\u001b[1;32m    165\u001b[0m         return eval(code, {}, VarLookupDict([inner_namespace]\n\u001b[0;32m--> 166\u001b[0;31m                                             + self._namespaces))\n\u001b[0m\u001b[1;32m    167\u001b[0m \u001b[0;34m\u001b[0m\u001b[0m\n",
      "\u001b[0;32m<string>\u001b[0m in \u001b[0;36m<module>\u001b[0;34m\u001b[0m\n",
      "\u001b[0;31mNameError\u001b[0m: name 'variables' is not defined",
      "\nDuring handling of the above exception, another exception occurred:\n",
      "\u001b[0;31mPlotnineError\u001b[0m                             Traceback (most recent call last)",
      "\u001b[0;32m/usr/local/lib/python3.7/site-packages/IPython/core/formatters.py\u001b[0m in \u001b[0;36m__call__\u001b[0;34m(self, obj)\u001b[0m\n\u001b[1;32m    700\u001b[0m                 \u001b[0mtype_pprinters\u001b[0m\u001b[0;34m=\u001b[0m\u001b[0mself\u001b[0m\u001b[0;34m.\u001b[0m\u001b[0mtype_printers\u001b[0m\u001b[0;34m,\u001b[0m\u001b[0;34m\u001b[0m\u001b[0;34m\u001b[0m\u001b[0m\n\u001b[1;32m    701\u001b[0m                 deferred_pprinters=self.deferred_printers)\n\u001b[0;32m--> 702\u001b[0;31m             \u001b[0mprinter\u001b[0m\u001b[0;34m.\u001b[0m\u001b[0mpretty\u001b[0m\u001b[0;34m(\u001b[0m\u001b[0mobj\u001b[0m\u001b[0;34m)\u001b[0m\u001b[0;34m\u001b[0m\u001b[0;34m\u001b[0m\u001b[0m\n\u001b[0m\u001b[1;32m    703\u001b[0m             \u001b[0mprinter\u001b[0m\u001b[0;34m.\u001b[0m\u001b[0mflush\u001b[0m\u001b[0;34m(\u001b[0m\u001b[0;34m)\u001b[0m\u001b[0;34m\u001b[0m\u001b[0;34m\u001b[0m\u001b[0m\n\u001b[1;32m    704\u001b[0m             \u001b[0;32mreturn\u001b[0m \u001b[0mstream\u001b[0m\u001b[0;34m.\u001b[0m\u001b[0mgetvalue\u001b[0m\u001b[0;34m(\u001b[0m\u001b[0;34m)\u001b[0m\u001b[0;34m\u001b[0m\u001b[0;34m\u001b[0m\u001b[0m\n",
      "\u001b[0;32m/usr/local/lib/python3.7/site-packages/IPython/lib/pretty.py\u001b[0m in \u001b[0;36mpretty\u001b[0;34m(self, obj)\u001b[0m\n\u001b[1;32m    400\u001b[0m                         \u001b[0;32mif\u001b[0m \u001b[0mcls\u001b[0m \u001b[0;32mis\u001b[0m \u001b[0;32mnot\u001b[0m \u001b[0mobject\u001b[0m\u001b[0;31m \u001b[0m\u001b[0;31m\\\u001b[0m\u001b[0;34m\u001b[0m\u001b[0;34m\u001b[0m\u001b[0m\n\u001b[1;32m    401\u001b[0m                                 \u001b[0;32mand\u001b[0m \u001b[0mcallable\u001b[0m\u001b[0;34m(\u001b[0m\u001b[0mcls\u001b[0m\u001b[0;34m.\u001b[0m\u001b[0m__dict__\u001b[0m\u001b[0;34m.\u001b[0m\u001b[0mget\u001b[0m\u001b[0;34m(\u001b[0m\u001b[0;34m'__repr__'\u001b[0m\u001b[0;34m)\u001b[0m\u001b[0;34m)\u001b[0m\u001b[0;34m:\u001b[0m\u001b[0;34m\u001b[0m\u001b[0;34m\u001b[0m\u001b[0m\n\u001b[0;32m--> 402\u001b[0;31m                             \u001b[0;32mreturn\u001b[0m \u001b[0m_repr_pprint\u001b[0m\u001b[0;34m(\u001b[0m\u001b[0mobj\u001b[0m\u001b[0;34m,\u001b[0m \u001b[0mself\u001b[0m\u001b[0;34m,\u001b[0m \u001b[0mcycle\u001b[0m\u001b[0;34m)\u001b[0m\u001b[0;34m\u001b[0m\u001b[0;34m\u001b[0m\u001b[0m\n\u001b[0m\u001b[1;32m    403\u001b[0m \u001b[0;34m\u001b[0m\u001b[0m\n\u001b[1;32m    404\u001b[0m             \u001b[0;32mreturn\u001b[0m \u001b[0m_default_pprint\u001b[0m\u001b[0;34m(\u001b[0m\u001b[0mobj\u001b[0m\u001b[0;34m,\u001b[0m \u001b[0mself\u001b[0m\u001b[0;34m,\u001b[0m \u001b[0mcycle\u001b[0m\u001b[0;34m)\u001b[0m\u001b[0;34m\u001b[0m\u001b[0;34m\u001b[0m\u001b[0m\n",
      "\u001b[0;32m/usr/local/lib/python3.7/site-packages/IPython/lib/pretty.py\u001b[0m in \u001b[0;36m_repr_pprint\u001b[0;34m(obj, p, cycle)\u001b[0m\n\u001b[1;32m    695\u001b[0m     \u001b[0;34m\"\"\"A pprint that just redirects to the normal repr function.\"\"\"\u001b[0m\u001b[0;34m\u001b[0m\u001b[0;34m\u001b[0m\u001b[0m\n\u001b[1;32m    696\u001b[0m     \u001b[0;31m# Find newlines and replace them with p.break_()\u001b[0m\u001b[0;34m\u001b[0m\u001b[0;34m\u001b[0m\u001b[0;34m\u001b[0m\u001b[0m\n\u001b[0;32m--> 697\u001b[0;31m     \u001b[0moutput\u001b[0m \u001b[0;34m=\u001b[0m \u001b[0mrepr\u001b[0m\u001b[0;34m(\u001b[0m\u001b[0mobj\u001b[0m\u001b[0;34m)\u001b[0m\u001b[0;34m\u001b[0m\u001b[0;34m\u001b[0m\u001b[0m\n\u001b[0m\u001b[1;32m    698\u001b[0m     \u001b[0;32mfor\u001b[0m \u001b[0midx\u001b[0m\u001b[0;34m,\u001b[0m\u001b[0moutput_line\u001b[0m \u001b[0;32min\u001b[0m \u001b[0menumerate\u001b[0m\u001b[0;34m(\u001b[0m\u001b[0moutput\u001b[0m\u001b[0;34m.\u001b[0m\u001b[0msplitlines\u001b[0m\u001b[0;34m(\u001b[0m\u001b[0;34m)\u001b[0m\u001b[0;34m)\u001b[0m\u001b[0;34m:\u001b[0m\u001b[0;34m\u001b[0m\u001b[0;34m\u001b[0m\u001b[0m\n\u001b[1;32m    699\u001b[0m         \u001b[0;32mif\u001b[0m \u001b[0midx\u001b[0m\u001b[0;34m:\u001b[0m\u001b[0;34m\u001b[0m\u001b[0;34m\u001b[0m\u001b[0m\n",
      "\u001b[0;32m/usr/local/lib/python3.7/site-packages/plotnine/ggplot.py\u001b[0m in \u001b[0;36m__repr__\u001b[0;34m(self)\u001b[0m\n\u001b[1;32m     93\u001b[0m         \u001b[0;31m# in the jupyter notebook.\u001b[0m\u001b[0;34m\u001b[0m\u001b[0;34m\u001b[0m\u001b[0;34m\u001b[0m\u001b[0m\n\u001b[1;32m     94\u001b[0m         \u001b[0;32mif\u001b[0m \u001b[0;32mnot\u001b[0m \u001b[0mself\u001b[0m\u001b[0;34m.\u001b[0m\u001b[0mfigure\u001b[0m\u001b[0;34m:\u001b[0m\u001b[0;34m\u001b[0m\u001b[0;34m\u001b[0m\u001b[0m\n\u001b[0;32m---> 95\u001b[0;31m             \u001b[0mself\u001b[0m\u001b[0;34m.\u001b[0m\u001b[0mdraw\u001b[0m\u001b[0;34m(\u001b[0m\u001b[0;34m)\u001b[0m\u001b[0;34m\u001b[0m\u001b[0;34m\u001b[0m\u001b[0m\n\u001b[0m\u001b[1;32m     96\u001b[0m         \u001b[0mplt\u001b[0m\u001b[0;34m.\u001b[0m\u001b[0mshow\u001b[0m\u001b[0;34m(\u001b[0m\u001b[0;34m)\u001b[0m\u001b[0;34m\u001b[0m\u001b[0;34m\u001b[0m\u001b[0m\n\u001b[1;32m     97\u001b[0m         \u001b[0;32mreturn\u001b[0m \u001b[0;34m'<ggplot: (%d)>'\u001b[0m \u001b[0;34m%\u001b[0m \u001b[0mself\u001b[0m\u001b[0;34m.\u001b[0m\u001b[0m__hash__\u001b[0m\u001b[0;34m(\u001b[0m\u001b[0;34m)\u001b[0m\u001b[0;34m\u001b[0m\u001b[0;34m\u001b[0m\u001b[0m\n",
      "\u001b[0;32m/usr/local/lib/python3.7/site-packages/plotnine/ggplot.py\u001b[0m in \u001b[0;36mdraw\u001b[0;34m(self, return_ggplot)\u001b[0m\n\u001b[1;32m    186\u001b[0m         \u001b[0;31m# new frames knowing that they are separate from the original.\u001b[0m\u001b[0;34m\u001b[0m\u001b[0;34m\u001b[0m\u001b[0;34m\u001b[0m\u001b[0m\n\u001b[1;32m    187\u001b[0m         \u001b[0;32mwith\u001b[0m \u001b[0mpd\u001b[0m\u001b[0;34m.\u001b[0m\u001b[0moption_context\u001b[0m\u001b[0;34m(\u001b[0m\u001b[0;34m'mode.chained_assignment'\u001b[0m\u001b[0;34m,\u001b[0m \u001b[0;32mNone\u001b[0m\u001b[0;34m)\u001b[0m\u001b[0;34m:\u001b[0m\u001b[0;34m\u001b[0m\u001b[0;34m\u001b[0m\u001b[0m\n\u001b[0;32m--> 188\u001b[0;31m             \u001b[0;32mreturn\u001b[0m \u001b[0mself\u001b[0m\u001b[0;34m.\u001b[0m\u001b[0m_draw\u001b[0m\u001b[0;34m(\u001b[0m\u001b[0mreturn_ggplot\u001b[0m\u001b[0;34m)\u001b[0m\u001b[0;34m\u001b[0m\u001b[0;34m\u001b[0m\u001b[0m\n\u001b[0m\u001b[1;32m    189\u001b[0m \u001b[0;34m\u001b[0m\u001b[0m\n\u001b[1;32m    190\u001b[0m     \u001b[0;32mdef\u001b[0m \u001b[0m_draw\u001b[0m\u001b[0;34m(\u001b[0m\u001b[0mself\u001b[0m\u001b[0;34m,\u001b[0m \u001b[0mreturn_ggplot\u001b[0m\u001b[0;34m=\u001b[0m\u001b[0;32mFalse\u001b[0m\u001b[0;34m)\u001b[0m\u001b[0;34m:\u001b[0m\u001b[0;34m\u001b[0m\u001b[0;34m\u001b[0m\u001b[0m\n",
      "\u001b[0;32m/usr/local/lib/python3.7/site-packages/plotnine/ggplot.py\u001b[0m in \u001b[0;36m_draw\u001b[0;34m(self, return_ggplot)\u001b[0m\n\u001b[1;32m    193\u001b[0m         \u001b[0;31m# assign a default theme\u001b[0m\u001b[0;34m\u001b[0m\u001b[0;34m\u001b[0m\u001b[0;34m\u001b[0m\u001b[0m\n\u001b[1;32m    194\u001b[0m         \u001b[0mself\u001b[0m \u001b[0;34m=\u001b[0m \u001b[0mdeepcopy\u001b[0m\u001b[0;34m(\u001b[0m\u001b[0mself\u001b[0m\u001b[0;34m)\u001b[0m\u001b[0;34m\u001b[0m\u001b[0;34m\u001b[0m\u001b[0m\n\u001b[0;32m--> 195\u001b[0;31m         \u001b[0mself\u001b[0m\u001b[0;34m.\u001b[0m\u001b[0m_build\u001b[0m\u001b[0;34m(\u001b[0m\u001b[0;34m)\u001b[0m\u001b[0;34m\u001b[0m\u001b[0;34m\u001b[0m\u001b[0m\n\u001b[0m\u001b[1;32m    196\u001b[0m \u001b[0;34m\u001b[0m\u001b[0m\n\u001b[1;32m    197\u001b[0m         \u001b[0;31m# If no theme we use the default\u001b[0m\u001b[0;34m\u001b[0m\u001b[0;34m\u001b[0m\u001b[0;34m\u001b[0m\u001b[0m\n",
      "\u001b[0;32m/usr/local/lib/python3.7/site-packages/plotnine/ggplot.py\u001b[0m in \u001b[0;36m_build\u001b[0;34m(self)\u001b[0m\n\u001b[1;32m    290\u001b[0m         \u001b[0;31m# Compute aesthetics to produce data with generalised\u001b[0m\u001b[0;34m\u001b[0m\u001b[0;34m\u001b[0m\u001b[0;34m\u001b[0m\u001b[0m\n\u001b[1;32m    291\u001b[0m         \u001b[0;31m# variable names\u001b[0m\u001b[0;34m\u001b[0m\u001b[0;34m\u001b[0m\u001b[0;34m\u001b[0m\u001b[0m\n\u001b[0;32m--> 292\u001b[0;31m         \u001b[0mlayers\u001b[0m\u001b[0;34m.\u001b[0m\u001b[0mcompute_aesthetics\u001b[0m\u001b[0;34m(\u001b[0m\u001b[0mself\u001b[0m\u001b[0;34m)\u001b[0m\u001b[0;34m\u001b[0m\u001b[0;34m\u001b[0m\u001b[0m\n\u001b[0m\u001b[1;32m    293\u001b[0m \u001b[0;34m\u001b[0m\u001b[0m\n\u001b[1;32m    294\u001b[0m         \u001b[0;31m# Transform data using all scales\u001b[0m\u001b[0;34m\u001b[0m\u001b[0;34m\u001b[0m\u001b[0;34m\u001b[0m\u001b[0m\n",
      "\u001b[0;32m/usr/local/lib/python3.7/site-packages/plotnine/layer.py\u001b[0m in \u001b[0;36mcompute_aesthetics\u001b[0;34m(self, plot)\u001b[0m\n\u001b[1;32m     78\u001b[0m     \u001b[0;32mdef\u001b[0m \u001b[0mcompute_aesthetics\u001b[0m\u001b[0;34m(\u001b[0m\u001b[0mself\u001b[0m\u001b[0;34m,\u001b[0m \u001b[0mplot\u001b[0m\u001b[0;34m)\u001b[0m\u001b[0;34m:\u001b[0m\u001b[0;34m\u001b[0m\u001b[0;34m\u001b[0m\u001b[0m\n\u001b[1;32m     79\u001b[0m         \u001b[0;32mfor\u001b[0m \u001b[0ml\u001b[0m \u001b[0;32min\u001b[0m \u001b[0mself\u001b[0m\u001b[0;34m:\u001b[0m\u001b[0;34m\u001b[0m\u001b[0;34m\u001b[0m\u001b[0m\n\u001b[0;32m---> 80\u001b[0;31m             \u001b[0ml\u001b[0m\u001b[0;34m.\u001b[0m\u001b[0mcompute_aesthetics\u001b[0m\u001b[0;34m(\u001b[0m\u001b[0mplot\u001b[0m\u001b[0;34m)\u001b[0m\u001b[0;34m\u001b[0m\u001b[0;34m\u001b[0m\u001b[0m\n\u001b[0m\u001b[1;32m     81\u001b[0m \u001b[0;34m\u001b[0m\u001b[0m\n\u001b[1;32m     82\u001b[0m     \u001b[0;32mdef\u001b[0m \u001b[0mcompute_statistic\u001b[0m\u001b[0;34m(\u001b[0m\u001b[0mself\u001b[0m\u001b[0;34m,\u001b[0m \u001b[0mlayout\u001b[0m\u001b[0;34m)\u001b[0m\u001b[0;34m:\u001b[0m\u001b[0;34m\u001b[0m\u001b[0;34m\u001b[0m\u001b[0m\n",
      "\u001b[0;32m/usr/local/lib/python3.7/site-packages/plotnine/layer.py\u001b[0m in \u001b[0;36mcompute_aesthetics\u001b[0;34m(self, plot)\u001b[0m\n\u001b[1;32m    310\u001b[0m                     \u001b[0;32mexcept\u001b[0m \u001b[0mException\u001b[0m \u001b[0;32mas\u001b[0m \u001b[0me\u001b[0m\u001b[0;34m:\u001b[0m\u001b[0;34m\u001b[0m\u001b[0;34m\u001b[0m\u001b[0m\n\u001b[1;32m    311\u001b[0m                         raise PlotnineError(\n\u001b[0;32m--> 312\u001b[0;31m                             _TPL_EVAL_FAIL.format(ae, col, str(e)))\n\u001b[0m\u001b[1;32m    313\u001b[0m \u001b[0;34m\u001b[0m\u001b[0m\n\u001b[1;32m    314\u001b[0m                     \u001b[0;32mtry\u001b[0m\u001b[0;34m:\u001b[0m\u001b[0;34m\u001b[0m\u001b[0;34m\u001b[0m\u001b[0m\n",
      "\u001b[0;31mPlotnineError\u001b[0m: \"Could not evaluate the 'x' mapping: 'variables' (original error: name 'variables' is not defined)\""
     ]
    }
   ],
   "source": [
    "df_corr_vara = pd.DataFrame(corr_var_a).rename(columns={var_A: 'corr_var_A'})\n",
    "index = [i for i in range(len(df_corr_vara))]\n",
    "df_corr_vara['index'] = index\n",
    "df_corr_vara\n",
    "(ggplot(df_corr_vara, aes('variables', 'corr_var_A', fill='corr_var_A'))\n",
    " + geom_tile(aes(width=.95, height=.95))\n",
    " + geom_text(aes(label='corr_var_A'), size=10)\n",
    ")"
   ]
  },
  {
   "cell_type": "markdown",
   "metadata": {},
   "source": [
    "From the above plot, "
   ]
  },
  {
   "cell_type": "markdown",
   "metadata": {},
   "source": [
    "**Exercise 3.** Hot-deck imputation replaces missing data with similar entries.  We will use a stochastic hot-deck imputation method, which replaces the number captured into slavery (tslavesd) with a random voyage from the same decade.  (If there is only one voyage in that decade then ignore that record.)  Construct a function that performs this random imputation method, and outputs a Series with this new imputed variable.  Calculate the total imputed tslavesd variable 100 times by performing this random imputation method 100 times.  Report the standard error, which is the standard deviation of the total imputed, along with the mean of the 100 trials."
   ]
  },
  {
   "cell_type": "code",
   "execution_count": 27,
   "metadata": {},
   "outputs": [
    {
     "name": "stdout",
     "output_type": "stream",
     "text": [
      "9/9/1847\n",
      "1/1/1676\n",
      "9/9/1804\n",
      "1/1/1669\n"
     ]
    }
   ],
   "source": [
    "case = df_tast_noimp['Date_dep'].dropna()\n",
    "case2 = df_tast_noimp['Date_end'].dropna()\n",
    "print(case.max())\n",
    "print(case.min())\n",
    "print(case2.max())\n",
    "print(case2.min())"
   ]
  },
  {
   "cell_type": "code",
   "execution_count": 21,
   "metadata": {},
   "outputs": [],
   "source": [
    "def hot_deck_imp(df, col_name, new_col_name):\n",
    "    \"\"\" stochastic hot-deck imputation\n",
    "    replaces the number captured into slavery (tslavesd) with a random voyage from the same decade\n",
    "    \"\"\"\n",
    "    new_var = []\n",
    "    selectd_df = df[col_name]\n",
    "    pool = selectd_var.dropna()\n",
    "    new_df = selectd_df.apply(lambda x: np.random.choice(pool) if np.isnan(x) else x)\n",
    "    new_var.extend(new_df)\n",
    "    df[new_col_name] = new_var\n",
    "    return df\n",
    "\n",
    "def hot_deck_stat(df):\n",
    "    \"\"\" Report the standard errors\n",
    "    \"\"\"\n",
    "    return None"
   ]
  },
  {
   "cell_type": "markdown",
   "metadata": {},
   "source": [
    "**Exercise 4.** The flag that the ships flew.\n",
    "\n",
    "1. We want to understand the trends of the nationality of the slave ships (the flag that they flew under is in the national variable).  Subselect the values of `national` that have more than 100 voyages with that value.  \n",
    "2. Create a DataFrame that filters out the voyages where `national` does not have one of these values.  You should be retaining voyages with only these most common values.\n",
    "3. Create a variable, `flag`, that is a string of easily readable names for these values by looking them up in the pdf codebook.\n",
    "4. Using Plotnine, plot the counts of the voyages by flag as a function of voyage year.  Think about how best to display the count of a voyage by year and then how should you be including the flag variable.\n",
    "5. In this plot, what are the geometric elements and aesthetic mappings?  What other components of the grammar of graphics are you using?\n",
    "6. Do you observe any abrupt changes in the patterns of these counts for a given flag?  Investigate the cause for this change (using Google, etc.)."
   ]
  },
  {
   "cell_type": "code",
   "execution_count": null,
   "metadata": {},
   "outputs": [],
   "source": [
    "# 1 \n",
    "national_count = df_tast['national'].value_counts()\n",
    "national_count[national_count > 100]"
   ]
  },
  {
   "cell_type": "code",
   "execution_count": null,
   "metadata": {},
   "outputs": [],
   "source": [
    "# 2\n",
    "'''\n",
    "nation_select = \n",
    "sub_voyage = df[df['national'].isin(nation_select)]\n",
    "sub_voyage = common_voyage.reset_index(drop=True)\n",
    "sub_voyage.head()\n",
    "'''\n",
    "flag_df = df_tast[df_tast['national'].isin(national_count[national_count > 100].index)]\n",
    "flag_df"
   ]
  },
  {
   "cell_type": "code",
   "execution_count": null,
   "metadata": {},
   "outputs": [],
   "source": []
  },
  {
   "cell_type": "code",
   "execution_count": null,
   "metadata": {},
   "outputs": [],
   "source": [
    "# demo plot \n",
    "flag = ['Great Britain', 'Portugal', 'France', 'U.S.A', 'Spain', 'Netherlands', 'Brazil', 'Denmark']\n",
    "# !!! replacing national \n",
    "(ggplot(flag_df, aes(x='yearam', fill='factor(national)'))\n",
    " + geom_col(stat='count')\n",
    " + facet_wrap('~national')\n",
    " + scale_fill_discrete(name='Nation', labels=flag)\n",
    " + labs(x = 'Year', y = 'Voyages Total Count')\n",
    ")"
   ]
  },
  {
   "cell_type": "markdown",
   "metadata": {},
   "source": [
    "**Exercise 5.** Looking at some of these ships.\n",
    "\n",
    "1. Search for the slave ship mentioned in the following wikipedia article: https://en.wikipedia.org/wiki/Brookes_(ship) Hint: Look at all records of ships with 'Brook' in the name and try to match the characteristics to those described.  How many voyages for this ship are in the data (try to exclude ships with the same name)?\n",
    "2. Create a variable that is True if there was a resistance (like a slave revolt) on the ship.  Plot the density of ships as a function of year with and without revolts and compare these distributions.\n",
    "3. The movie Amistad was based on a real slave ship and slave uprising.  Read about it here: https://en.wikipedia.org/wiki/La_Amistad  Try to find this ship by searching for it by name and also searching for ships in the same 10 year period as this event with a slave resistance.  If you think you found it describe it, otherwise describe the events of another voyage that you did find.  "
   ]
  },
  {
   "cell_type": "code",
   "execution_count": null,
   "metadata": {},
   "outputs": [],
   "source": []
  },
  {
   "cell_type": "markdown",
   "metadata": {},
   "source": [
    "**Exercise 6.** Other patterns.\n",
    "\n",
    "1. The arrival and departure locations are quite detailed.  Look in the appendix of the codebook for the location codes.  Make a coarser version of both arrival and departure port variables (select just the last departure and first arrival) so that for example,  \n",
    "```\n",
    "30000 Caribbean 36100 Martinique 36101 Fort-Royale\n",
    "```\n",
    "is just encoded as '3' or Caribbean.\n",
    "2. Plot the trend of voyages as a function of arrival location.  What trends do you see?\n",
    "3. Do the same for departure location.\n",
    "4. Plot the ratio of captives that are men as a function of year.  Include a smoother to describe the over all trend.  Also include in the plot another possible confounding variable.\n",
    "5. Describe the geoms, aesthetic mappings, and other aspects of the plot."
   ]
  },
  {
   "cell_type": "code",
   "execution_count": null,
   "metadata": {},
   "outputs": [],
   "source": []
  }
 ],
 "metadata": {
  "kernelspec": {
   "display_name": "Python 3",
   "language": "python",
   "name": "python3"
  },
  "language_info": {
   "codemirror_mode": {
    "name": "ipython",
    "version": 3
   },
   "file_extension": ".py",
   "mimetype": "text/x-python",
   "name": "python",
   "nbconvert_exporter": "python",
   "pygments_lexer": "ipython3",
   "version": "3.7.3"
  }
 },
 "nbformat": 4,
 "nbformat_minor": 2
}
